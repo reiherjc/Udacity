{
 "cells": [
  {
   "cell_type": "markdown",
   "metadata": {},
   "source": [
    "# Project: Train a Quadcopter How to Fly\n",
    "\n",
    "Design an agent to fly a quadcopter, and then train it using a reinforcement learning algorithm of your choice! \n",
    "\n",
    "Try to apply the techniques you have learnt, but also feel free to come up with innovative ideas and test them."
   ]
  },
  {
   "cell_type": "code",
   "execution_count": 2,
   "metadata": {},
   "outputs": [
    {
     "name": "stdout",
     "output_type": "stream",
     "text": [
      "Requirement already up-to-date: keras==2.2.0 in /opt/conda/lib/python3.6/site-packages\n",
      "Requirement already up-to-date: keras-applications==1.0.2 in /opt/conda/lib/python3.6/site-packages (from keras==2.2.0)\n",
      "Requirement already up-to-date: numpy>=1.9.1 in /opt/conda/lib/python3.6/site-packages (from keras==2.2.0)\n",
      "Requirement already up-to-date: h5py in /opt/conda/lib/python3.6/site-packages (from keras==2.2.0)\n",
      "Requirement already up-to-date: keras-preprocessing==1.0.1 in /opt/conda/lib/python3.6/site-packages (from keras==2.2.0)\n",
      "Requirement already up-to-date: pyyaml in /opt/conda/lib/python3.6/site-packages (from keras==2.2.0)\n",
      "Requirement already up-to-date: scipy>=0.14 in /opt/conda/lib/python3.6/site-packages (from keras==2.2.0)\n",
      "Requirement already up-to-date: six>=1.9.0 in /opt/conda/lib/python3.6/site-packages (from keras==2.2.0)\n",
      "\u001b[33mYou are using pip version 9.0.1, however version 18.1 is available.\n",
      "You should consider upgrading via the 'pip install --upgrade pip' command.\u001b[0m\n"
     ]
    }
   ],
   "source": [
    "!pip install -U keras==2.2.0"
   ]
  },
  {
   "cell_type": "code",
   "execution_count": 3,
   "metadata": {},
   "outputs": [
    {
     "name": "stderr",
     "output_type": "stream",
     "text": [
      "Using TensorFlow backend.\n"
     ]
    }
   ],
   "source": [
    "import numpy as np\n",
    "import copy\n",
    "from keras import layers, models, optimizers\n",
    "from keras.models import Sequential\n",
    "from keras.layers import Dense\n",
    "from keras.layers import Activation\n",
    "from keras.layers import Dropout\n",
    "from keras.constraints import maxnorm\n",
    "from keras.optimizers import SGD\n",
    "\n",
    "from keras import backend as K\n",
    "import random\n",
    "from collections import namedtuple, deque\n",
    "from task import Task\n",
    "from agents.agent import ReplayBuffer, Actor, Critic, OUNoise,DDPG\n",
    "import sys\n",
    "import pandas as pd"
   ]
  },
  {
   "cell_type": "code",
   "execution_count": 4,
   "metadata": {},
   "outputs": [
    {
     "name": "stdout",
     "output_type": "stream",
     "text": [
      "Current Episode: 1500/1500"
     ]
    }
   ],
   "source": [
    "##############################\n",
    "# This cell trains the agent #\n",
    "##############################\n",
    "\n",
    "num_episodes = 1500\n",
    "target_pos = np.array([0., 0., 15., 0., 0.,0.])\n",
    "target_v = np.array([0,0,0])\n",
    "target_angular_v = np.array([0,0,0])\n",
    "init_pose = np.array([0., 0., 15., 0., 0., 0.])   # initial pose\n",
    "init_velocities = np.array([0., 0., 0.])          # initial velocities\n",
    "init_angle_velocities = np.array([0., 0., 0.])\n",
    "task = Task(init_pose=init_pose, init_velocities = init_velocities, init_angle_velocities=init_angle_velocities, target_pos=target_pos, target_v=target_v, target_angular_v=target_angular_v)\n",
    "agent = DDPG(task)\n",
    "\n",
    "\n",
    "episode_list=[]\n",
    "score_list=[]\n",
    "factor=0.001\n",
    "for i_episode in range(1, num_episodes+1):\n",
    "    state = agent.reset_episode() # start a new episode\n",
    "    while True:\n",
    "        action = agent.act(state) \n",
    "        next_state, reward, done = task.step(action)\n",
    "        clipped_reward=np.tanh(factor*(agent.total_reward+reward))-np.tanh(factor*(agent.total_reward)) # scaling reward such that |total reward|<1\n",
    "        agent.step(action, reward, clipped_reward, next_state, done)\n",
    "        state = next_state\n",
    "        if done:\n",
    "            score_list.append(agent.total_clipped_reward)\n",
    "            episode_list.append(i_episode)\n",
    "            #print(\"\\rEpisode = {:4d}, score = {:7.3f} (best = {:7.3f}), noise_scale = {}\".format(\n",
    "            #    i_episode, agent.score, agent.best_score, agent.noise_scale), end=\"\")  # [debug]\n",
    "            break\n",
    "    \n",
    "    sys.stdout.write('\\r'+'Current Episode: '+str(i_episode)+'/'+str(num_episodes))\n",
    "    sys.stdout.flush()"
   ]
  },
  {
   "cell_type": "markdown",
   "metadata": {
    "collapsed": true
   },
   "source": [
    "## Plot the Rewards\n",
    "\n",
    "Once you are satisfied with your performance, plot the episode rewards, either from a single run, or averaged over multiple runs. "
   ]
  },
  {
   "cell_type": "code",
   "execution_count": 6,
   "metadata": {},
   "outputs": [
    {
     "data": {
      "image/png": "[encoded data removed]",
      "text/plain": [
       "<matplotlib.figure.Figure at 0x7f4bdcccfa90>"
      ]
     },
     "metadata": {
      "needs_background": "light"
     },
     "output_type": "display_data"
    }
   ],
   "source": [
    "#######################################################\n",
    "# This cell plots rewards per episode during Training #\n",
    "#######################################################\n",
    "import matplotlib.pyplot as plt\n",
    "plt.plot(episode_list, score_list, label='Total Reward per Epsiode during training')\n",
    "plt.legend()\n",
    "plt.show()"
   ]
  },
  {
   "cell_type": "code",
   "execution_count": 7,
   "metadata": {},
   "outputs": [
    {
     "name": "stdout",
     "output_type": "stream",
     "text": [
      "##############################################\n",
      "# Plot results  #\n",
      "##############################################\n"
     ]
    },
    {
     "data": {
      "image/png": "[encoded data removed]",
      "text/plain": [
       "<matplotlib.figure.Figure at 0x7f4be6ffda20>"
      ]
     },
     "metadata": {
      "needs_background": "light"
     },
     "output_type": "display_data"
    }
   ],
   "source": [
    "##################################################################\n",
    "# This cell runs one episodee trained agent for plotting results # \n",
    "##################################################################\n",
    "%load_ext autoreload\n",
    "%autoreload 2\n",
    "  \n",
    "import csv\n",
    "\n",
    "import numpy as np\n",
    "from task import Task\n",
    "\n",
    "# Modify the values below to give the quadcopter a different starting position.\n",
    "runtime = 5.                                     # time limit of the episode\n",
    "init_pose = np.array([0., 0., 15., 0., 0., 0.])   # initial pose\n",
    "init_velocities = np.array([0., 0., 0.])         # initial velocities\n",
    "init_angle_velocities = np.array([0., 0., 0.])   # initial angle velocities\n",
    "\n",
    "file_output = 'data.txt'                         # file name for saved results\n",
    "\n",
    "# Setup\n",
    "task = Task(init_pose=init_pose, init_velocities = init_velocities, init_angle_velocities=init_angle_velocities, target_pos=target_pos, target_v=target_v, target_angular_v=target_angular_v, runtime=runtime)\n",
    "done = False\n",
    "labels = ['time', 'x', 'y', 'z', 'phi', 'theta', 'psi', 'x_velocity',\n",
    "          'y_velocity', 'z_velocity', 'phi_velocity', 'theta_velocity',\n",
    "          'psi_velocity', 'rotor_speed1', 'rotor_speed2', 'rotor_speed3', 'rotor_speed4', 'reward']\n",
    "results = {x : [] for x in labels}\n",
    "\n",
    "# Run the simulation, and save the results.\n",
    "with open(file_output, 'w') as csvfile:\n",
    "    writer = csv.writer(csvfile)\n",
    "    writer.writerow(labels)\n",
    "    agent.total_reward = 0\n",
    "    agent.total_clipped_reward = 0\n",
    "    while True:\n",
    "        rotor_speeds = agent.act(state)\n",
    "        state, reward, done = task.step(rotor_speeds)\n",
    "        clipped_reward=np.tanh(factor*(agent.total_reward+reward))-np.tanh(factor*(agent.total_reward)) # scaling reward such that |total reward|<1\n",
    "        agent.total_reward+=reward\n",
    "        agent.total_clipped_reward+=clipped_reward\n",
    "        to_write = [task.sim.time] + list(task.sim.pose) + list(task.sim.v) + list(task.sim.angular_v) + list(rotor_speeds)+[agent.total_clipped_reward]\n",
    "        for ii in range(len(labels)):\n",
    "            results[labels[ii]].append(to_write[ii])\n",
    "        writer.writerow(to_write)\n",
    "        if done:\n",
    "            break   \n",
    "\n",
    "\n",
    "###############################################\n",
    "# This block is for the plotting              #\n",
    "###############################################\n",
    "import matplotlib.pyplot as plt\n",
    "%matplotlib inline\n",
    "\n",
    "\n",
    "\n",
    "\n",
    "print('##############################################')\n",
    "print('# Plot results  #')\n",
    "print('##############################################')\n",
    "plt.subplot(2,1,1)\n",
    "plt.plot(results['time'], results['x'], label='x')\n",
    "plt.plot(results['time'], results['y'], label='y')\n",
    "plt.plot(results['time'], results['z'], label='z')\n",
    "plt.legend()\n",
    "\n",
    "\n",
    "plt.subplot(2,1,2)\n",
    "plt.plot(results['time'], results['reward'], label='total clipped reward')\n",
    "plt.legend()\n",
    "\n",
    "plt.show()"
   ]
  },
  {
   "cell_type": "markdown",
   "metadata": {
    "collapsed": true
   },
   "source": [
    "## Reflections\n",
    "\n",
    "**Question 1**: Describe the task that you specified in `task.py`.  How did you design the reward function?\n",
    "\n",
    "**Answer**:\n",
    "This is my second submission. I followed the advice of the reviewer to let the quadcopter start at posion (x,y,z)= (0,0,10) set the task to hover in this position.\n",
    "Following the reviewers advice the reward now is positve in a radius of 2 around the target point, and negative outside this radius. It is more negative if the copter crosses z=0 line. This reward function has its maximum in the desired state. The reward is clipped with a tanh function according to the reviewers advice."
   ]
  },
  {
   "cell_type": "markdown",
   "metadata": {},
   "source": [
    "**Question 2**: Discuss your agent briefly, using the following questions as a guide:\n",
    "\n",
    "1. What learning algorithm(s) did you try? What worked best for you?\n",
    "2. What was your final choice of hyperparameters (such as $\\alpha$, $\\gamma$, $\\epsilon$, etc.)?\n",
    "3. What neural network architecture did you use (if any)? Specify layers, sizes, activation functions, etc.\n",
    "\n",
    "**Answer**:\n",
    "1. I used the provided DDPG agent ,i,e, an actor critic method. THis seems the best solution since the statespace and the action a space are continuous.\n",
    "\n",
    "2. I chose the following hyper parameters:\n",
    "   For the Uhlmann Noise:\n",
    "        mu = 0\n",
    "        theta = 0.15\n",
    "        sigma = 0.2\n",
    "\n",
    "   For the replay memory\n",
    "        buffer_size = 100000\n",
    "        batch_size = 64\n",
    "\n",
    "   Agent parameters\n",
    "        gamma = 0.99 (discount factor)\n",
    "        tau = 0.01   (for update of target parameters)\n",
    "   \n",
    "   Paprameters fpr the neural networks of actor and critic are described below\n",
    "\n",
    "3. ***Neural network for the actor:***        \n",
    "        Input layer: size = state size, relu activation function\n",
    "        First hidden layer:  size=32, relu activation function\n",
    "        Second hidden layer: size=64, relu activation function\n",
    "        Third hidden layer: size=32, relu activation function\n",
    "        Output layer: size = action size, sigmoid activation function\n",
    "        \n",
    "        All layers have a maximum norm constraint (3) and a Dropout prbability of 0.2\n",
    "        Optimizer: Adam with learning rate=0.005, decay = 1e-6, momentum=0.9\n",
    "        \n",
    "***Neural Network for critic:***\n",
    "    the neural network has two seperate pathways for the actions and the states. Each pathway has two hidden layers with sizes 32 and 64 with relu activation. both pathways come together in a third hidden layer of size 64 with relu activation. Every layer has maxnorm regularization (maxnorm= 3) and a dropout probability of 0.2.\n"
   ]
  },
  {
   "cell_type": "markdown",
   "metadata": {},
   "source": [
    "**Question 3**: Using the episode rewards plot, discuss how the agent learned over time.\n",
    "\n",
    "- Was it an easy task to learn or hard?\n",
    "- Was there a gradual learning curve, or an aha moment?\n",
    "- How good was the final performance of the agent? (e.g. mean rewards over the last 10 episodes)\n",
    "\n",
    "**Answer**:\n",
    "The agent hovers for some time in the desired height. THe task is still hard to learn though since it cannot hold the height for a whole episode."
   ]
  },
  {
   "cell_type": "markdown",
   "metadata": {},
   "source": [
    "**Question 4**: Briefly summarize your experience working on this project. You can use the following prompts for ideas.\n",
    "\n",
    "- What was the hardest part of the project? (e.g. getting started, plotting, specifying the task, etc.)\n",
    "- Did you find anything interesting in how the quadcopter or your agent behaved?\n",
    "\n",
    "**Answer**:\n",
    "The agent is well suited for the continouus nature of the task, so the challenge for me was to find a good reward function and the right parameters,especially for the neural network. "
   ]
  }
 ],
 "metadata": {
  "anaconda-cloud": {},
  "kernelspec": {
   "display_name": "Python 3",
   "language": "python",
   "name": "python3"
  },
  "language_info": {
   "codemirror_mode": {
    "name": "ipython",
    "version": 3
   },
   "file_extension": ".py",
   "mimetype": "text/x-python",
   "name": "python",
   "nbconvert_exporter": "python",
   "pygments_lexer": "ipython3",
   "version": "3.6.5"
  }
 },
 "nbformat": 4,
 "nbformat_minor": 2
}
