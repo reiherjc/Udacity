{
 "cells": [
  {
   "cell_type": "markdown",
   "metadata": {
    "colab_type": "text",
    "id": "egosZWFpyG0k"
   },
   "source": [
    "# TV Script Generation\n",
    "In this project, you'll generate your own [Simpsons](https://en.wikipedia.org/wiki/The_Simpsons) TV scripts using RNNs.  You'll be using part of the [Simpsons dataset](https://www.kaggle.com/wcukierski/the-simpsons-by-the-data) of scripts from 27 seasons.  The Neural Network you'll build will generate a new TV script for a scene at [Moe's Tavern](https://simpsonswiki.com/wiki/Moe's_Tavern).\n",
    "## Get the Data\n",
    "The data is already provided for you.  You'll be using a subset of the original dataset.  It consists of only the scenes in Moe's Tavern.  This doesn't include other versions of the tavern, like \"Moe's Cavern\", \"Flaming Moe's\", \"Uncle Moe's Family Feed-Bag\", etc.."
   ]
  },
  {
   "cell_type": "code",
   "execution_count": 13,
   "metadata": {
    "colab": {
     "autoexec": {
      "startup": false,
      "wait_interval": 0
     },
     "base_uri": "https://localhost:8080/",
     "height": 140,
     "resources": {
      "http://localhost:8080/nbextensions/google.colab/files.js": {
       "data": "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",
       "headers": [
        [
         "content-type",
         "application/javascript"
        ]
       ],
       "ok": true,
       "status": 200,
       "status_text": ""
      }
     }
    },
    "colab_type": "code",
    "executionInfo": {
     "elapsed": 22527,
     "status": "ok",
     "timestamp": 1533828460133,
     "user": {
      "displayName": "Survesh Chauhan",
      "photoUrl": "//lh6.googleusercontent.com/-F6W-jg0U-Gs/AAAAAAAAAAI/AAAAAAAAAas/KgPXbC169F0/s50-c-k-no/photo.jpg",
      "userId": "117080553420494811795"
     },
     "user_tz": -330
    },
    "id": "uTZenAVWyLbd",
    "outputId": "ee4a5e92-28fe-477d-cf6d-d6883a3be254"
   },
   "outputs": [],
   "source": [
    "\"\"\"\n",
    "DON'T MODIFY ANYTHING IN THIS CELL\n",
    "\"\"\"\n",
    "import helper\n",
    "\n",
    "data_dir = './data/simpsons/moes_tavern_lines.txt'\n",
    "text = helper.load_data(data_dir)\n",
    "# Ignore notice, since we don't use it for analysing the data\n",
    "text = text[81:]"
   ]
  },
  {
   "cell_type": "markdown",
   "metadata": {
    "colab_type": "text",
    "id": "xXvRZ0jryG09"
   },
   "source": [
    "## Explore the Data\n",
    "Play around with `view_sentence_range` to view different parts of the data."
   ]
  },
  {
   "cell_type": "code",
   "execution_count": 14,
   "metadata": {
    "colab": {
     "autoexec": {
      "startup": false,
      "wait_interval": 0
     },
     "base_uri": "https://localhost:8080/",
     "height": 170
    },
    "colab_type": "code",
    "executionInfo": {
     "elapsed": 1068,
     "status": "ok",
     "timestamp": 1533828467820,
     "user": {
      "displayName": "Survesh Chauhan",
      "photoUrl": "//lh6.googleusercontent.com/-F6W-jg0U-Gs/AAAAAAAAAAI/AAAAAAAAAas/KgPXbC169F0/s50-c-k-no/photo.jpg",
      "userId": "117080553420494811795"
     },
     "user_tz": -330
    },
    "id": "ZYsRh8I9yG1B",
    "outputId": "37cd71bb-f151-4d96-dc90-5f4a6c93cf99"
   },
   "outputs": [
    {
     "name": "stdout",
     "output_type": "stream",
     "text": [
      "Dataset Stats\n",
      "Roughly the number of unique words: 11492\n",
      "Number of scenes: 262\n",
      "Average number of sentences in each scene: 15.248091603053435\n",
      "Number of lines: 4257\n",
      "Average number of words in each line: 11.50434578341555\n",
      "\n",
      "The sentences 1 to 2:\n",
      "Bart_Simpson: Eh, yeah, hello, is Mike there? Last name, Rotch.\n"
     ]
    }
   ],
   "source": [
    "view_sentence_range = (1, 2)\n",
    "\n",
    "\"\"\"\n",
    "DON'T MODIFY ANYTHING IN THIS CELL\n",
    "\"\"\"\n",
    "import numpy as np\n",
    "\n",
    "print('Dataset Stats')\n",
    "print('Roughly the number of unique words: {}'.format(len({word: None for word in text.split()})))\n",
    "scenes = text.split('\\n\\n')\n",
    "print('Number of scenes: {}'.format(len(scenes)))\n",
    "sentence_count_scene = [scene.count('\\n') for scene in scenes]\n",
    "print('Average number of sentences in each scene: {}'.format(np.average(sentence_count_scene)))\n",
    "\n",
    "sentences = [sentence for scene in scenes for sentence in scene.split('\\n')]\n",
    "print('Number of lines: {}'.format(len(sentences)))\n",
    "word_count_sentence = [len(sentence.split()) for sentence in sentences]\n",
    "print('Average number of words in each line: {}'.format(np.average(word_count_sentence)))\n",
    "\n",
    "print()\n",
    "print('The sentences {} to {}:'.format(*view_sentence_range))\n",
    "print('\\n'.join(text.split('\\n')[view_sentence_range[0]:view_sentence_range[1]]))"
   ]
  },
  {
   "cell_type": "markdown",
   "metadata": {
    "colab_type": "text",
    "id": "xAKYv2UPyG1h"
   },
   "source": [
    "## Implement Preprocessing Functions\n",
    "The first thing to do to any dataset is preprocessing.  Implement the following preprocessing functions below:\n",
    "- Lookup Table\n",
    "- Tokenize Punctuation\n",
    "\n",
    "### Lookup Table\n",
    "To create a word embedding, you first need to transform the words to ids.  In this function, create two dictionaries:\n",
    "- Dictionary to go from the words to an id, we'll call `vocab_to_int`\n",
    "- Dictionary to go from the id to word, we'll call `int_to_vocab`\n",
    "\n",
    "Return these dictionaries in the following tuple `(vocab_to_int, int_to_vocab)`"
   ]
  },
  {
   "cell_type": "code",
   "execution_count": 15,
   "metadata": {
    "colab": {
     "autoexec": {
      "startup": false,
      "wait_interval": 0
     },
     "base_uri": "https://localhost:8080/",
     "height": 88
    },
    "colab_type": "code",
    "executionInfo": {
     "elapsed": 891,
     "status": "ok",
     "timestamp": 1533831054620,
     "user": {
      "displayName": "Survesh Chauhan",
      "photoUrl": "//lh6.googleusercontent.com/-F6W-jg0U-Gs/AAAAAAAAAAI/AAAAAAAAAas/KgPXbC169F0/s50-c-k-no/photo.jpg",
      "userId": "117080553420494811795"
     },
     "user_tz": -330
    },
    "id": "5QljcaTVyG1n",
    "outputId": "2661226b-4916-4b87-81b7-43c01c53e41e"
   },
   "outputs": [
    {
     "name": "stdout",
     "output_type": "stream",
     "text": [
      "{'bart_simpson': 0, 'problems': 1, 'mike': 2, 'me': 3, 'listen': 4, 'back': 5, 'little': 6, 'with': 7, 'drink': 8, 'gonna': 9, 'an': 10, 'seen': 11, 'yeah': 12, 'homer_simpson': 13, 'where': 14, 'should': 15, 'self': 16, 'there': 17, 'skills': 18, 'ice': 19, 'elite': 20, 'give': 21, 'barney_gumble': 22, 'these': 23, 'days': 24, \"i'm\": 25, 'puke': 26, 'social': 27, 'hello': 28, 'catch': 29, 'forget': 30, 'is': 31, 'eh': 32, 'to': 33, 'my': 34, 'only': 35, 'homer': 36, 'not': 37, 'lately': 38, 'another': 39, \"you're\": 40, 'meet': 41, 'effervescent': 42, 'of': 43, 'check': 44, 'name': 45, 'one': 46, 'and': 47, 'the': 48, 'carve': 49, 'pick': 50, \"i'll\": 51, 'normal': 52, \"moe's\": 53, 'has': 54, 'your': 55, 'hey': 56, 'you': 57, 'rotch': 58, 'moe_szyslak': 59, 'anybody': 60, 'hold': 61, 'whats': 62, 'matter': 63, 'moe': 64, 'got': 65, 'enhance': 66, 'i': 67, 'last': 68, 'on': 69, 'tavern': 70}\n",
      "{0: 'bart_simpson', 1: 'problems', 2: 'mike', 3: 'me', 4: 'listen', 5: 'back', 6: 'little', 7: 'with', 8: 'drink', 9: 'gonna', 10: 'an', 11: 'seen', 12: 'yeah', 13: 'homer_simpson', 14: 'where', 15: 'should', 16: 'self', 17: 'there', 18: 'skills', 19: 'ice', 20: 'elite', 21: 'give', 22: 'barney_gumble', 23: 'these', 24: 'days', 25: \"i'm\", 26: 'puke', 27: 'social', 28: 'hello', 29: 'catch', 30: 'forget', 31: 'is', 32: 'eh', 33: 'to', 34: 'my', 35: 'only', 36: 'homer', 37: 'not', 38: 'lately', 39: 'another', 40: \"you're\", 41: 'meet', 42: 'effervescent', 43: 'of', 44: 'check', 45: 'name', 46: 'one', 47: 'and', 48: 'the', 49: 'carve', 50: 'pick', 51: \"i'll\", 52: 'normal', 53: \"moe's\", 54: 'has', 55: 'your', 56: 'hey', 57: 'you', 58: 'rotch', 59: 'moe_szyslak', 60: 'anybody', 61: 'hold', 62: 'whats', 63: 'matter', 64: 'moe', 65: 'got', 66: 'enhance', 67: 'i', 68: 'last', 69: 'on', 70: 'tavern'}\n",
      "Tests Passed\n"
     ]
    }
   ],
   "source": [
    "import numpy as np\n",
    "import problem_unittests as tests\n",
    "\n",
    "def create_lookup_tables(text):\n",
    "    \"\"\"\n",
    "    Create lookup tables for vocabulary\n",
    "    :param text: The text of tv scripts split into words\n",
    "    :return: A tuple of dicts (vocab_to_int, int_to_vocab)\n",
    "    \"\"\"\n",
    "    # TODO: Implement Function\n",
    "    \n",
    "    int_to_vocab = sorted(set(text))\n",
    "    int_to_vocab = {i: word for i, word in enumerate(set(text),0)} #Now using zero indexing\n",
    "    vocab_to_int = {word: i for i, word in enumerate(set(text), 0)}\n",
    "    print(vocab_to_int)\n",
    "    print(int_to_vocab)\n",
    "    return vocab_to_int, int_to_vocab\n",
    "\n",
    "\n",
    "\"\"\"\n",
    "DON'T MODIFY ANYTHING IN THIS CELL THAT IS BELOW THIS LINE\n",
    "\"\"\"\n",
    "tests.test_create_lookup_tables(create_lookup_tables)"
   ]
  },
  {
   "cell_type": "markdown",
   "metadata": {
    "colab_type": "text",
    "id": "s0BzaGYHyG16"
   },
   "source": [
    "### Tokenize Punctuation\n",
    "We'll be splitting the script into a word array using spaces as delimiters.  However, punctuations like periods and exclamation marks make it hard for the neural network to distinguish between the word \"bye\" and \"bye!\".\n",
    "\n",
    "Implement the function `token_lookup` to return a dict that will be used to tokenize symbols like \"!\" into \"||Exclamation_Mark||\".  Create a dictionary for the following symbols where the symbol is the key and value is the token:\n",
    "- Period ( . )\n",
    "- Comma ( , )\n",
    "- Quotation Mark ( \" )\n",
    "- Semicolon ( ; )\n",
    "- Exclamation mark ( ! )\n",
    "- Question mark ( ? )\n",
    "- Left Parentheses ( ( )\n",
    "- Right Parentheses ( ) )\n",
    "- Dash ( -- )\n",
    "- Return ( \\n )\n",
    "\n",
    "This dictionary will be used to token the symbols and add the delimiter (space) around it.  This separates the symbols as it's own word, making it easier for the neural network to predict on the next word. Make sure you don't use a token that could be confused as a word. Instead of using the token \"dash\", try using something like \"||dash||\"."
   ]
  },
  {
   "cell_type": "code",
   "execution_count": 16,
   "metadata": {
    "colab": {
     "autoexec": {
      "startup": false,
      "wait_interval": 0
     },
     "base_uri": "https://localhost:8080/",
     "height": 34
    },
    "colab_type": "code",
    "executionInfo": {
     "elapsed": 1409,
     "status": "ok",
     "timestamp": 1533831062743,
     "user": {
      "displayName": "Survesh Chauhan",
      "photoUrl": "//lh6.googleusercontent.com/-F6W-jg0U-Gs/AAAAAAAAAAI/AAAAAAAAAas/KgPXbC169F0/s50-c-k-no/photo.jpg",
      "userId": "117080553420494811795"
     },
     "user_tz": -330
    },
    "id": "nj7AKNeeyG2B",
    "outputId": "cb8495a2-f823-4f02-aae9-b8bc5bb4ee33"
   },
   "outputs": [
    {
     "name": "stdout",
     "output_type": "stream",
     "text": [
      "Tests Passed\n"
     ]
    }
   ],
   "source": [
    "def token_lookup():\n",
    "    \"\"\"\n",
    "    Generate a dict to turn punctuation into a token.\n",
    "    :return: Tokenize dictionary where the key is the punctuation and the value is the token\n",
    "    \"\"\"\n",
    "    # TODO: Implement Function\n",
    "    return {\".\":\"|Period|\" , \",\":\"|Comma|\" , '\"':\"|Quotation_mark|\" , \";\":\"|Semicolon|\" ,\"!\":\"|Exclamation_mark|\" , \"?\":\"|Question_Mark|\" , \"(\":\"|Left_Parantheses|\" , \")\":\"|Right_Parantheses|\" , \"--\":\"|Dash|\" , \"\\n\":\"|Return|\" }\n",
    "\n",
    "\"\"\"\n",
    "DON'T MODIFY ANYTHING IN THIS CELL THAT IS BELOW THIS LINE\n",
    "\"\"\"\n",
    "tests.test_tokenize(token_lookup)"
   ]
  },
  {
   "cell_type": "markdown",
   "metadata": {
    "colab_type": "text",
    "id": "UXDG8OhdyG2X"
   },
   "source": [
    "## Preprocess all the data and save it\n",
    "Running the code cell below will preprocess all the data and save it to file."
   ]
  },
  {
   "cell_type": "code",
   "execution_count": 17,
   "metadata": {
    "colab": {
     "autoexec": {
      "startup": false,
      "wait_interval": 0
     },
     "base_uri": "https://localhost:8080/",
     "height": 71
    },
    "colab_type": "code",
    "executionInfo": {
     "elapsed": 2172,
     "status": "ok",
     "timestamp": 1533831067629,
     "user": {
      "displayName": "Survesh Chauhan",
      "photoUrl": "//lh6.googleusercontent.com/-F6W-jg0U-Gs/AAAAAAAAAAI/AAAAAAAAAas/KgPXbC169F0/s50-c-k-no/photo.jpg",
      "userId": "117080553420494811795"
     },
     "user_tz": -330
    },
    "id": "syvzRtv0yG2a",
    "outputId": "6d2c270d-9a02-4c5a-ec1c-b8832776a2de"
   },
   "outputs": [
    {
     "name": "stdout",
     "output_type": "stream",
     "text": [
      "{'slightly': 0, 'bullet-proof': 1, 'deal': 2, 'sang': 3, 'gees': 4, 'boat': 5, 'boggs': 6, 'shakespeare': 7, 'ken:': 8, 'nagurski': 9, 'disturbance': 10, 'sheets': 11, 'eww': 12, \"mo'\": 13, 'box': 14, 'bono': 15, 'said': 16, \"readin'\": 17, 'runaway': 18, 'pointedly': 19, 'wars': 20, 'picky': 21, 'space': 22, 'soon': 23, 'jerk': 24, 'joking': 25, 'repeating': 26, 'super': 27, 'natural': 28, 'white': 29, 'rub': 30, 'replaced': 31, 'otherwise': 32, 'snaps': 33, 'gore': 34, 'hard': 35, 'storms': 36, 'evils': 37, 'relative': 38, 'contented': 39, 'risqué': 40, 'temp': 41, 'burn': 42, 'womb': 43, 'miss': 44, 'sturdy': 45, 'ram': 46, \"spiffin'\": 47, \"table's\": 48, \"i'll\": 49, 'chip': 50, 'solved': 51, 'meyerhof': 52, 'tanking': 53, 'lindsay_naegle:': 54, 'star': 55, 'more': 56, 'deep': 57, 'show': 58, 'oh-ho': 59, 'squirrel': 60, 'extra': 61, 'professional': 62, \"'kay-zugg'\": 63, 'intense': 64, 'fortress': 65, 'zoomed': 66, 'old': 67, 'frogs': 68, 'swallowed': 69, 'bar': 70, 'lou': 71, 'total': 72, 'kako:': 73, 'jackass': 74, 'scum': 75, 'fortune': 76, 'lemme': 77, 'art': 78, 'deliberately': 79, 'na': 80, 'insensitive': 81, 'onions': 82, 'oooo': 83, 'typed': 84, 'mel': 85, 'reward': 86, \"'til\": 87, 'kid': 88, 'photographer': 89, 'book_club_member:': 90, 'sharity': 91, 'network': 92, 'parrot': 93, 'moe-clone:': 94, 'heck': 95, 'turns': 96, 'correct': 97, 'pleading': 98, 'fledgling': 99, 'homeless': 100, 'diving': 101, 'upn': 102, 'arrest': 103, 'justice': 104, 'shoulder': 105, 'reading': 106, 'ninety-eight': 107, \"school's\": 108, 'middle': 109, 'potatoes': 110, 'chance': 111, 'answered': 112, 'unable': 113, 'flanders': 114, 'squeeze': 115, 'pageant': 116, 'arrived': 117, 'potato': 118, 'dreams': 119, 'remembered': 120, 'silence': 121, 'powerful': 122, 'sausage': 123, 'declan': 124, 'blinds': 125, 'bulldozing': 126, 'butt': 127, 'asking': 128, 'mahatma': 129, 'ass': 130, 'themselves': 131, 'donut-shaped': 132, 'bully': 133, 'wobble': 134, \"listenin'\": 135, 'table': 136, 'clone': 137, 'julep': 138, 'pathetic': 139, 'shortcomings': 140, 'coined': 141, 'eightball': 142, 'smart': 143, 'mission': 144, 'sideshow_mel:': 145, 'accidents': 146, 'twenty-nine': 147, 'faulkner': 148, 'young_homer:': 149, 'legs': 150, 'moe-near-now': 151, 'ireland': 152, \"chewin'\": 153, 'monkeyshines': 154, 'progress': 155, 'billy_the_kid:': 156, 'piece': 157, 'mind': 158, 'herself': 159, 'skinner': 160, 'explaining': 161, 'innocence': 162, \"mtv's\": 163, 'its': 164, 'talked': 165, 'dignity': 166, 'inspire': 167, 'corporate': 168, 'mexicans': 169, 'botanical': 170, 'portfolium': 171, 'alter': 172, 'cough': 173, 'idea': 174, 'burnside': 175, 'alien': 176, 'er': 177, 'energy': 178, 'cerebral': 179, 'winning': 180, 'champs': 181, 'th-th-th-the': 182, 'selfish': 183, 'delicately': 184, 'aah': 185, 'spot': 186, 'wounds': 187, 'steal': 188, 'proudly': 189, 'met': 190, 'grin': 191, 'inches': 192, 'wenceslas': 193, 'exited': 194, 'advice': 195, 'commission': 196, 'lord': 197, 'despite': 198, 'highest': 199, 'guessing': 200, 'clears': 201, 'bury': 202, 'compliment': 203, 'shaved': 204, 'truth': 205, \"collector's\": 206, 'everything': 207, 'hero': 208, 'fancy': 209, 'thighs': 210, 'billboard': 211, 'industry': 212, 'worldly': 213, 'invisible': 214, 'glitz': 215, 'kidney': 216, 'tourist': 217, 'poor': 218, 'adjourned': 219, 'mustard': 220, 'image': 221, 'guts': 222, 'palmerston': 223, 'xanders': 224, 'gals': 225, 'sauce': 226, 'grumpy': 227, \"man's_voice:\": 228, 'near': 229, \"wino's\": 230, 'princesses': 231, 'terrible': 232, '|right_parantheses|': 233, 'three-man': 234, \"what'll\": 235, 'asked': 236, 'attempting': 237, 'peppy': 238, 'showing': 239, 'fury': 240, 'anonymous': 241, 'simpson': 242, 'planned': 243, 'agree': 244, 'selma': 245, 'nobody': 246, 'begging': 247, 'trench': 248, 'dean': 249, 'folks': 250, '3': 251, 'bathing': 252, 'night-crawlers': 253, 'ooh': 254, 'thoughts': 255, 'match': 256, 'shoulda': 257, 'effervescent': 258, 'scooter': 259, 'threw': 260, 'suspicious': 261, 'al': 262, 'kneeling': 263, 'dumpster': 264, 'parasol': 265, 'nine': 266, 'chum': 267, 'magnanimous': 268, 'entirely': 269, 'spelling': 270, 'extract': 271, 'urban': 272, 'became': 273, 'chateau': 274, 'everywhere': 275, 'angrily': 276, 'plywood': 277, 'lucius:': 278, 'barf': 279, 'strokkur': 280, 'card': 281, 'brothers': 282, 'laughter': 283, 'blows': 284, 'rancid': 285, 'musical': 286, 'girl-bart': 287, 'cover': 288, 'sweden': 289, 'whale': 290, 'choices:': 291, 'defensive': 292, 'poetics': 293, 'original': 294, 'hispanic_crowd:': 295, 'drunk': 296, 'cash': 297, 'delivery_man:': 298, 'judges': 299, 'wearing': 300, 'badly': 301, 'isotopes': 302, 'blossoming': 303, 'alma': 304, 'one': 305, 'infor': 306, 'africanized': 307, 'shades': 308, 'other_player:': 309, 'hose': 310, \"bart's\": 311, 'waylon': 312, 'cheese': 313, 'enough': 314, 'collette:': 315, 'buffet': 316, 'pillows': 317, 'kirk': 318, 'retired': 319, 'braun:': 320, 'hottest': 321, 'rob': 322, 'compete': 323, 'clipped': 324, 'hammock': 325, 'connection': 326, 'ball-sized': 327, 'eleven': 328, \"patrick's\": 329, 'kentucky': 330, 'maximum': 331, 'yogurt': 332, 'homeland': 333, 'program': 334, 'drivers': 335, 'banned': 336, 'inclination': 337, 'buddha': 338, 'read': 339, 'acting': 340, 'cheapskates': 341, \"wait'll\": 342, 'saw': 343, 'grabbing': 344, 'choices': 345, 'scanning': 346, 'shark': 347, 'acceptance': 348, 'gestated': 349, \"squeezin'\": 350, 'nauseous': 351, 'glum': 352, 'next': 353, \"yesterday's\": 354, 'grienke': 355, 'albeit': 356, \"other's\": 357, 'dropping': 358, 'calling': 359, \"bartender's\": 360, \"beggin'\": 361, 'nash': 362, 'carl:': 363, 'federal': 364, 'therefore': 365, \"maggie's\": 366, 'astronaut': 367, 'shakes': 368, 'counter': 369, 'tv_husband:': 370, 'continued': 371, 'tolerable': 372, \"england's\": 373, 'drunkenly': 374, 'celebrate': 375, 'breakdown': 376, 'lanes': 377, 'british': 378, 'pickle': 379, '_burns_heads:': 380, 'ominous': 381, 'option': 382, 'icelandic': 383, 'knowingly': 384, 'cruise': 385, 'mistresses': 386, 'continuing': 387, 'scratcher': 388, 'remember': 389, 'slit': 390, 'community': 391, 'worst': 392, 'course': 393, 'fdic': 394, 'dignified': 395, 'connor-politan': 396, 'experiments': 397, 'cobra': 398, 'ling': 399, 'poison': 400, 'fink': 401, 'hot-rod': 402, 'murdoch': 403, 'confident': 404, 'meals': 405, 'prizefighters': 406, 'pledge': 407, 'chipper': 408, 'housework': 409, 'generosity': 410, 'fly': 411, 'sandwich': 412, 'priest': 413, 'sniffing': 414, 'perking': 415, 'dint': 416, 'mitts': 417, 'trapped': 418, 'breathless': 419, 'sanitary': 420, 'raining': 421, 'ugliest': 422, \"she'll\": 423, 'whaddya': 424, 'de-scramble': 425, 'incriminating': 426, 'sober': 427, 'tv_daughter:': 428, 'pus-bucket': 429, 'calm': 430, 'chug-monkeys': 431, 'duel': 432, 'babies': 433, 'grandé': 434, 'faceful': 435, \"usin'\": 436, 'drawn': 437, 'narrator:': 438, 'poker': 439, 'actors': 440, 'addiction': 441, \"homer's_brain:\": 442, \"nothin'\": 443, 'soul': 444, 'aerosmith': 445, 'shifty': 446, 'mouse': 447, 'german': 448, 'fellas': 449, 'y-you': 450, 'zack': 451, 'honor': 452, 'barney-guarding': 453, 'thrown': 454, 'sobbing': 455, 'multiple': 456, 'rainier': 457, 'tears': 458, 'someday': 459, 'bellyaching': 460, \"son's\": 461, 'wasted': 462, 'absorbent': 463, 'bear': 464, 'intriguing': 465, 'nail': 466, 'easy-going': 467, 'arrange': 468, \"team's\": 469, 'specific': 470, 'international': 471, 'sooo': 472, 'wheel': 473, 'mudflap': 474, 'beanbag': 475, 'clean': 476, \"s'cuse\": 477, \"brady's\": 478, 'husband': 479, 'pantsless': 480, 'harvard': 481, 'freshened': 482, 'blokes': 483, 'protesting': 484, 'honeys': 485, 'counterfeit': 486, \"i-i'm\": 487, 'tiger': 488, 'producers': 489, 'schabadoo': 490, 'egg': 491, 'p-k': 492, 'rutabaga': 493, \"larry's\": 494, \"i'm\": 495, 'buttocks': 496, 'manjula_nahasapeemapetilon:': 497, 'favorite': 498, 'station': 499, 'lenny_leonard:': 500, 'eating': 501, 'midge:': 502, 'frankenstein': 503, 'bake': 504, 'conclude': 505, 'lear': 506, 'moonlight': 507, 'impress': 508, 'getcha': 509, 'lady-free': 510, 'hanh': 511, 'nantucket': 512, 'moment': 513, 'tapping': 514, 'dumptruck': 515, 'du': 516, 'flat': 517, 'fires': 518, 'blur': 519, 'love-matic': 520, 'roy': 521, 'shareholder': 522, 'hearts': 523, 'knew': 524, 'hooray': 525, 'occupancy': 526, \"buyin'\": 527, 'kicks': 528, 'tummies': 529, 'lists': 530, 'shutup': 531, \"we'll\": 532, 'eu': 533, 'awkwardly': 534, 'ahhhh': 535, 'hockey-fight': 536, 'radical': 537, 'giving': 538, 'than': 539, 'decadent': 540, 'planted': 541, 'amber': 542, 'comic': 543, 'tasty': 544, 'himself': 545, 'craphole': 546, '_kissingher:': 547, 'ugly': 548, 'bumbling': 549, 'ago': 550, 'information': 551, 'shout': 552, 'metal': 553, 'arm-pittish': 554, 'fears': 555, \"that's\": 556, 'short_man:': 557, 'file': 558, 'beverage': 559, 'especially': 560, 'duff': 561, 'libido': 562, 'shaken': 563, 'suicide': 564, 'director:': 565, 'youth': 566, 'history': 567, 'violations': 568, 'alfred': 569, 'chill': 570, 'windshield': 571, 'parking': 572, 'understood:': 573, 'lis': 574, 'hundreds': 575, 'marjorie': 576, 'at': 577, 'helicopter': 578, 'dozen': 579, 'prison': 580, 'customers-slash-only': 581, 'wad': 582, 'kept': 583, 'afloat': 584, 'whaaaa': 585, 'indecipherable': 586, 'opening': 587, 'brunswick': 588, \"won't\": 589, 'female_inspector:': 590, 'quarter': 591, 'string': 592, 'baby': 593, 'cyrano': 594, 'must': 595, 'snotball': 596, 'omit': 597, 'montrer': 598, 'farthest': 599, 'myself': 600, 'knocks': 601, 'necklace': 602, 'clenched': 603, 'clandestine': 604, 'recent': 605, 'eighty-three': 606, 'lied': 607, 'bugs': 608, 'amber_dempsey:': 609, 'stupidly': 610, \"nixon's\": 611, 'kisses': 612, 'over': 613, 'vegas': 614, 'animals': 615, \"car's\": 616, 'a-lug': 617, 'above': 618, 'hippies': 619, 'hillary': 620, 'environment': 621, 'snitch': 622, 'backward': 623, 'insulted': 624, 'appearance-altering': 625, 'meal': 626, 'movie': 627, 'puff': 628, 'talkers': 629, 'non-losers': 630, 'hygienically': 631, 'tony': 632, \"professor's\": 633, 'lawyer': 634, 'kenny': 635, 'sixty-nine': 636, 'melodramatic': 637, 'meant': 638, 'kwik-e-mart': 639, 'unhook': 640, 'roz': 641, 'viva': 642, \"dimwit's\": 643, 'sadly': 644, 'mmmmm': 645, 'handoff': 646, 'liser': 647, 'screw': 648, 'tape': 649, 'coupon': 650, 'chain': 651, 'strips': 652, 'mayor_joe_quimby:': 653, 'mini-beret': 654, 'scrutinizes': 655, 'walther_hotenhoffer:': 656, 'wednesday': 657, 'pusillanimous': 658, 'married': 659, 'detecting': 660, 'catching': 661, 'brassiest': 662, 'missed': 663, 'stamps': 664, 'dyspeptic': 665, 'lives': 666, 'swings': 667, 'outlook': 668, \"renee's\": 669, \"ma's\": 670, 'tabs': 671, 'fondest': 672, 'lenny': 673, '8': 674, 'grade': 675, 'whistles': 676, 'head': 677, 'none': 678, 'wham': 679, 'pepper': 680, \"daughter's\": 681, 'browns': 682, 'bride': 683, 'shipment': 684, 'fireworks': 685, \"aren'tcha\": 686, 'attracted': 687, 'lay': 688, \"disrobin'\": 689, 'jukebox': 690, 'mention': 691, 'suburban': 692, 'spews': 693, 'nonchalant': 694, 'noble': 695, 'competing': 696, 'snatch': 697, \"o'\": 698, 'brings': 699, 'planet': 700, 'barney': 701, 'supplying': 702, 'fruit': 703, 'loafers': 704, 'other_book_club_member:': 705, 'jets': 706, 'koji': 707, 'kidding': 708, 'alley': 709, 'earpiece': 710, 'smurfs': 711, 'sadder': 712, 'represents': 713, 'schizophrenia': 714, 'loudly': 715, 'brusque': 716, 'army': 717, 'serious': 718, '6': 719, 'missing': 720, 'yes': 721, 'grimly': 722, 'normals': 723, 'cloudy': 724, 'endorsed': 725, 'average-looking': 726, 'play/': 727, 'practically': 728, 'mulder': 729, \"somethin's\": 730, 'richer': 731, 'betrayed': 732, 'grease': 733, 'slick': 734, \"hadn't\": 735, 'raises': 736, 'lap': 737, 'says': 738, 'crayon': 739, \"'ere\": 740, 'wiggle-frowns': 741, 'hiding': 742, 'busted': 743, 'st': 744, 'vicious': 745, 'cheering': 746, 'ticks': 747, 'phasing': 748, 'ahead': 749, 'lot': 750, 'ripper': 751, 'sells': 752, 'faced': 753, 'yellow': 754, 'gloop': 755, 'flame': 756, 'touchdown': 757, 'entertainer': 758, 'handshake': 759, 'jolly': 760, 'canoodling': 761, 'gesture': 762, \"tv's\": 763, 'mystery': 764, 'poured': 765, 'reluctant': 766, 'loves': 767, 'face-macer': 768, 'beaumont': 769, \"tatum'll\": 770, 'engraved': 771, 'break': 772, 'unexplained': 773, 'milks': 774, 'rush': 775, 'rid': 776, 'cricket': 777, 'dryer': 778, 'host': 779, \"fine-lookin'\": 780, 'donate': 781, 'muffled': 782, 'sly': 783, 'sudden': 784, 'zeal': 785, 'work': 786, 'bits': 787, 'jogging': 788, 'donation': 789, 'gives': 790, 'kinda': 791, 'two-thirds-empty': 792, 'dance': 793, \"couldn't\": 794, 'handwriting': 795, 'vengeful': 796, 'skins': 797, 'pages': 798, 'singing': 799, 'crap': 800, 'period': 801, 'stand': 802, 'loved': 803, 'enjoy': 804, '_powers:': 805, \"cupid's\": 806, 'intelligent': 807, 'pained': 808, 'night': 809, 'shutting': 810, 'finance': 811, \"who'll\": 812, 'switched': 813, 'smiled': 814, 'matter-of-fact': 815, 'muscles': 816, 'chuckling': 817, 'lloyd': 818, 'happily:': 819, 'mcbain': 820, 'buried': 821, 'load': 822, 'biggest': 823, 'way': 824, 'random': 825, \"getting'\": 826, 'dee-fense': 827, 'vestigial': 828, 'eight': 829, 'willing': 830, 'bender:': 831, 'stick': 832, 'bill': 833, 'spare': 834, \"she'd\": 835, 'wheeeee': 836, 'to': 837, 'love': 838, 'gheet': 839, 'sassy': 840, 'laney_fontaine:': 841, 'dirt': 842, 'rented': 843, 'wooooo': 844, 'sweat': 845, 'mirthless': 846, 'menacing': 847, 'perón': 848, 'disappointing': 849, 'located': 850, 'swe-ee-ee-ee-eet': 851, 'calmly': 852, 'century': 853, 'official': 854, \"c'mon\": 855, 'doctor': 856, 'connor': 857, 'conversations': 858, 'priceless': 859, 'books': 860, 'democracy': 861, 'gimmick': 862, 'spending': 863, 'wallet': 864, 'runt': 865, 'gentlemen': 866, 'homers': 867, 'janette': 868, 'prayers': 869, 'itchy': 870, 'edner': 871, 'naval': 872, 'nobel': 873, 'audience:': 874, 'year': 875, 'flanders:': 876, 'troy': 877, 'supreme': 878, 'filed': 879, 'anguished': 880, 'announcer:': 881, 'literature': 882, 'beam': 883, 'polygon': 884, 'stayed': 885, 'failure': 886, 'broncos': 887, 'pulled': 888, 'fritz': 889, 'determined': 890, 'ancestors': 891, 'warn': 892, 'written': 893, 'happened': 894, 'chastity': 895, 'newsweek': 896, 'fun': 897, 'smile:': 898, 'achem': 899, 'uniforms': 900, 'knit': 901, 'percent': 902, 'months': 903, 'crimes': 904, 'high': 905, 'hotenhoffer': 906, 'pepto-bismol': 907, 'highway': 908, 'hate': 909, 'dawning': 910, 'poster': 911, 'waylon_smithers:': 912, 'warily': 913, 'holidays': 914, '_hooper:': 915, 'title': 916, 'fool': 917, 'inanely': 918, 'names': 919, 'edna-lover-one-seventy-two': 920, 'bid': 921, 'depending': 922, 'celebrities': 923, 'turkey': 924, 'partly': 925, 'little_man:': 926, 'stock': 927, 'numeral': 928, 'cock': 929, \"carl's\": 930, 'lowers': 931, 'hands': 932, 'agent_miller:': 933, 'absentminded': 934, 'furry': 935, \"takin'\": 936, 'whim': 937, \"tree's\": 938, 'plotz': 939, 'grunt': 940, 'strain': 941, 'use': 942, 'elves:': 943, 'tipsy': 944, 'toy': 945, 'days': 946, 'fontaine': 947, 'flowers': 948, 'barney-shaped_form:': 949, 'hillbillies': 950, 'batmobile': 951, 'maitre': 952, 'material': 953, 'far': 954, 'margarita': 955, 'u': 956, 'department': 957, 'kl5-4796': 958, 'suck': 959, 'reptile': 960, 'korea': 961, \"showin'\": 962, 'treehouse': 963, 'unfamiliar': 964, 'pip': 965, 'düff': 966, 'boston': 967, 'bible': 968, \"wonderin'\": 969, 'moon-bounce': 970, 'bindle': 971, 'geez': 972, 'embarrassed': 973, 'grumbling': 974, 'eyeballs': 975, 'yuh-huh': 976, 'rump': 977, 'wake': 978, 'gasp': 979, 'fifty': 980, \"hobo's\": 981, 'boring': 982, 'prohibit': 983, 'bum:': 984, 'pills': 985, 'hellhole': 986, 'explain': 987, 'chin': 988, 'solo': 989, 'princess': 990, 'from': 991, 'hear': 992, 'gutenberg': 993, 'presently': 994, 'naegle': 995, 'roomy': 996, 'delicious': 997, 'killed': 998, 'teenage_bart:': 999, 'drown': 1000, 'heavyset': 1001, 'dies': 1002, 'hated': 1003, 'crawl': 1004, 'fast-paced': 1005, 'suave': 1006, 'is': 1007, 'dead': 1008, 'clear': 1009, 'happy': 1010, 'sunny': 1011, 'quadruple-sec': 1012, 'catholic': 1013, 'courthouse': 1014, 'baloney': 1015, 'form': 1016, 'glasses': 1017, 'alfalfa': 1018, 'prices': 1019, 'amazed': 1020, 'wine': 1021, 'conspiratorial': 1022, 'yard': 1023, \"clancy's\": 1024, 'washed': 1025, 'rolling': 1026, 'flayvin': 1027, 'dae': 1028, 'certificate': 1029, 'tonic': 1030, 'diablo': 1031, 'partners': 1032, 'coms': 1033, 'tin': 1034, 'seem': 1035, 'chuckles': 1036, \"i-i'll\": 1037, 'act': 1038, 'buy': 1039, 'artist': 1040, 'kent': 1041, 'site': 1042, 'old-time': 1043, 'frankly': 1044, 'tap': 1045, \"tv'll\": 1046, 'carlson': 1047, 'looting': 1048, 'fever': 1049, 'drinking:': 1050, \"calf's\": 1051, 'scene': 1052, 'nor': 1053, 'surgeonnn': 1054, 'dropped': 1055, 'ebullient': 1056, 'bowie': 1057, 'hangs': 1058, 'players': 1059, 'tank': 1060, \"'roids\": 1061, 'movies': 1062, 'wave': 1063, 'fragile': 1064, 'shocked': 1065, 'roach': 1066, 'focus': 1067, 'gag': 1068, 'appear': 1069, 'oww': 1070, 'regretful': 1071, \"bladder's\": 1072, 'tips': 1073, 'suddenly': 1074, 'pro': 1075, \"challengin'\": 1076, 'bad-mouth': 1077, 'ruuuule': 1078, 'mumble': 1079, 'flips': 1080, 'puts': 1081, 'apology': 1082, 'where': 1083, 'conditioners': 1084, 'blew': 1085, 'background': 1086, 'reach': 1087, 'admirer': 1088, 'inflated': 1089, 'bike': 1090, 'duh': 1091, 'fork': 1092, 'swig': 1093, 'cap': 1094, 'comment': 1095, 'shack': 1096, 'seriously': 1097, 'beer-jerks': 1098, 'grants': 1099, 'vulgar': 1100, 'trainers': 1101, 'engine': 1102, 'funny': 1103, 'menace': 1104, 'bronco': 1105, 'kansas': 1106, 'cherry': 1107, 'elmer': 1108, 'teams': 1109, 'handling': 1110, 'level': 1111, 'conspiracy': 1112, 'boyhood': 1113, 'reminds': 1114, 'dennis_kucinich:': 1115, 'sobs': 1116, 'lease': 1117, 'spit': 1118, 'indeed': 1119, 'winded': 1120, 'saturday': 1121, 'majesty': 1122, 'faded': 1123, 'reynolds': 1124, 'halloween': 1125, 'swelling': 1126, 'underpants': 1127, 'puzzle': 1128, 'journey': 1129, 'voice:': 1130, 'sledge-hammer': 1131, 'technical': 1132, 'olive': 1133, 'conversation': 1134, 'bee': 1135, 'dreary': 1136, 'we': 1137, 'ratted': 1138, 'ecru': 1139, 'stationery': 1140, 'cats': 1141, 'fad': 1142, 'sail': 1143, 'bide': 1144, 'morose': 1145, 'mock-up': 1146, 'ping-pong': 1147, 'mouth': 1148, 'tooth': 1149, 'buds': 1150, \"'n'\": 1151, 'pridesters:': 1152, 'skinny': 1153, 'lighter': 1154, 'feld': 1155, 'goldarnit': 1156, 'lushmore': 1157, 'grandkids': 1158, 'fifteen': 1159, 'rolls': 1160, 'strategizing': 1161, 'cab': 1162, 'aerospace': 1163, 'paris': 1164, 'moxie': 1165, 'landfill': 1166, 'mcstagger': 1167, 'tickets': 1168, 'couple': 1169, 'c': 1170, \"burnin'\": 1171, \"department's\": 1172, 'what': 1173, 'manuel': 1174, 'birthplace': 1175, 'luxury': 1176, 'bags': 1177, 'triangle': 1178, 'slipped': 1179, 'occasional': 1180, 'tsking': 1181, 'triple-sec': 1182, 'quick-like': 1183, 'anxious': 1184, 'bail': 1185, 'abe': 1186, 'sees': 1187, 'figured': 1188, 'spits': 1189, \"startin'\": 1190, 'against': 1191, 'answer': 1192, 'brought': 1193, 'captain': 1194, 'trick': 1195, 'snotty': 1196, 'five': 1197, 'four-star': 1198, 'fix': 1199, 'suspiciously': 1200, 'mater': 1201, 'clothes': 1202, 'othello': 1203, 'a-a-b-b-a': 1204, 'service': 1205, 'bedtime': 1206, 'iran': 1207, 'exploiter': 1208, 'filth': 1209, 'done': 1210, \"bashir's\": 1211, 'pepsi': 1212, 'small_boy:': 1213, 'dollface': 1214, 'usually': 1215, 'nation': 1216, 'football_announcer:': 1217, 'founded': 1218, 'sometimes': 1219, 'cosmetics': 1220, 'police': 1221, 'rupert_murdoch:': 1222, 'quebec': 1223, 'upgrade': 1224, 'been': 1225, \"ain't\": 1226, 'unattractive': 1227, 'dennis': 1228, 'in': 1229, 'weekly': 1230, 'paints': 1231, 'powered': 1232, 'crummy': 1233, 'guys': 1234, 'pointy': 1235, 'cutie': 1236, 'mailbox': 1237, 'witches': 1238, 'cool': 1239, 'interested': 1240, 'punkin': 1241, 'cheap': 1242, 'giant': 1243, 'hollowed-out': 1244, 'madman': 1245, 'mumbling': 1246, 'burglary': 1247, 'hooters': 1248, 'direction': 1249, 'appropriate': 1250, 'cheaped': 1251, 'anderson': 1252, 'hexa-': 1253, 'tapered': 1254, 'fumes': 1255, 'tell': 1256, 'fact': 1257, \"handwriting's\": 1258, 'pretentious_rat_lover:': 1259, \"countin'\": 1260, 'plans': 1261, 'forgiven': 1262, 'sour': 1263, 'reaction': 1264, 'drummer': 1265, 'adeleine': 1266, 'changing': 1267, 'uhhhh': 1268, 'limber': 1269, 'around': 1270, 'ralph': 1271, 'gumbo': 1272, \"linin'\": 1273, 'mistakes': 1274, 'housing': 1275, 'ate': 1276, 'phlegm': 1277, 'heave-ho': 1278, 'am': 1279, 'mickey': 1280, 'persia': 1281, 'lazy': 1282, 'allow': 1283, 'generously': 1284, 'trying': 1285, 'reflected': 1286, 'gin-slingers': 1287, 'feminist': 1288, 'bar_rag:': 1289, 'painless': 1290, '250': 1291, 'fl': 1292, 'ingrates': 1293, \"round's\": 1294, 'carolina': 1295, 'kick': 1296, 'depressant': 1297, 'alibi': 1298, 'rules': 1299, 'family': 1300, 'bar:': 1301, 'party': 1302, 'bannister': 1303, 'attractive': 1304, 'indicates': 1305, 'done:': 1306, 'hans:': 1307, 'stripe': 1308, 'grammys': 1309, 'tail': 1310, 'pure': 1311, \"starla's\": 1312, 'normal': 1313, 'appealing': 1314, 'cuz': 1315, 'cozy': 1316, \"cheerin'\": 1317, 'hawaii': 1318, 'marmaduke': 1319, \"aristotle's\": 1320, 'play': 1321, \"coffee'll\": 1322, 'disapproving': 1323, 'barber': 1324, 'resolution': 1325, 'corn': 1326, 'harv': 1327, 'street': 1328, 'checks': 1329, 'okay': 1330, 'interrupting': 1331, 'president': 1332, 'frosty': 1333, 'polls': 1334, 'said:': 1335, 'pint': 1336, \"stealin'\": 1337, 'gambler': 1338, 'greetings': 1339, 'obama': 1340, 'wound': 1341, 'pasta': 1342, \"lookin'\": 1343, 'drug': 1344, 'lighting': 1345, 'greedy': 1346, 'uh-huh': 1347, 'wakede': 1348, 'medicine': 1349, 'intruding': 1350, 'charge': 1351, 'compressions': 1352, 'should': 1353, 'lisa': 1354, 'romantic': 1355, 'gus': 1356, 'bucket': 1357, 'spitting': 1358, 'koholic': 1359, 'wise': 1360, \"fallin'\": 1361, 'unusual': 1362, 'apu': 1363, 'plug': 1364, 'naively': 1365, 'renders': 1366, 'bet': 1367, 'abercrombie': 1368, 'robot': 1369, 'guy': 1370, 'majority': 1371, \"pressure's\": 1372, 'swamp': 1373, 'grim': 1374, 'young_marge:': 1375, 'weapon': 1376, 'part': 1377, 'thoughtless': 1378, \"can'tcha\": 1379, 'hurting': 1380, 'parents': 1381, \"workin'\": 1382, 'nascar': 1383, 'killarney': 1384, 'betcha': 1385, 'i-i': 1386, 'thomas': 1387, 'reciting': 1388, 'symphonies': 1389, 'our': 1390, 'moving': 1391, 'tactful': 1392, 'ah': 1393, 'cheaper': 1394, 'friends': 1395, 'expecting': 1396, 'latin': 1397, 'also': 1398, 'items': 1399, 'fit': 1400, \"doctor's\": 1401, 'catch': 1402, 'based': 1403, 'brain-switching': 1404, 'smitty:': 1405, 'miracle': 1406, 'clock': 1407, 'vengeance': 1408, 'awww': 1409, 'insecure': 1410, 'leprechaun': 1411, 'taste': 1412, 'seems': 1413, 'quick': 1414, 'forty': 1415, 'fist': 1416, 'skydiving': 1417, 'violin': 1418, 'rig': 1419, 'hilarious': 1420, 'how': 1421, 'beginning': 1422, 'hey': 1423, 'harm': 1424, 'horns': 1425, 'hourly': 1426, 'dear': 1427, 'whispered': 1428, 'fan': 1429, 'going': 1430, 'caused': 1431, 'selective': 1432, 'never': 1433, 'government': 1434, 'nein': 1435, 'worldview': 1436, 'assent': 1437, 'oughta': 1438, 'stamp': 1439, 'photo': 1440, 'dumb-asses': 1441, 'boxing': 1442, 'coach:': 1443, 'hanging': 1444, 'victory': 1445, 'sight-unseen': 1446, 'unhappy': 1447, 'talking': 1448, 'socialize': 1449, 'have': 1450, 'instead': 1451, 'comforting': 1452, 'palm': 1453, 'weight': 1454, 'fleabag': 1455, 'civilization': 1456, 'twerpy': 1457, 'singing/pushing': 1458, 'shoe': 1459, 'trip': 1460, 'sagely': 1461, 'orders': 1462, 'brains': 1463, 'twenty-two': 1464, 'wistful': 1465, 'finest': 1466, 'baseball': 1467, 'chic': 1468, 'dollars': 1469, 'bless': 1470, 'delightfully': 1471, 'urge': 1472, 'shells': 1473, 'menlo': 1474, 'dashes': 1475, 'hobo': 1476, 'population': 1477, 'dizer': 1478, 'shut': 1479, 'punches': 1480, 'bought': 1481, 'lincoln': 1482, 'fiction': 1483, 'wheels': 1484, 'louie:': 1485, 'be-stainèd': 1486, 'joey_kramer:': 1487, 'sixty-five': 1488, 'salvador': 1489, 'electronic': 1490, 'plucked': 1491, 'argue': 1492, 'inspector': 1493, 'application': 1494, 'nearly': 1495, 'grunts': 1496, 'tow-joes': 1497, 'tanked-up': 1498, 'unfair': 1499, 'haircuts': 1500, 'gas': 1501, 'arts': 1502, 'lottery': 1503, \"dad's\": 1504, 'prime': 1505, 'thunder': 1506, 'crowds': 1507, 'warmly': 1508, \"fendin'\": 1509, 'neighborhood': 1510, 'beers': 1511, 'jury': 1512, 'pennies': 1513, 'sweaty': 1514, 'darn': 1515, 'coming': 1516, 'tatum': 1517, 'slab': 1518, 'amiable': 1519, 'twin': 1520, 'snap': 1521, 'laramie': 1522, 'gunter:': 1523, 'subscriptions': 1524, 'shoo': 1525, 'sneak': 1526, 'deadly': 1527, 'falling': 1528, 'newsies': 1529, 'covers': 1530, '|quotation_mark|': 1531, 'maiden': 1532, 'ladder': 1533, 'disgrace': 1534, 'exits': 1535, 'fustigate': 1536, 'set': 1537, \"ball's\": 1538, 'wear': 1539, 'law': 1540, \"didn't\": 1541, 'could': 1542, '_eugene_blatz:': 1543, 'instrument': 1544, 'self-esteem': 1545, 'castle': 1546, 'moon': 1547, 'following': 1548, 'hurt': 1549, 'whoops': 1550, 'encouraged': 1551, 'source': 1552, 'eye-gouger': 1553, 'murderously': 1554, 'rug': 1555, 'kemi:': 1556, 'bones': 1557, \"stabbin'\": 1558, 'flack': 1559, 'want': 1560, 'out': 1561, 'throats': 1562, 'only': 1563, 'keys': 1564, 'nods': 1565, 'visas': 1566, 'maintenance': 1567, 'mediterranean': 1568, 'square': 1569, 'mags': 1570, 'unintelligent': 1571, 'lily-pond': 1572, 'pipes': 1573, 'skin': 1574, 'cat': 1575, 'hollywood': 1576, 'pickled': 1577, 'safer': 1578, 'payback': 1579, 'padres': 1580, 'foot': 1581, 'admit': 1582, 'chug-a-lug': 1583, 'archaeologist': 1584, 'neil_gaiman:': 1585, 'bumpy-like': 1586, 'mice': 1587, 'crumble': 1588, 'bunion': 1589, 'east': 1590, 'perfect': 1591, \"'ceptin'\": 1592, 'bloodball': 1593, 'certified': 1594, 'fridge': 1595, 'miles': 1596, \"valentine's\": 1597, 'lover': 1598, \"soundin'\": 1599, 'muertos': 1600, 'clench': 1601, 'go': 1602, 'my': 1603, 'stands': 1604, 'asleep': 1605, 'puffy': 1606, 'listening': 1607, 'mortal': 1608, 'weary': 1609, 'trail': 1610, 'front': 1611, 'coal': 1612, 'tv_announcer:': 1613, 'closed': 1614, 'milhouse_van_houten:': 1615, \"lisa's\": 1616, \"drivin'\": 1617, 'sanitation': 1618, \"playin'\": 1619, 'machine': 1620, \"industry's\": 1621, 'formico:': 1622, 'ze-ro': 1623, 'theory': 1624, 'nurse': 1625, 'hour': 1626, 'jig': 1627, 'future': 1628, 'gimmicks': 1629, '1973': 1630, 'backbone': 1631, 'dressed': 1632, 'ehhhhhhhhh': 1633, 'bill_james:': 1634, 'offer': 1635, \"pope's\": 1636, 'wreck': 1637, 'ahem': 1638, 'nonchalantly': 1639, 'dumb': 1640, 'crew': 1641, 'almost': 1642, 'nitwit': 1643, 'gunk': 1644, 'yee-haw': 1645, 'aiden': 1646, 'pursue': 1647, 'voice_on_transmitter:': 1648, 'wayne:': 1649, 'words': 1650, 'register': 1651, \"that'll\": 1652, 'cakes': 1653, 'richard': 1654, 'later': 1655, 'rubbed': 1656, 'monster': 1657, 'joint': 1658, 'cage': 1659, 'navy': 1660, 'recorder': 1661, 'teacher': 1662, 'barflies': 1663, 'ga': 1664, 'courage': 1665, 'skunk': 1666, 'six': 1667, 'streetcorner': 1668, 'cheery': 1669, 'terminated': 1670, 'promotion': 1671, 'kirk_voice_milhouse:': 1672, '&': 1673, 'hoagie': 1674, 'strap': 1675, 'rip-off': 1676, \"hole'\": 1677, 'accusing': 1678, 'warning': 1679, 'everyday': 1680, 'madison': 1681, 'color': 1682, 'misconstrue': 1683, 'professor': 1684, 'whatever': 1685, 'roll': 1686, 'sexual': 1687, 'befriend': 1688, 'confidential': 1689, 'gentle': 1690, 'audience': 1691, 'liven': 1692, 'scrubbing': 1693, 'brakes': 1694, 'beloved': 1695, 'ignoring': 1696, 'philosophic': 1697, 'getup': 1698, 'suppose': 1699, 'wraps': 1700, 'larry:': 1701, 'schedule': 1702, 'smokes': 1703, 'some': 1704, 'pulling': 1705, 'piling': 1706, 'legoland': 1707, 'gordon': 1708, 'gone': 1709, 'way:': 1710, 'movement': 1711, 'sat-is-fac-tion': 1712, 'camera': 1713, 'cockroach': 1714, \"'topes\": 1715, 'slaves': 1716, 'ditched': 1717, 'cousin': 1718, 'stiffening': 1719, 'ringing': 1720, 'fondly': 1721, 'suru': 1722, 'we-we-we': 1723, 'seeing': 1724, 'wolfe': 1725, 'choice': 1726, 'crisis': 1727, 'chapstick': 1728, 'academy': 1729, 'sings': 1730, 'handing': 1731, 'fritz:': 1732, 'dirge-like': 1733, \"dolph's_dad:\": 1734, 'hare-brained': 1735, 'portentous': 1736, 'chuckle': 1737, 'camp': 1738, 'affection': 1739, 'freely': 1740, 'hmm': 1741, 'hot': 1742, 'toys': 1743, 'nerve': 1744, 'page': 1745, 'tablecloth': 1746, 'radiator': 1747, 'rosey': 1748, 'noooooooooo': 1749, '100': 1750, 'candidate': 1751, 'pontiff': 1752, 'inserted': 1753, 'placed': 1754, 'endorsement': 1755, 'payday': 1756, 'capitol': 1757, 'juice': 1758, 'senators:': 1759, 'real': 1760, 'fica': 1761, 'guttural': 1762, 'snow': 1763, 'lemonade': 1764, 'interesting': 1765, 'wildest': 1766, 'complaint': 1767, 'surprise': 1768, 'society_matron:': 1769, 'hair': 1770, 'moans': 1771, 'teddy': 1772, 'tv': 1773, 'theater': 1774, 'byrne': 1775, 'sounds': 1776, 'stu': 1777, 'glummy': 1778, 'literary': 1779, 'calculate': 1780, 'difference': 1781, 'getaway': 1782, 'pair': 1783, 'doppler': 1784, 'hopeful': 1785, 'owe': 1786, 'gimme': 1787, 'named': 1788, 'annie': 1789, 'you': 1790, 'ironic': 1791, 'shooting': 1792, 'shower': 1793, 'heals': 1794, 'rhode': 1795, 'pirate': 1796, 'hug': 1797, 'eternity': 1798, 'hah': 1799, 'watch': 1800, 'them': 1801, 'temporarily': 1802, 'bono:': 1803, 'folk': 1804, 'jebediah': 1805, 'blowfish': 1806, 'lennyy': 1807, 'advertising': 1808, 'protesters': 1809, 'maxed': 1810, 'honored': 1811, 'upbeat': 1812, 'talk-sings': 1813, 'item': 1814, 'supply': 1815, 'hunka': 1816, 'infatuation': 1817, 'gil_gunderson:': 1818, 'mckinley': 1819, 'deserve': 1820, \"fishin'\": 1821, 'grandmother': 1822, 'attached': 1823, 'officer': 1824, 'drawing': 1825, 'index': 1826, 'keeping': 1827, 'memory': 1828, 'fuss': 1829, 'struggling': 1830, 'chilly': 1831, 'looser': 1832, 'disdainful': 1833, 'tobacky': 1834, 'cooler': 1835, \"stayin'\": 1836, 'lenses': 1837, 'passenger': 1838, 'each': 1839, 'edge': 1840, 'ladies': 1841, 'touch': 1842, 'ragtime': 1843, \"president's\": 1844, 'hairs': 1845, 'zero': 1846, \"lenny's\": 1847, 'wire': 1848, 'dungeon': 1849, 'knows': 1850, 'cigars': 1851, 'bash': 1852, 'denver': 1853, 'losers': 1854, 'lisa_simpson:': 1855, 'sports_announcer:': 1856, 'mike': 1857, 'sealed': 1858, 'conversion': 1859, 'thirty-three': 1860, \"'er\": 1861, 'bow': 1862, 'banquo': 1863, 'mid-conversation': 1864, 'heading': 1865, 'forty-seven': 1866, 'nfl_narrator:': 1867, 'give': 1868, 'all': 1869, 'h': 1870, 'emergency': 1871, 'irrelevant': 1872, 'lucky': 1873, 'lou:': 1874, 'asses': 1875, 'chow': 1876, 'patron_#1:': 1877, 'brotherhood': 1878, 'behavior': 1879, 'moe': 1880, 'family-owned': 1881, 'entrance': 1882, 'severe': 1883, 'crying': 1884, 'naturally': 1885, 'cueball': 1886, 'ice': 1887, 'plants': 1888, 'stripes': 1889, 'hooked': 1890, 'reaching': 1891, 'shush': 1892, 'ronstadt': 1893, 'sacrilicious': 1894, 'mate': 1895, 'control': 1896, 'pouring': 1897, \"they'd\": 1898, 'cents': 1899, 'malfeasance': 1900, '_julius_hibbert:': 1901, 'baritone': 1902, 'knock-up': 1903, '70': 1904, 'teach': 1905, 'whatchamacallit': 1906, 'grenky': 1907, 'furniture': 1908, 'forgets': 1909, 'eighty-one': 1910, 'orgasmville': 1911, 'punishment': 1912, \"coaster's\": 1913, 'flew': 1914, 'volunteer': 1915, 'fat-free': 1916, 'additional-seating-capacity': 1917, 'sideshow': 1918, 'mother': 1919, 'ready': 1920, 'golf': 1921, 'jams': 1922, 'americans': 1923, \"toot's\": 1924, 'boxer': 1925, 'cream': 1926, 'contemptuous': 1927, 'cushion': 1928, 'sitar': 1929, 'sam:': 1930, 'strains': 1931, 'wealthy': 1932, 'plastered': 1933, '21': 1934, 'sending': 1935, 'horrible': 1936, \"soakin's\": 1937, 'salad': 1938, 'decide': 1939, 'upon': 1940, 'thanks': 1941, 'moved': 1942, 'and/or': 1943, 'extremely': 1944, 'robbers': 1945, 'traitors': 1946, \"wife's\": 1947, 'most': 1948, 'shirt': 1949, 'beligerent': 1950, 'telephone': 1951, \"i'd'a\": 1952, 'per': 1953, 'mozzarella': 1954, 'plow': 1955, 'tones': 1956, \"bringin'\": 1957, 'sob': 1958, 'thinking': 1959, 'slender': 1960, 'between': 1961, \"queen's\": 1962, 'trouble': 1963, 'who': 1964, 'easter': 1965, 'thing': 1966, \"spaghetti-o's\": 1967, 'incredible': 1968, 'astrid': 1969, 'hangout': 1970, 'seconds': 1971, 'emphasis': 1972, 'paintings': 1973, 'updated': 1974, 'tommy': 1975, 'frustrated': 1976, 'contemporary': 1977, '10:15': 1978, 'bourbon': 1979, 'walking': 1980, 'appeals': 1981, 'alive': 1982, 'car': 1983, 'anarchy': 1984, 'blocked': 1985, 'la': 1986, 'octa-': 1987, 'rainforest': 1988, \"wearin'\": 1989, 'gotten': 1990, 'forget': 1991, \"everyone's\": 1992, 'positive': 1993, 'perverted': 1994, 'jobless': 1995, \"it's\": 1996, 'settles': 1997, 'stein-stengel-': 1998, 'ruby-studded': 1999, 'twelve': 2000, 'credit': 2001, 'stocking': 2002, 'michelin': 2003, 'hosting': 2004, 'choke': 2005, 'might': 2006, 'k-zug': 2007, 'nonsense': 2008, 'come': 2009, 'invented': 2010, 'scram': 2011, 'texas': 2012, 'bedroom': 2013, 'heads': 2014, 'enter': 2015, 'bam': 2016, 'song': 2017, 'aghast': 2018, 'mary': 2019, 'à': 2020, 'amused': 2021, '/mr': 2022, 'again': 2023, 'jay_leno:': 2024, 'website': 2025, \"lady's\": 2026, 'asks': 2027, 'smiling': 2028, 'two-drink': 2029, 'numbers': 2030, 'salvation': 2031, 'hate-hugs': 2032, 'spent': 2033, 'summer': 2034, 'motto': 2035, 'piano': 2036, 'heartily': 2037, 'crestfallen': 2038, 'benjamin': 2039, 'aristotle:': 2040, 'celebrity': 2041, 'wildfever': 2042, 'fat_in_the_hat:': 2043, 'drop-off': 2044, 'wipes': 2045, 'fence': 2046, 'freaking': 2047, 'towed': 2048, \"kearney's_dad:\": 2049, 'thorough': 2050, \"show's\": 2051, 'fell': 2052, 'newly-published': 2053, 'arise': 2054, 'known': 2055, 'whoa': 2056, \"crawlin'\": 2057, 'harvey': 2058, 'coughs': 2059, 'childless': 2060, 'conditioning': 2061, 'relaxing': 2062, 'gluten': 2063, 'combine': 2064, 'sincerely': 2065, 'smoker': 2066, 'manboobs': 2067, 'whirlybird': 2068, 'ride': 2069, 'charter': 2070, 'champion': 2071, 'disguise': 2072, 'doy': 2073, 'i/you': 2074, 'weirded-out': 2075, 'referee': 2076, 'dollar': 2077, 'karaoke': 2078, 'pressure': 2079, 'sudoku': 2080, 'beeps': 2081, 'bed': 2082, 'whoa-ho': 2083, 'ordered': 2084, 'heatherton': 2085, 'coin': 2086, 'mabel': 2087, 'flames': 2088, \"speakin'\": 2089, 'tradition': 2090, 'blame': 2091, 'meaning': 2092, 'serve': 2093, 'weirder': 2094, 'y': 2095, 'single-mindedness': 2096, 'comedy': 2097, 'throws': 2098, 'else': 2099, 'self-made': 2100, 'cheerleaders:': 2101, 'huhza': 2102, 'sneeze': 2103, 'elizabeth': 2104, 'sued': 2105, \"spyin'\": 2106, \"could've\": 2107, 'four-drink': 2108, 'umm': 2109, 'kissingher': 2110, 'presided': 2111, 'eighty-five': 2112, 'apply': 2113, 'eva': 2114, 'wondered': 2115, 'ads': 2116, 'detective': 2117, 'terror': 2118, 'dynamite': 2119, 'fiiiiile': 2120, 'gosh': 2121, 'tear': 2122, 'intrigued': 2123, 'bit': 2124, 'stays': 2125, \"town's\": 2126, 'oooh': 2127, 'diets': 2128, 'dracula': 2129, 'dog': 2130, 'human': 2131, 'beast': 2132, \"depressin'\": 2133, 'starve': 2134, 'yep': 2135, 'imagine': 2136, 'root': 2137, 'open-casket': 2138, 'treasure': 2139, 'formico': 2140, 'take-back': 2141, 'spouses': 2142, 'price': 2143, 'crotch': 2144, 'bears': 2145, 'justify': 2146, 'less': 2147, 'benefits': 2148, 'krusty': 2149, 'backwards': 2150, 'unjustly': 2151, 'warm_female_voice:': 2152, 'try': 2153, 'butter': 2154, \"o'reilly\": 2155, 'placing': 2156, 'phrase': 2157, 'straighten': 2158, 'femininity': 2159, 'medieval': 2160, 'convinced': 2161, 'voyager': 2162, 'gruesome': 2163, 'though': 2164, 'bathroom': 2165, 'label': 2166, 'shock': 2167, 'inspiring': 2168, 'sternly': 2169, 'awesome': 2170, 'chinese_restaurateur:': 2171, 'drives': 2172, 'eddie': 2173, 'firm': 2174, 'hungry': 2175, 'facebook': 2176, 'prettied': 2177, 'full-time': 2178, 'sponsoring': 2179, 'bowl': 2180, 'cowardly': 2181, 'riveting': 2182, 'strolled': 2183, 'lookalike': 2184, 'subject': 2185, 'capitalists': 2186, 'enthused': 2187, 'agents': 2188, 'pleasant': 2189, 'attention': 2190, 'roses': 2191, 'abcs': 2192, 'degradation': 2193, 'vehicle': 2194, 'man': 2195, 'examines': 2196, 'de': 2197, \"y'see\": 2198, 'absentmindedly': 2199, 'cards': 2200, 'rookie': 2201, 'prompting': 2202, 'chest': 2203, 'moan': 2204, 'knocked': 2205, 'hostile': 2206, 'diapers': 2207, 'ayyy': 2208, 'sleep': 2209, 'jam': 2210, 'barney_gumble:': 2211, 'exactly': 2212, 'vacations': 2213, 'hooch': 2214, 'directions': 2215, 'blissful': 2216, 'kahlua': 2217, 'belt': 2218, 'terrace': 2219, 'covering': 2220, 'restroom': 2221, '2': 2222, 'walther': 2223, 'enabling': 2224, 'warranty': 2225, 'money': 2226, \"something's\": 2227, 'cooker': 2228, 'busy': 2229, 'perfume': 2230, 'forward': 2231, 'elite': 2232, 'escort': 2233, 'pantry': 2234, 'away': 2235, 'bird': 2236, 'raggie': 2237, 'modestly': 2238, 'gargoyle': 2239, 'respect': 2240, 'invulnerable': 2241, 'moe-clone': 2242, 'introduce': 2243, 'settlement': 2244, 'wipe': 2245, 'nineteen': 2246, 'fight': 2247, 'thought_bubble_homer:': 2248, 'drederick': 2249, 'misfire': 2250, 'little': 2251, 'widow': 2252, 'agh': 2253, 'mean': 2254, 'vacuum': 2255, 'many': 2256, 'gee': 2257, 'feet': 2258, 'wowww': 2259, 'associate': 2260, 'died': 2261, 'comic_book_guy:': 2262, 'optimistic': 2263, 'guzzles': 2264, \"plank's\": 2265, 'fire': 2266, 'ehhhhhh': 2267, 'friday': 2268, 'murdered': 2269, 'write': 2270, 'underwear': 2271, 'homer_': 2272, 'forgot': 2273, 'huh': 2274, 'smugglers': 2275, 'specializes': 2276, 'aquafresh': 2277, 'southern': 2278, 'enthusiasm': 2279, 'charges': 2280, 'togetherness': 2281, 'ehhh': 2282, 'resigned': 2283, 'either': 2284, 'attraction': 2285, 'reconsidering': 2286, 'grab': 2287, 'starla:': 2288, 'verticality': 2289, 'panties': 2290, 'slap': 2291, 'cattle': 2292, 'curiosity': 2293, 'earrings': 2294, 'joy': 2295, 'start': 2296, 'valuable': 2297, 'obvious': 2298, 'reasonable': 2299, 'jigger': 2300, 'clinton': 2301, 'daddy': 2302, 'old_jewish_man:': 2303, 'duffman': 2304, 'sacajawea': 2305, 'easily': 2306, 'everybody': 2307, 'buzz': 2308, 'cologne': 2309, 'killjoy': 2310, 'weeks': 2311, 'bart_simpson:': 2312, 'rabbits': 2313, 'dads': 2314, 'stinks': 2315, 'waltz': 2316, 'weak': 2317, 'presidents': 2318, 'gums': 2319, 'mob': 2320, 'charlie:': 2321, 'wedding': 2322, 'nigerian': 2323, 'times': 2324, 'billiard': 2325, 'collapse': 2326, 'employees': 2327, 'peeved': 2328, 'cronies': 2329, '50%': 2330, 'broken': 2331, 'flower': 2332, 'wasting': 2333, \"washin'\": 2334, 'alternative': 2335, 'diddilies': 2336, 'games': 2337, 'eminence': 2338, 'quero': 2339, \"gentleman's\": 2340, 'tom': 2341, 'without:': 2342, 'doing': 2343, 'poke': 2344, \"where's\": 2345, 'loaded': 2346, 'seething': 2347, 'were': 2348, 'germs': 2349, 'hidden': 2350, 'hits': 2351, 'all-american': 2352, 'praise': 2353, 'speech': 2354, 'faith': 2355, \"tab's\": 2356, \"what's\": 2357, 'patting': 2358, 'whatchacallit': 2359, 'insist': 2360, 'telemarketing': 2361, 'rap': 2362, 'lady_duff:': 2363, 'macho': 2364, 'lachrymose': 2365, '$42': 2366, 'aww': 2367, 'nickels': 2368, 'disappointment': 2369, 'check': 2370, 'sack': 2371, 'broom': 2372, 'this:': 2373, 'office': 2374, 'exhaust': 2375, 'spilled': 2376, 'apu_nahasapeemapetilon:': 2377, 'krusty_the_clown:': 2378, \"year's\": 2379, 'slobbo': 2380, 'kissing': 2381, 'lifts': 2382, 'romance': 2383, 'while': 2384, 'atari': 2385, 'premiering': 2386, 'yee-ha': 2387, 'dark': 2388, 'test': 2389, 'bust': 2390, \"it'll\": 2391, 'increasingly': 2392, 'kitchen': 2393, 'ignorance': 2394, 'arabs': 2395, 'practice': 2396, 'read:': 2397, 'sometime': 2398, 'wrong': 2399, 'thrust': 2400, 'dipping': 2401, 'cigarettes': 2402, \"hell's\": 2403, 'acquaintance': 2404, 'peppers': 2405, 'blob': 2406, 'senators': 2407, \"donatin'\": 2408, 'officials': 2409, 'ultimate': 2410, 'pre-recorded': 2411, \"how're\": 2412, 'terrifying': 2413, 'slow': 2414, 'churchy': 2415, 'jerking': 2416, 'friendly': 2417, 'valley': 2418, 'pizza': 2419, 'feast': 2420, 'lotta': 2421, 'bounced': 2422, 'chauffeur:': 2423, 'part-time': 2424, 'ointment': 2425, '1-800-555-hugs': 2426, 'picked': 2427, 'fireball': 2428, '7-year-old_brockman:': 2429, 'musses': 2430, 'wrecking': 2431, 'cannoli': 2432, 'shove': 2433, 'retain': 2434, 'depository': 2435, 'country-fried': 2436, 'krabappel': 2437, \"hangin'\": 2438, 'matter': 2439, 'unsafe': 2440, 'plan': 2441, 'attend': 2442, 'chili': 2443, 'drawer': 2444, 'glorious': 2445, 'actually': 2446, 'encores': 2447, 'wow': 2448, 'broadway': 2449, 'harmony': 2450, 'bloodiest': 2451, 'protestantism': 2452, 'barkeep': 2453, 'christmas': 2454, 'indignant': 2455, 'lee': 2456, 'sickened': 2457, 'surprised': 2458, 'adult': 2459, 'tied': 2460, 'capuchin': 2461, 'blue': 2462, 'in-ground': 2463, 'woozy': 2464, 'therapist': 2465, \"that'd\": 2466, 'disturbing': 2467, 'lungs': 2468, 'log': 2469, 'selection': 2470, 'zone': 2471, 'answering': 2472, 'fictional': 2473, 'lessee': 2474, 'wha': 2475, 'temples': 2476, 'grammar': 2477, 'je': 2478, 'hardwood': 2479, 'waterfront': 2480, 'tomatoes': 2481, '4x4': 2482, 'follow': 2483, 'figures': 2484, 'appendectomy': 2485, 'queen': 2486, 'bothered': 2487, 'murmurs': 2488, 'fevered': 2489, 'swell': 2490, 'robin': 2491, 'remembering': 2492, 'hems': 2493, 'whether': 2494, 'knowing': 2495, 'filled': 2496, 'virtual': 2497, 'move': 2498, \"bart'd\": 2499, 'half-beer': 2500, 'deli': 2501, 'thought_bubble_lenny:': 2502, 'holding': 2503, 'yup': 2504, 'tang': 2505, 'spite': 2506, 'rough': 2507, 'ingested': 2508, 'bartending': 2509, \"friend's\": 2510, \"she's\": 2511, 'lloyd:': 2512, 'ooo': 2513, \"leavin'\": 2514, 'six-barrel': 2515, 'staying': 2516, 'dingy': 2517, 'breakfast': 2518, 'edelbrock': 2519, 'cocking': 2520, 'starving': 2521, 'rumaki': 2522, 'because': 2523, \"they're\": 2524, 'bumblebee_man:': 2525, 'pets': 2526, 'dumbbell': 2527, 'accurate': 2528, 'gig': 2529, 'detail': 2530, 'sucker': 2531, 'head-gunk': 2532, 'buzziness': 2533, \"isn't\": 2534, 'freed': 2535, 'anyhow': 2536, 'louse': 2537, 'let': 2538, 'sponge:': 2539, 'doooown': 2540, 'advance': 2541, 'bottomless': 2542, 'personal': 2543, 'crowded': 2544, 'forbids': 2545, 'swooning': 2546, 'looking': 2547, 'leathery': 2548, 'gentles': 2549, 'releasing': 2550, \"guy's\": 2551, 'infestation': 2552, 'moments': 2553, 'carmichael': 2554, 'duffed': 2555, 'video': 2556, 'goodbye': 2557, 'most:': 2558, 'refresh': 2559, 'ohhhh': 2560, 'full': 2561, 'effect': 2562, 'donor': 2563, 'people': 2564, 'bidet': 2565, 'push': 2566, 'deny': 2567, 'sap': 2568, 'mariah': 2569, 'virile': 2570, 'bite': 2571, 'empty': 2572, 'order': 2573, 'isle': 2574, 'hold': 2575, 'corner': 2576, 'idioms': 2577, \"sayin'\": 2578, 'patrons:': 2579, 'wife': 2580, \"must've\": 2581, 'frozen': 2582, 'mines': 2583, 'dump': 2584, 'buyer': 2585, 'stonewall': 2586, 'won': 2587, 'duty': 2588, 'peeping': 2589, 'delightful': 2590, 'she': 2591, 'appointment': 2592, 'yello': 2593, 'news': 2594, 'grieving': 2595, 'windex': 2596, 'burns': 2597, 'playful': 2598, 'classy': 2599, 'surprised/thrilled': 2600, 'pool': 2601, 'calvin': 2602, 'challenge': 2603, 'broken:': 2604, 'yeah': 2605, 'million': 2606, 'superpower': 2607, 'provide': 2608, 'number': 2609, 'pretzels': 2610, 'captain:': 2611, 'marriage': 2612, 'aggie': 2613, 'beefs': 2614, 'bell': 2615, 'insults': 2616, 'uh-oh': 2617, 'sarcastic': 2618, 'appalled': 2619, 'restaurant': 2620, 'sport': 2621, 'maman': 2622, 'cozies': 2623, 'march': 2624, 'committing': 2625, 'feisty': 2626, 'compels': 2627, 'fonzie': 2628, 'virility': 2629, 'it': 2630, 'other': 2631, 'homunculus': 2632, 'ab': 2633, 'loan': 2634, 'author': 2635, 'penmanship': 2636, 'comeback': 2637, 'lime': 2638, 'told': 2639, 'overstressed': 2640, 'sabermetrics': 2641, 'terrific': 2642, 'safely': 2643, 'puke-pail': 2644, 'noggin': 2645, 'religion': 2646, 'hotel': 2647, 'side': 2648, 'different': 2649, 'combines': 2650, 'pay': 2651, 'crossed': 2652, 'lying': 2653, 'bucks': 2654, 'hardy': 2655, 'shrugs': 2656, 'schmoe': 2657, 'but': 2658, 'r': 2659, 'occurrence': 2660, 'stops': 2661, 'park': 2662, 'einstein': 2663, 'deals': 2664, 'ferry': 2665, \"rasputin's\": 2666, 'spacey': 2667, 'photos': 2668, 'utility': 2669, 'heard': 2670, 'sugar-me-do': 2671, 'vampire': 2672, 'championship': 2673, \"sat's\": 2674, 'wanted': 2675, 'plus': 2676, \"don'tcha\": 2677, 'enjoyed': 2678, 'system': 2679, 'exciting': 2680, 'punch': 2681, \"changin'\": 2682, 'ivana': 2683, 'mini-dumpsters': 2684, 'saying': 2685, 'lenford': 2686, 'cleaned': 2687, 'wishing': 2688, 'problemo': 2689, 'bubbles': 2690, 'troll': 2691, 'chosen': 2692, 'taylor': 2693, \"homer's\": 2694, 'th': 2695, 'half-back': 2696, 'sumatran': 2697, 'secret': 2698, 'dogs': 2699, 'meaningful': 2700, 'acquitted': 2701, 'mexican_duffman:': 2702, 'gifts': 2703, 'wisconsin': 2704, 'shape': 2705, \"duelin'\": 2706, 'maher': 2707, 'recall': 2708, 'limits': 2709, 'texan': 2710, 'waking-up': 2711, 'beep': 2712, 'new': 2713, 'goal': 2714, 'derisive': 2715, 'sleeping': 2716, 'bottles': 2717, 'jernt': 2718, 'fry': 2719, 'rev': 2720, 'indifferent': 2721, 'dying': 2722, 'dateline:': 2723, 'teeth': 2724, 'scam': 2725, 'line': 2726, 'soup': 2727, 'excitement': 2728, 'assert': 2729, 'investor': 2730, 'socratic': 2731, 'wonderful': 2732, \"blowin'\": 2733, 'season': 2734, 'nickel': 2735, 'underbridge': 2736, \"men's\": 2737, 'carll': 2738, 'augustus': 2739, 'polish': 2740, 'step': 2741, 'marge': 2742, 'address': 2743, 'wizard': 2744, \"who's\": 2745, 'proof': 2746, 'unearth': 2747, \"should've\": 2748, 'term': 2749, \"world's\": 2750, 'papa': 2751, 'kim_basinger:': 2752, 'religious': 2753, 'anybody': 2754, 'getting': 2755, 'sticker': 2756, 'pass': 2757, 'chunk': 2758, \"g'on\": 2759, 'third': 2760, 'possibly': 2761, 'kidnaps': 2762, 'villanova': 2763, 'k': 2764, 'sistine': 2765, 'assistant': 2766, 'someone': 2767, 'suds': 2768, 'trade': 2769, 'j': 2770, 'end': 2771, 'goblins': 2772, 'icy': 2773, 'writer:': 2774, 'savagely': 2775, \"pullin'\": 2776, 'totally': 2777, 'cocktail': 2778, 'anniversary': 2779, 'cannot': 2780, 'horrors': 2781, 'ralphie': 2782, '14': 2783, 'steel': 2784, 'circus': 2785, 'buttons': 2786, 'excavating': 2787, 'except': 2788, 'invited': 2789, 'drink': 2790, 'trucks': 2791, 'probably': 2792, 'refund': 2793, 'us': 2794, 'hemorrhage-amundo': 2795, \"bettin'\": 2796, 'nature': 2797, 'sizes': 2798, 'paper': 2799, 'good': 2800, 'prints': 2801, 'remain': 2802, 'gabriel:': 2803, 'your': 2804, 'stalking': 2805, 'barstools': 2806, 'contract': 2807, 'merchants': 2808, 'well': 2809, 'sweeter': 2810, 'slyly': 2811, 'housewife': 2812, 'mole': 2813, 'fellow': 2814, 'lewis': 2815, 'self-centered': 2816, 'quickly': 2817, 'cutest': 2818, 'dallas': 2819, 'thawing': 2820, 'arrested:': 2821, 'radioactive': 2822, 'copy': 2823, 'dig': 2824, 'hitler': 2825, 'science': 2826, 'example': 2827, 'month': 2828, 'recap:': 2829, 'complaining': 2830, 'unusually': 2831, 'santeria': 2832, 'annoyed': 2833, 'release': 2834, 'mostrar': 2835, 'domestic': 2836, 'flailing': 2837, 'bleak': 2838, 'sampler': 2839, 'weep': 2840, 'depressing': 2841, 'van': 2842, '|left_parantheses|': 2843, 'satisfaction': 2844, 'up': 2845, 'principal': 2846, \"they've\": 2847, 'gift': 2848, 'sheepish': 2849, 'whup': 2850, 'rest': 2851, 'welcome': 2852, 'eaters': 2853, 'aggravazes': 2854, 'inherent': 2855, 'his': 2856, 'stink': 2857, 'ma': 2858, 'male_inspector:': 2859, 'novel': 2860, 'versus': 2861, 'bars': 2862, 'rem': 2863, 'gun': 2864, \"phone's\": 2865, 'snapping': 2866, 'top': 2867, 'alec_baldwin:': 2868, 'boxers': 2869, 'heroism': 2870, 'boo': 2871, 'moesy': 2872, 'crushed': 2873, 'dumbest': 2874, 'dismissive': 2875, 'brother-in-law': 2876, 'microphone': 2877, 'notorious': 2878, 'mamma': 2879, 'wage': 2880, \"tinklin'\": 2881, 'sales': 2882, 'black': 2883, 'living': 2884, 'typing': 2885, 'shares': 2886, 'undated': 2887, 'testing': 2888, 'helps': 2889, 'pub': 2890, 'glamour': 2891, 'brilliant': 2892, 'noose': 2893, 'please': 2894, 'spanish': 2895, 'anti-lock': 2896, 'hawking:': 2897, 'campaign': 2898, 'ashtray': 2899, 'tip': 2900, 'afternoon': 2901, 'question': 2902, 'incapable': 2903, 'knuckles': 2904, 'jail': 2905, 'store-bought': 2906, 'boys': 2907, 'astronauts': 2908, 'boisterous': 2909, 'expose': 2910, 'suffering': 2911, 'tolerance': 2912, 'naked': 2913, 'watashi': 2914, 'inspired': 2915, 'beauty': 2916, 'kermit': 2917, 'fat_tony:': 2918, 'sensible': 2919, \"shan't\": 2920, 'hurry': 2921, 'foodie': 2922, 'be': 2923, 'tie': 2924, 'strong': 2925, 'brief': 2926, 'ew': 2927, 'scent': 2928, 'breathtaking': 2929, 'fixes': 2930, 'meet': 2931, 'standing': 2932, 'according': 2933, 'fluoroscope': 2934, 'co-sign': 2935, 'slobs': 2936, 'forgotten': 2937, 'country': 2938, 'mocking': 2939, 'tired': 2940, 'reentering': 2941, 'unfresh': 2942, 'collateral': 2943, 'including': 2944, 'grind': 2945, 'düffenbraus': 2946, \"who'da\": 2947, 'greatly': 2948, 'held': 2949, 'ralph_wiggum:': 2950, 'brockelstein': 2951, 'pride': 2952, 'simple': 2953, 'hunger': 2954, 'grace': 2955, 'jovial': 2956, '|dash|': 2957, 'cross-country': 2958, 'intervention': 2959, 'young_barfly:': 2960, 'klown': 2961, 'and:': 2962, 'freeze': 2963, 'soft': 2964, 's': 2965, 'followed': 2966, 'driving': 2967, 'presentable': 2968, 'hole': 2969, 'changes': 2970, 'bursts': 2971, 'worry': 2972, 'boozer': 2973, 'computer_voice_2:': 2974, 'ingredient': 2975, 'full-bodied': 2976, 'intoxicants': 2977, 'hers': 2978, 'extinguishers': 2979, 'tee': 2980, 'of': 2981, 'macgregor': 2982, 'tomorrow': 2983, 'revenge': 2984, 'espousing': 2985, 'executive': 2986, 'bright': 2987, 'glad': 2988, 'carny:': 2989, 'good-looking': 2990, 'know': 2991, 'abolish': 2992, 'junkyard': 2993, 'hibachi': 2994, 'her': 2995, 'diamond': 2996, 'left': 2997, 'suit': 2998, 'seen': 2999, 'jay:': 3000, 'raising': 3001, 'i-i-i': 3002, 'any': 3003, 'jack': 3004, 'macaulay': 3005, 'beat': 3006, 'homie': 3007, 'renee:': 3008, 'film': 3009, 'fair': 3010, 'down': 3011, 'hike': 3012, 'sticking': 3013, 'leno': 3014, \"lefty's\": 3015, 'diminish': 3016, 'dealer': 3017, 'gallon': 3018, 'bouquet': 3019, 'liquor': 3020, 'modest': 3021, 'whistling': 3022, 'whisper': 3023, 'explanation': 3024, 'wonder': 3025, 'promised': 3026, 'sit': 3027, 'cookies': 3028, 'unlocked': 3029, 'cushions': 3030, 'clothespins:': 3031, 'cursed': 3032, 'ear': 3033, 'victim': 3034, 'sex': 3035, '|comma|': 3036, \"can't-believe-how-bald-he-is\": 3037, 'man_with_crazy_beard:': 3038, 'fills': 3039, 'ribbon': 3040, 'quimby_#2:': 3041, 'factor': 3042, 'depressed': 3043, 'holiday': 3044, 'alcohol': 3045, 'hat': 3046, 'expression': 3047, 'needs': 3048, 'f-l-a-n-r-d-s': 3049, \"fans'll\": 3050, \"hawkin'\": 3051, 'slaps': 3052, 'forty-nine': 3053, 'neat': 3054, 'clubs': 3055, 'murmur': 3056, 'jeez': 3057, 'squeezed': 3058, 'awed': 3059, 'lugs': 3060, 'applicant': 3061, 'lainie:': 3062, 'backing': 3063, 'prep': 3064, 'marge_simpson:': 3065, 'car:': 3066, 'sharps': 3067, 'mechanical': 3068, \"bein'\": 3069, 'luckiest': 3070, 'quiet': 3071, 'troubles': 3072, 'gel': 3073, 'fatso': 3074, 'survive': 3075, 'leonard': 3076, 'tiny': 3077, 'reminded': 3078, 'dangerous': 3079, 'fighting': 3080, 'involved': 3081, 'prolonged': 3082, 'election': 3083, 'speaking': 3084, 'falcons': 3085, 'vin': 3086, 'fill': 3087, 'sobo': 3088, 'taught': 3089, 'stole': 3090, 'wolfcastle': 3091, 'poulet': 3092, 'compadre': 3093, 'plaintive': 3094, 'indifference': 3095, 'satisfied': 3096, 'manatee': 3097, 'roof': 3098, 'stupid': 3099, 'haplessly': 3100, 'legal': 3101, 'bushes': 3102, 'gruff': 3103, \"bar's\": 3104, 'kickoff': 3105, 'pussycat': 3106, \"feelin's\": 3107, 'torn': 3108, \"yieldin'\": 3109, 'enforced': 3110, \"drexel's\": 3111, 'high-definition': 3112, 'clown-like': 3113, 'phone': 3114, 'lizard': 3115, 'cummerbund': 3116, 'consulting': 3117, 'lingus': 3118, 'sniper': 3119, 'water': 3120, 'halvsies': 3121, 'amid': 3122, 'carlotta:': 3123, 'lovers': 3124, \"thinkin'\": 3125, 'nice': 3126, 'letter': 3127, 'ones': 3128, 'floating': 3129, 'repairman': 3130, 'rekindle': 3131, 'toledo': 3132, 'issues': 3133, 'hounds': 3134, 'toilet': 3135, \"battin'\": 3136, 'adjust': 3137, 'winner': 3138, 'ambrose': 3139, 'laugh': 3140, 'geysir': 3141, 'wally': 3142, 'learned': 3143, '_babcock:': 3144, 'sangre': 3145, 'few': 3146, \"somethin':\": 3147, 'pizzicato': 3148, 'reaches': 3149, 'accepting': 3150, 'wiping': 3151, 'disillusioned': 3152, 'low': 3153, 'mock': 3154, 'smile': 3155, 'darkest': 3156, 'priority': 3157, 'shhh': 3158, 'off': 3159, 'jelly': 3160, 'mansions': 3161, 'customer': 3162, 'platinum': 3163, 'eighty-seven': 3164, \"floatin'\": 3165, 'incognito': 3166, 'righ': 3167, 'stats': 3168, 'making': 3169, 'wishful': 3170, 'believer': 3171, 'often': 3172, 'mommy': 3173, 'foam': 3174, 'impeach': 3175, 'situation': 3176, 'si-lent': 3177, \"cleanin'\": 3178, 'although': 3179, 'contractors': 3180, 'intimacy': 3181, \"games'd\": 3182, 'dana_scully:': 3183, 'michael_stipe:': 3184, 'massachusetts': 3185, 'exchanged': 3186, 'linda_ronstadt:': 3187, 'anger': 3188, 'un-sults': 3189, 'easier': 3190, 'raging': 3191, 'assumed': 3192, 'hugh': 3193, 'flatly': 3194, 'dank': 3195, 'low-blow': 3196, 'pictured': 3197, 'men': 3198, 'repay': 3199, 'scornfully': 3200, 'forgive': 3201, 'irs': 3202, 'sec_agent_#1:': 3203, 'grinch': 3204, \"mother's\": 3205, 'moustache': 3206, 'wooden': 3207, 'shaky': 3208, 'sentimonies': 3209, 'marvelous': 3210, 'wikipedia': 3211, 'cutting': 3212, 'britannia': 3213, \"summer's\": 3214, 'brunch': 3215, 'hearing': 3216, 'inexorable': 3217, 'so': 3218, 'lessons': 3219, 'suspended': 3220, 'ticket': 3221, 'senator': 3222, 'dumbass': 3223, 'coffee': 3224, 'idiots': 3225, \"let's\": 3226, 'groveling': 3227, 'pinchpenny': 3228, 'shoes': 3229, 'midge': 3230, 'sports': 3231, 'sympathizer': 3232, 'waist': 3233, 'crazy': 3234, 'yesterday': 3235, 'passports': 3236, 'funniest': 3237, 'alright': 3238, 'marched': 3239, 'shoots': 3240, 'ocean': 3241, 'tyson/secretariat': 3242, 'painting': 3243, 'a-b-': 3244, 'lame': 3245, 'jubilant': 3246, 'mail': 3247, 'chase': 3248, 'purveyor': 3249, 'thirty-five': 3250, 'pitch': 3251, 'safecracker': 3252, 'make:': 3253, 'railroad': 3254, 'securities': 3255, 'keeps': 3256, 'managing': 3257, 'wantcha': 3258, 'sagacity': 3259, 'morning-after': 3260, '530': 3261, 'repressed': 3262, 'arse': 3263, 'brow': 3264, 'chief': 3265, \"havin'\": 3266, 'defected': 3267, 'hushed': 3268, \"boy's\": 3269, 'before': 3270, 'wieners': 3271, 'ding-a-ding-ding-ding-ding-ding-ding': 3272, 'nervously': 3273, 'hundred': 3274, 'grrrreetings': 3275, \"snappin'\": 3276, 'doubt': 3277, 'rome': 3278, 'yelp': 3279, 'non-american': 3280, 'scrutinizing': 3281, 'remote': 3282, 'blend': 3283, 'pick': 3284, 'whoopi': 3285, 'air': 3286, 'lodge': 3287, 'liable': 3288, \"'cause\": 3289, 'boxcars': 3290, 'dexterous': 3291, 'motor': 3292, 'noticing': 3293, 'beatings': 3294, 'emporium': 3295, 'anywhere': 3296, 'god': 3297, 'liar': 3298, 'knowledge': 3299, 'solely': 3300, 'sweet': 3301, 'patty': 3302, 'change': 3303, 'swear': 3304, \"knockin'\": 3305, 'steinbrenner': 3306, 'november': 3307, 'gave': 3308, 'rivalry': 3309, 'lend': 3310, 'gin': 3311, 'municipal': 3312, 'heh-heh': 3313, 'rebuttal': 3314, 'nasty': 3315, 'super-nice': 3316, \"'cept\": 3317, 'b': 3318, 'stool': 3319, 'kramer': 3320, 'listens': 3321, 'shame': 3322, 'bank': 3323, 'stools': 3324, 'carefully': 3325, 'bills': 3326, 'cell-ee': 3327, 'advertise': 3328, 'composite': 3329, 'pall': 3330, 'cure': 3331, 'tastes': 3332, 'eyes': 3333, 'beer-dorf': 3334, 'opens': 3335, 'oblongata': 3336, 'overhearing': 3337, 'gay': 3338, 'skirt': 3339, 'child': 3340, 'desperate': 3341, 'onto': 3342, \"mopin'\": 3343, 'begin': 3344, 'freak': 3345, 'yell': 3346, 'puke-holes': 3347, 'kadlubowski': 3348, 'sniffs': 3349, 'busiest': 3350, 'polishing': 3351, 'during': 3352, 'tax': 3353, 'wife-swapping': 3354, 'health': 3355, 'feeling': 3356, 'johnny_carson:': 3357, 'beings': 3358, 'warmth': 3359, 'wang': 3360, 'expired': 3361, \"it'd\": 3362, 'day': 3363, 'proves': 3364, 'earlier': 3365, 'needed': 3366, 'booze-bags': 3367, 'first': 3368, 'brown': 3369, 'embarrassing': 3370, 'etc': 3371, 'nemo': 3372, 'japanese': 3373, 'skinheads': 3374, 'cheered': 3375, 'mountain': 3376, 'special': 3377, \"waitin'\": 3378, 'rice': 3379, 'commit': 3380, '35': 3381, 'applesauce': 3382, \"you're\": 3383, \"swishifyin'\": 3384, \"plaster's\": 3385, 'dessert': 3386, \"ol'\": 3387, 'stickers': 3388, 'shag': 3389, 'manager': 3390, 'ballot': 3391, 'fuzzlepitch': 3392, 'tight': 3393, 'dramatically': 3394, 'crowd:': 3395, 'fudd': 3396, 'a': 3397, 'blobbo': 3398, 'light': 3399, 'falsetto': 3400, 'dude': 3401, 'smoke': 3402, 'son-of-a': 3403, 'pas': 3404, 'ghouls': 3405, 'rapidly': 3406, 'kiss': 3407, 'understand': 3408, 'dislike': 3409, 'buffalo': 3410, \"lovers'\": 3411, 'der': 3412, 'proper': 3413, 'andy': 3414, 'lots': 3415, 'produce': 3416, 'remembers': 3417, 'militia': 3418, 'charity': 3419, \"haven't\": 3420, 'entire': 3421, 'packets': 3422, 'nick': 3423, 'tv_father:': 3424, 'philip': 3425, 'steak': 3426, 'stories': 3427, 'my-y-y-y-y-y': 3428, 'carl_carlson:': 3429, \"don't\": 3430, 'organ': 3431, 'tuna': 3432, 'spooky': 3433, 'thing:': 3434, 'tigers': 3435, 'smuggled': 3436, 'minutes': 3437, 'corpses': 3438, 'tried': 3439, 'massage': 3440, 'ho-ly': 3441, 'apulina': 3442, 'billingsley': 3443, 'sight': 3444, 'canyonero': 3445, 'disgusted': 3446, 'crippling': 3447, 'ring': 3448, 'pickles': 3449, \"drinkin'\": 3450, 'company': 3451, 'desperately': 3452, 'white_rabbit:': 3453, 'moonnnnnnnn': 3454, 'pre-game': 3455, 'teen': 3456, \"kid's\": 3457, 'drapes': 3458, 'omigod': 3459, 'wacky': 3460, 'snake': 3461, 'funeral': 3462, 'hmmmm': 3463, 'delighted': 3464, 'displeased': 3465, 'new_health_inspector:': 3466, 'timbuk-tee': 3467, 'is:': 3468, 'women': 3469, 'desire': 3470, 'awkward': 3471, 'dum-dum': 3472, 'sickly': 3473, 'hibbert': 3474, 'gut': 3475, 'outrageous': 3476, 'simon': 3477, 'precious': 3478, 'project': 3479, 'tearfully': 3480, 'mmm': 3481, 'dunno': 3482, 'hubub': 3483, 'renee': 3484, 'yap': 3485, 'tasimeter': 3486, 'brave': 3487, 'bupkus': 3488, 'watt': 3489, 'usual': 3490, 'kicked': 3491, 'derek': 3492, 'mt': 3493, 'quarterback': 3494, 'ivy-covered': 3495, 'when-i-get-a-hold-of-you': 3496, 'sketch': 3497, 'aboard': 3498, 'sissy': 3499, \"'now\": 3500, 'balloon': 3501, 'hank_williams_jr': 3502, 'hafta': 3503, 'no': 3504, 'talk': 3505, 'sees/': 3506, 'taxi': 3507, 'purse': 3508, 'starla': 3509, '_marvin_monroe:': 3510, 'eye': 3511, 'case': 3512, 'mister': 3513, 'blimp': 3514, 'wayne': 3515, 'exultant': 3516, 'blank': 3517, 'contact': 3518, 'measure': 3519, 'fwooof': 3520, 'meatpies': 3521, 'jailbird': 3522, 'affectations': 3523, 'libraries': 3524, 'nibble': 3525, 'honey': 3526, \"we'd\": 3527, 'takes': 3528, 'emotional': 3529, 'wall': 3530, 'honest': 3531, 'joined': 3532, 'shaker': 3533, 'indeedy': 3534, 'civil': 3535, 'candy': 3536, 'happily': 3537, 'friend': 3538, 'sad': 3539, 'panicky': 3540, 'forget-me-shot': 3541, 'faint': 3542, 'o': 3543, 'psst': 3544, 'thoughtfully': 3545, 'twenty-five': 3546, 'really': 3547, 'local': 3548, 'filthy': 3549, 'larry': 3550, 'alls': 3551, 'driveability': 3552, 'butterball': 3553, 'm': 3554, 'p': 3555, 'goodwill': 3556, 'transmission': 3557, 'orphan': 3558, 'hub': 3559, 'agency': 3560, 'ohmygod': 3561, 'half-day': 3562, 'extreme': 3563, 'sea': 3564, 'needy': 3565, 'taunting': 3566, 'afraid': 3567, 'hunky': 3568, 'nuclear': 3569, 'sing-song': 3570, 'rims': 3571, 'toms': 3572, 'heaving': 3573, 'barkeeps': 3574, 'poorer': 3575, 'deacon': 3576, 'beer': 3577, 'yoink': 3578, 'hail': 3579, 'scary': 3580, 'luck': 3581, 'winch': 3582, 'tidy': 3583, 'simultaneous': 3584, 'newspaper': 3585, 'daaaaad': 3586, 'smoothly': 3587, 'estranged': 3588, \"dyin'\": 3589, 'larson': 3590, 'taps': 3591, 'vacation': 3592, 'poet': 3593, 'somewhere': 3594, 'exquisite': 3595, 'taken': 3596, 'exhibit': 3597, 'chairman': 3598, 'pulitzer': 3599, 'releases': 3600, 'slurps': 3601, 'doreen:': 3602, 'infiltrate': 3603, 'fausto': 3604, 'smelly': 3605, 'license': 3606, 'highball': 3607, 'civic': 3608, \"s'pose\": 3609, 'script': 3610, 'attach': 3611, 'freedom': 3612, 'methinks': 3613, 'bartholomé:': 3614, 'eyeball': 3615, 'aggravated': 3616, 'contemplated': 3617, 'writing': 3618, 'billion': 3619, \"thing's\": 3620, 'spender': 3621, 'nelson': 3622, 'bartender': 3623, 'plum': 3624, 'railroads': 3625, 'kind': 3626, 'wondering': 3627, 'feat': 3628, \"sittin'\": 3629, 'golden': 3630, 'tremendous': 3631, 'meteor': 3632, 'type': 3633, 'seats': 3634, 'congratulations': 3635, 'device': 3636, 'illustrates': 3637, 'perfected': 3638, 'punching': 3639, 'pop': 3640, 'minute': 3641, 'test-': 3642, 'necessary': 3643, 'dan': 3644, 'double': 3645, 'restless': 3646, 'horribilis': 3647, 'demand': 3648, 'grub': 3649, 'mop': 3650, 'cup': 3651, 'publishers': 3652, 'hunting': 3653, 'girl': 3654, 'fbi_agent:': 3655, 'outs': 3656, 'likes': 3657, 'raking': 3658, 'bottoms': 3659, 'twelve-step': 3660, 'mmm-hmm': 3661, 'belly-aching': 3662, 'kang:': 3663, 'recorded': 3664, 'shrieks': 3665, 'surgery': 3666, 'op': 3667, 'lights': 3668, 'dash': 3669, 'wish': 3670, 'choice:': 3671, 'proposing': 3672, 'evening': 3673, 'smooth': 3674, \"you'll\": 3675, 'disposal': 3676, 'ripcord': 3677, 'reading:': 3678, 'awake': 3679, 'consoling': 3680, 'thinks': 3681, 'pig': 3682, 'button-pusher': 3683, 'dreamed': 3684, 'nope': 3685, 'len-ny': 3686, 'happen': 3687, 'the': 3688, 'kinderhook': 3689, 'booze': 3690, \"poisonin'\": 3691, 'uncle': 3692, 'bump': 3693, 'sweetheart': 3694, 'feed': 3695, 'don': 3696, 'pronounce': 3697, 'rolled': 3698, 'destroyed': 3699, 'tester': 3700, 'sits': 3701, 'will': 3702, 'story': 3703, 'eco-fraud': 3704, 'gator:': 3705, 'outta': 3706, 'vigilante': 3707, 'farewell': 3708, 'garbage': 3709, 'did': 3710, 'such': 3711, 'lobster-politans': 3712, 'edison': 3713, 'hall': 3714, 'encouraging': 3715, 'listen': 3716, 'milk': 3717, 'playhouse': 3718, 'eurotrash': 3719, 'heather': 3720, 'drunks': 3721, 'power': 3722, 'eh': 3723, \"fun's\": 3724, 'unbelievably': 3725, 'duff_announcer:': 3726, 'looooooooooooooooooong': 3727, 'badge': 3728, 'hardhat': 3729, 'venom': 3730, 'enhance': 3731, 'homer_doubles:': 3732, 'loyal': 3733, 'brooklyn': 3734, 'traffic': 3735, 'scum-sucking': 3736, 'yourselves': 3737, 'leans': 3738, 'then': 3739, 'zinged': 3740, 'notably': 3741, 'loser': 3742, 'sitting': 3743, 'manage': 3744, 'fabulous': 3745, 'bret': 3746, 'voted': 3747, 'puke': 3748, 'sexton': 3749, 'coincidentally': 3750, 'syndicate': 3751, 'points': 3752, 'buddies': 3753, 'paparazzo': 3754, 'cliff': 3755, 'hop': 3756, 'father': 3757, 'rather': 3758, 'clap': 3759, 'costume': 3760, 'worked': 3761, 'darkness': 3762, \"what'd\": 3763, 'saga': 3764, \"hasn't\": 3765, 'headhunters': 3766, 'maybe': 3767, 'mic': 3768, 'forecast': 3769, 'restaurants': 3770, 'voicemail': 3771, 'coyly': 3772, 'thanksgiving': 3773, \"number's\": 3774, 'gunter': 3775, 'waste': 3776, 'ref': 3777, 'born': 3778, 'impending': 3779, 'coaster': 3780, 'frightened': 3781, 'enthusiastically': 3782, 'booger': 3783, 'feedbag': 3784, 'caveman': 3785, 'sniffles': 3786, \"this'll\": 3787, 'would': 3788, 'powers': 3789, 'insurance': 3790, \"liberty's\": 3791, 'absolut': 3792, 'man_with_tree_hat:': 3793, 'express': 3794, 'remodel': 3795, 'refreshment': 3796, 'took': 3797, 'innocent': 3798, 'there': 3799, 'resenting': 3800, 'across': 3801, 'speak': 3802, 'ninth': 3803, 'buying': 3804, 'studio': 3805, 'word': 3806, 'pretty': 3807, 'single': 3808, 'latour': 3809, 'scratching': 3810, 'stairs': 3811, 'resist': 3812, 'burt_reynolds:': 3813, 'then:': 3814, 'fake': 3815, 'corkscrews': 3816, 'puzzled': 3817, 'coins': 3818, 'sketching': 3819, 'and-and': 3820, 'intention': 3821, 'ought': 3822, 'drains': 3823, 'cut': 3824, 'locked': 3825, 'banquet': 3826, 'drag': 3827, 'marquee': 3828, 'onassis': 3829, 'ehhhhhhhh': 3830, 'music': 3831, 'los': 3832, 'dentist': 3833, 'chicken': 3834, 'age': 3835, 'susie-q': 3836, 'refill': 3837, 'ah-ha': 3838, 'soaking': 3839, 'stay-puft': 3840, 'seamstress': 3841, 'groans': 3842, 'patron_#2:': 3843, 'investigating': 3844, 'presidential': 3845, 'loss': 3846, 'para': 3847, 'built': 3848, \"aren't\": 3849, 'separator': 3850, 'ha': 3851, 'past': 3852, 'remains': 3853, 'dreamily': 3854, \"enjoyin'\": 3855, 'planning': 3856, 'close': 3857, 'tree': 3858, 'halfway': 3859, 'walks': 3860, 'dull': 3861, 'king': 3862, 'ugliness': 3863, 't-shirt': 3864, 'chapter': 3865, 'steely-eyed': 3866, 'suspenders': 3867, 'had': 3868, 'exact': 3869, 'rotten': 3870, 'carl': 3871, 'find': 3872, 'gags': 3873, 'tokens': 3874, 'lush': 3875, 'repeated': 3876, 'groan': 3877, 'youngsters': 3878, 'depression': 3879, 'handsome': 3880, 'lumpa': 3881, 'chick': 3882, 'sunday': 3883, 'occurred': 3884, 'labor': 3885, 'creepy': 3886, 'mimes': 3887, 'poking': 3888, 'designated': 3889, 'called': 3890, 'sneering': 3891, 'student': 3892, \"ridin'\": 3893, 'european': 3894, 'rewound': 3895, 'happens': 3896, 'links': 3897, 'curds': 3898, 'moron': 3899, 'consider': 3900, 'make': 3901, 'admitting': 3902, 'parked': 3903, 'orifice': 3904, 'regretted': 3905, 'mac-who': 3906, 'supports': 3907, 'saving': 3908, 'went': 3909, 'griffith': 3910, 'cowboy': 3911, 'handler': 3912, 'sucks': 3913, 'greatest': 3914, \"nothin's\": 3915, \"cashin'\": 3916, 'harder': 3917, 'protecting': 3918, 'over-pronouncing': 3919, 'kazoo': 3920, 'under': 3921, 'mind-numbing': 3922, 'troy:': 3923, 'consciousness': 3924, 'excuse': 3925, 'door': 3926, 'limited': 3927, 'disappeared': 3928, 'procedure': 3929, 'operation': 3930, 'species': 3931, 'cecil_terwilliger:': 3932, 'rat': 3933, 'dazed': 3934, 'solves': 3935, 'spoon': 3936, 'shores': 3937, 'regulations': 3938, 'basement': 3939, 'reader': 3940, 'moe-lennium': 3941, 'pissed': 3942, 'mrs': 3943, 'squashing': 3944, 'panicked': 3945, 'correction': 3946, 'return': 3947, 'louisiana': 3948, 'process': 3949, 'happiness': 3950, 'patrons': 3951, 'ironed': 3952, 'germany': 3953, 'fish': 3954, 'pour': 3955, 'sooner': 3956, 'holds': 3957, 'yet': 3958, 'jesus': 3959, 'thoughtful': 3960, 'popping': 3961, 'chinese': 3962, 'life-sized': 3963, 'reporter:': 3964, 'gasoline': 3965, 'committee': 3966, 'field': 3967, 'stranger:': 3968, 'motorcycle': 3969, 'eventually': 3970, 'small': 3971, 'detective_homer_simpson:': 3972, 'decision': 3973, 'bye': 3974, 'neighbor': 3975, 'decide:': 3976, 'minus': 3977, 'mayan': 3978, 'savvy': 3979, \"'tis\": 3980, 'thesaurus': 3981, 'adequate': 3982, 'meditative': 3983, 'spoken': 3984, 'cranberry': 3985, 'gargoyles': 3986, 'specified': 3987, 'feel': 3988, 'assume': 3989, 'chunky': 3990, 'porn': 3991, 'pack': 3992, 'scare': 3993, 'fraud': 3994, 'bleeding': 3995, 'sucking': 3996, 'hyahh': 3997, 'lovely': 3998, 'appreciated': 3999, 'cockroaches': 4000, 'whoo': 4001, 'into': 4002, 'yells': 4003, 'willy': 4004, 'sector': 4005, 'rector': 4006, 'girls': 4007, 'teacup': 4008, 'seven': 4009, 'bonding': 4010, 'barflies:': 4011, 'peaked': 4012, 'having': 4013, 'granted': 4014, 'dory': 4015, 'skeptical': 4016, 'rat-like': 4017, \"tellin'\": 4018, 'plant': 4019, 'bob': 4020, 'quarry': 4021, 'trolls': 4022, 'rash': 4023, 'sponsor': 4024, 'road': 4025, 'haiti': 4026, 'swimmers': 4027, 'belches': 4028, 'uh': 4029, 'nectar': 4030, 'admiring': 4031, 'seymour': 4032, 'swine': 4033, 'ignorant': 4034, 'mull': 4035, 'floor': 4036, 'gear-head': 4037, 'size': 4038, 'd': 4039, 'stars': 4040, 'bowled': 4041, \"c'mom\": 4042, 'urine': 4043, 'thought': 4044, 'sieben-gruben': 4045, 'trash': 4046, 'twenty': 4047, 'value': 4048, 'harv:': 4049, 'mr': 4050, 'driver': 4051, 'mcclure': 4052, 'authenticity': 4053, 'grains': 4054, 'brine': 4055, 'perhaps': 4056, 'game': 4057, 'nightmares': 4058, 'transfer': 4059, 'however': 4060, 'worse': 4061, 'trivia': 4062, 'sprawl': 4063, 'error': 4064, 'anti-intellectualism': 4065, 'marvin': 4066, 'spectacular': 4067, 'sent': 4068, 'james': 4069, 'ore': 4070, 'worthless': 4071, 'pink': 4072, \"tonight's\": 4073, 'experience': 4074, 'jokes': 4075, 'got': 4076, 'stood': 4077, 'cake': 4078, 'contest': 4079, 'focused': 4080, 'as': 4081, 'scores': 4082, 'stopped': 4083, 'oil': 4084, 'mm': 4085, 'forbidden': 4086, 'craft': 4087, 'sold': 4088, 'effects': 4089, 'occurs': 4090, 'quimby': 4091, 'hammy': 4092, 'semi-imported': 4093, 'this': 4094, 'jackpot-thief': 4095, 'envy-tations': 4096, 'suing': 4097, 'crystal': 4098, 'sec_agent_#2:': 4099, \"dog's\": 4100, 'runners': 4101, 'dry': 4102, 'bachelor': 4103, 'began': 4104, 'swatch': 4105, 'deliberate': 4106, 'besides': 4107, 'expense': 4108, 'adventure': 4109, 'neck': 4110, 'temple': 4111, 'whole': 4112, 'mug': 4113, 'whining': 4114, 'open': 4115, 'michael': 4116, 'tune': 4117, 'winks': 4118, 'gets': 4119, \"nick's\": 4120, 'streetlights': 4121, 'canyoner-oooo': 4122, 'pronto': 4123, 'stunned': 4124, 'runs': 4125, 'nordiques': 4126, 'allowance': 4127, 'mike_mills:': 4128, 'snackie': 4129, 'seymour_skinner:': 4130, 'peace': 4131, 'grand': 4132, 'smithers': 4133, 'toasting': 4134, 'branding': 4135, 'stewart': 4136, 'accept': 4137, 'drive': 4138, 'rugged': 4139, 'dan_gillick:': 4140, 'entering': 4141, 'gator': 4142, 'just': 4143, 'vulnerable': 4144, 'toe': 4145, 'tubman': 4146, 'butts': 4147, 'rockers': 4148, 'wussy': 4149, 'preparation': 4150, 'whose': 4151, 'confession': 4152, 'odor': 4153, 'pleased': 4154, 'pigs': 4155, 'stretches': 4156, 'finally': 4157, 'voters': 4158, 'pharmaceutical': 4159, 'distance': 4160, 'illegally': 4161, 'occasion': 4162, 'reporter': 4163, 'turning': 4164, \"'pu\": 4165, 'joey': 4166, 'does': 4167, 'school': 4168, 'mayor': 4169, 'today/': 4170, 'watched': 4171, 'faiths': 4172, 'fierce': 4173, 'thankful': 4174, 'finishing': 4175, 'agreement': 4176, 'ned': 4177, 'strictly': 4178, 'sleigh-horses': 4179, 'mellow': 4180, 'attractive_woman_#2:': 4181, 'prayer': 4182, 'nap': 4183, 'swimming': 4184, 'fresco': 4185, 'aisle': 4186, 'phase': 4187, 'finger': 4188, 'logos': 4189, 'peanuts': 4190, 'famous': 4191, 'albert': 4192, 'hmmm': 4193, 'flying': 4194, 'second': 4195, 'someplace': 4196, 'burg': 4197, 'brace': 4198, 'realize': 4199, 'oblivious': 4200, 'spinning': 4201, 'hoped': 4202, 'scruffy_blogger:': 4203, 'flynt': 4204, 'scornful': 4205, 'five-fifteen': 4206, 'wiggum': 4207, 'soaps': 4208, 'hollye': 4209, 'chauffeur': 4210, \"b-52's:\": 4211, 'pumping': 4212, 'therapy': 4213, 'sheriff': 4214, 'pine': 4215, 'radiation': 4216, 'kinds': 4217, 'become': 4218, 'u2:': 4219, 'helllp': 4220, 'lead': 4221, 'awwww': 4222, 'team': 4223, 'straining': 4224, 'rock': 4225, 'beards': 4226, 'madonna': 4227, 'rats': 4228, '|exclamation_mark|': 4229, 'through': 4230, 'leg': 4231, 'paid': 4232, 'malabar': 4233, 'teenage': 4234, 'linda': 4235, 'offended': 4236, 'graveyard': 4237, 'pretend': 4238, 'felony': 4239, 'trashed': 4240, 'exasperated': 4241, 'stay': 4242, 'bartenders': 4243, 'hammer': 4244, 'shows': 4245, 'killing': 4246, 'nursemaid': 4247, 'beneath': 4248, 'rummy': 4249, 'countryman': 4250, 'trapping': 4251, 'belch': 4252, 'cent': 4253, 'ran': 4254, 'weekend': 4255, \"wallet's\": 4256, \"makin'\": 4257, 'paint': 4258, 'without': 4259, 'sat': 4260, 'if': 4261, \"'morning\": 4262, 'fanciest': 4263, 'barter': 4264, 'grubby': 4265, 'gorgeous': 4266, 'cameras': 4267, 'ripping': 4268, \"renovatin'\": 4269, 'bubble': 4270, 'dr': 4271, 'ninety-nine': 4272, 'penny': 4273, 'wrap': 4274, 'defeated': 4275, 'disgraceful': 4276, 'disappear': 4277, 'sing': 4278, 'rods': 4279, \"raggin'\": 4280, 'ourselves': 4281, 'thirty': 4282, 'these': 4283, 'diet': 4284, 'um': 4285, 'kucinich': 4286, 'xx': 4287, 'patented': 4288, 'name': 4289, 'twentieth': 4290, 'health_inspector:': 4291, 'duffman:': 4292, 'settled': 4293, 'yo': 4294, 'stomach': 4295, 'refiero': 4296, 'ten': 4297, 'imported-sounding': 4298, 'alcoholic': 4299, 'supposed': 4300, 'neighbors': 4301, 'reckless': 4302, '1979': 4303, 'dejected_barfly:': 4304, 'with': 4305, 'bagged': 4306, 'published': 4307, 'glee': 4308, 'build': 4309, 'ground': 4310, 'amnesia': 4311, 'softer': 4312, 'stirring': 4313, 'giggles': 4314, 'loathe': 4315, 'activity': 4316, 'investment': 4317, 'jar': 4318, 'grow': 4319, 'reserve': 4320, 'shrugging': 4321, 'exception:': 4322, 'wanna': 4323, \"singin'\": 4324, 'wrote': 4325, \"here's\": 4326, 'agent': 4327, 'pile': 4328, 'go-near-': 4329, 'supermarket': 4330, 'midnight': 4331, 'permitting': 4332, 'thousand': 4333, 'attitude': 4334, '2nd_voice_on_transmitter:': 4335, 'windelle': 4336, 'an': 4337, 'tentative': 4338, 'full-blooded': 4339, 'dinner': 4340, \"you'd\": 4341, 'force': 4342, 'throwing': 4343, 'eggshell': 4344, \"people's\": 4345, \"today's\": 4346, 'e-z': 4347, 'lard': 4348, 'payments': 4349, 'dishonor': 4350, 'live': 4351, 'idiot': 4352, 'e': 4353, \"neighbor's\": 4354, 'maya:': 4355, 'squadron': 4356, 'ron': 4357, 'woe:': 4358, 'hm': 4359, 'balls': 4360, \"america's\": 4361, 'meaningless': 4362, 'thanking': 4363, 'wok': 4364, 'he': 4365, 'jamaican': 4366, 'carpet': 4367, 'seminar': 4368, 'freaky': 4369, 'peach': 4370, 'hateful': 4371, \"buffalo's\": 4372, 'strangles': 4373, 'newsletter': 4374, 'well-wisher': 4375, 'tongue': 4376, 'tow-talitarian': 4377, 'scream': 4378, 'once': 4379, 'fayed': 4380, 'quietly': 4381, 'reasons': 4382, 'ambrosia': 4383, 'job': 4384, 'looked': 4385, 'leak': 4386, 'ridiculous': 4387, \"he's\": 4388, 'mid-seventies': 4389, \"where'd\": 4390, 'itself': 4391, \"there's\": 4392, 'maya': 4393, 'tribute': 4394, 'jazz': 4395, 'x-men': 4396, 'windowshade': 4397, 'answers': 4398, 'cesss': 4399, 'dea-d-d-dead': 4400, 'life-partner': 4401, 'tabooger': 4402, 'cheat': 4403, 'stacey': 4404, '1895': 4405, 'layer': 4406, 'pushing': 4407, 'bonfire': 4408, 'telegraph': 4409, 'bathtub': 4410, 'ha-ha': 4411, 'wing': 4412, 'cable': 4413, 'damn': 4414, 'killer': 4415, 'lise:': 4416, 'wears': 4417, 'perverse': 4418, 'sense': 4419, 'jobs': 4420, 'heavens': 4421, \"wouldn't\": 4422, \"talkin'\": 4423, 'afterglow': 4424, 'until': 4425, 'spend': 4426, 'brandy': 4427, 'pretends': 4428, 'shelf': 4429, 'showed': 4430, 'african': 4431, 'flea:': 4432, 'jacksons': 4433, 'propose': 4434, 'trusted': 4435, 'padre': 4436, 'woo': 4437, 'noosey': 4438, 'allowed': 4439, 'laney': 4440, 'parenting': 4441, 'girlfriend': 4442, 'masks': 4443, 'marry': 4444, 'sideshow_bob:': 4445, 'moonshine': 4446, 'stumble': 4447, \"what're\": 4448, 'church': 4449, 'stuck': 4450, 'life-threatening': 4451, 'ugh': 4452, 'knives': 4453, 'cans': 4454, 'clams': 4455, '|period|': 4456, 'declare': 4457, 'pee': 4458, 'aged_moe:': 4459, 'safe': 4460, 'vermont': 4461, 'app': 4462, 'eggs': 4463, 'youse': 4464, 'carve': 4465, 'examples': 4466, 'recommend': 4467, 'taking': 4468, 'abandon': 4469, 'enjoys': 4470, 'yea': 4471, 'toward': 4472, 'automobiles': 4473, 'influence': 4474, 'liver': 4475, 'three': 4476, 'burps': 4477, 'accident': 4478, 'slop': 4479, 'stares': 4480, '3rd_voice:': 4481, 'reads': 4482, 'chained': 4483, 'aer': 4484, 'ducked': 4485, 'williams': 4486, 'anti-crime': 4487, 'aziz': 4488, 'can': 4489, 'johnny': 4490, 'squad': 4491, 'little_hibbert_girl:': 4492, 'ask': 4493, 'chug': 4494, 'secrets': 4495, 'disgracefully': 4496, 'excited': 4497, 'salt': 4498, 'snake_jailbird:': 4499, 'grain': 4500, \"c'mere\": 4501, 'whaaa': 4502, 'mason': 4503, 'for': 4504, \"i've\": 4505, 'fastest': 4506, 'sister-in-law': 4507, 'stop': 4508, 'gumbel': 4509, 'au': 4510, 'huge': 4511, 'looks': 4512, 'paramedic:': 4513, 'chair': 4514, 'dancing': 4515, 'winnings': 4516, 'turned': 4517, 'injury': 4518, 'arms': 4519, 'nightmare': 4520, 'daniel': 4521, 'muhammad': 4522, 'david': 4523, 'bras': 4524, 'businessman_#1:': 4525, 'guess': 4526, 'means': 4527, 'museum': 4528, 'equal': 4529, 'whatsit': 4530, 'bachelorette': 4531, \"doin'\": 4532, 'hired': 4533, 'unison': 4534, 'mess': 4535, 'horrified': 4536, 'sell': 4537, '|return|': 4538, 'pushes': 4539, 'house': 4540, 'cotton': 4541, \"costume's\": 4542, 'law-abiding': 4543, 'fire_inspector:': 4544, 'weather': 4545, 'bumped': 4546, '91': 4547, 'judge': 4548, 'grandiose': 4549, 'helpful': 4550, 'youuu': 4551, 'poetry': 4552, 'counting': 4553, 'plane': 4554, 'tells': 4555, 'prove': 4556, 'pews': 4557, 'wings': 4558, 'prince': 4559, 'certainly': 4560, 'schorr': 4561, 'dang': 4562, 'ees': 4563, 'burning': 4564, 'post-suicide': 4565, 'marshmallow': 4566, 'cold': 4567, 'along': 4568, 'corkscrew': 4569, 'race': 4570, \"ya'\": 4571, 'yourse': 4572, 'aw': 4573, 'slice': 4574, 'graves': 4575, 'junebug': 4576, 'wangs': 4577, 'sexy': 4578, \"foolin'\": 4579, 'aims': 4580, 'pajamas': 4581, 'guiltily': 4582, 'access': 4583, 'achebe': 4584, 'thru': 4585, 'perch': 4586, 'lift': 4587, 'alphabet': 4588, 'meanwhile': 4589, 'shelbyville': 4590, 'media': 4591, 'banks': 4592, 'wish-meat': 4593, 'installed': 4594, \"stinkin'\": 4595, 'north': 4596, 'errrrrrr': 4597, 'undermine': 4598, 'starting': 4599, 'chub': 4600, 'slogan': 4601, 'stirrers': 4602, 'recreate': 4603, 'lost': 4604, 'alva': 4605, 'lurleen_lumpkin:': 4606, 'languages': 4607, 'ideal': 4608, 'yew': 4609, 'distaste': 4610, 'taxes': 4611, 'refreshingness': 4612, 'watching': 4613, 'pause': 4614, 'danish': 4615, 'perplexed': 4616, 'locklear': 4617, 'outstanding': 4618, 'rotch': 4619, 'adopted': 4620, 'hospital': 4621, 'rude': 4622, 'sacrifice': 4623, 'benjamin:': 4624, 'hiya': 4625, 'rounds': 4626, 'glass': 4627, 'creates': 4628, 'tracks': 4629, 'ballclub': 4630, 'rule': 4631, 'goes': 4632, 'donated': 4633, 'hops': 4634, 'equivalent': 4635, 'pancakes': 4636, 'curious': 4637, 'much': 4638, 'debonair': 4639, 'starlets': 4640, 'screams': 4641, 're:': 4642, 'has': 4643, \"we've\": 4644, \"how's\": 4645, 'stalwart': 4646, 'barbara': 4647, 'heavyweight': 4648, 'event': 4649, 'nuked': 4650, 'what-for': 4651, 'skoal': 4652, 'fringe': 4653, 'wolverines': 4654, 'works': 4655, \"somethin'\": 4656, \"ma'am\": 4657, 'hears': 4658, 'kick-ass': 4659, 'harvesting': 4660, 'seemed': 4661, 'cruel': 4662, \"callin'\": 4663, 'mm-hmm': 4664, 'scatter': 4665, 'morning': 4666, 'hampstead-on-cecil-cecil': 4667, 'fall': 4668, 'hope': 4669, 'klingon': 4670, 'obsessive-compulsive': 4671, 'snort': 4672, 'superhero': 4673, 'presses': 4674, 'apron': 4675, 'plastic': 4676, \"fryer's\": 4677, 'kindly': 4678, 'almond': 4679, 'hitchhike': 4680, 'limericks': 4681, 'brockman': 4682, 'teenage_homer:': 4683, 'politician': 4684, 'verdict': 4685, 'badmouths': 4686, 'actress': 4687, 'relaxed': 4688, 'strawberry': 4689, 'nervous': 4690, 'decency': 4691, 'france': 4692, 'dames': 4693, 'hangover': 4694, 'cuckoo': 4695, 'modern': 4696, 'fuhgetaboutit': 4697, \"'\": 4698, 'button': 4699, 'win': 4700, 'screws': 4701, 'help': 4702, 'candles': 4703, 'unlucky': 4704, 'norway': 4705, 'rueful': 4706, 'territorial': 4707, 'gregor': 4708, 'bookie': 4709, 'muttering': 4710, \"time's\": 4711, 'moe_recording:': 4712, 'hi': 4713, 'present': 4714, 'bites': 4715, 'young': 4716, 'bitter': 4717, 'lager': 4718, 'helped': 4719, 'monday': 4720, 'overflowing': 4721, 'regret': 4722, 'blow': 4723, 'so-ng': 4724, 'strongly': 4725, 'mix': 4726, 'tying': 4727, 'abusive': 4728, \"s'okay\": 4729, 'swan': 4730, 'searching': 4731, 'schemes': 4732, 'bad': 4733, 'title:': 4734, 'doug:': 4735, \"treatin'\": 4736, 'reached': 4737, 'pleasure': 4738, 'firmly': 4739, 'chinua': 4740, 'droning': 4741, 'musketeers': 4742, 'birth': 4743, 'bridge': 4744, 'decent': 4745, \"d'ya\": 4746, 'pin': 4747, 'playoff': 4748, 'troy_mcclure:': 4749, 'popped': 4750, 'please/': 4751, 'offense': 4752, 'lonely': 4753, 'confidentially': 4754, 'pond': 4755, 'problem': 4756, 'increased': 4757, 'chips': 4758, 'boxcar': 4759, 'rocks': 4760, 'unfortunately': 4761, 'joke': 4762, 'telling': 4763, 'frescas': 4764, 'delivery_boy:': 4765, 'crowned': 4766, 'hero-phobia': 4767, 'babe': 4768, 'cases': 4769, 'predictable': 4770, 'here-here-here': 4771, 'states': 4772, 'fainted': 4773, 'broad': 4774, 'cola': 4775, 'nuts': 4776, 'bubbles-in-my-nose-y': 4777, 'shop': 4778, 'pre-columbian': 4779, 'talkative': 4780, 'awareness': 4781, 'sunglasses': 4782, 'wins': 4783, 'mint': 4784, 'exit': 4785, 'gulps': 4786, 'bush': 4787, 'refinanced': 4788, 'nbc': 4789, 'bashir': 4790, 'micronesian': 4791, 'changed': 4792, 'chocolate': 4793, 'smug': 4794, \"payin'\": 4795, 'till': 4796, 'dating': 4797, \"life's\": 4798, 'kegs': 4799, 'recipe': 4800, 'guide': 4801, 'fantasy': 4802, 'gift:': 4803, 'scarf': 4804, 'vincent': 4805, 'champignons': 4806, 'tofu': 4807, 'kissed': 4808, 'lock': 4809, 'series': 4810, 'splattered': 4811, 'singer': 4812, 'unrelated': 4813, 'enterprising': 4814, 'cigarette': 4815, 'incarcerated': 4816, 'radishes': 4817, 'renew': 4818, 'convenient': 4819, 'checking': 4820, 'motel': 4821, 'awe': 4822, 'snorts': 4823, 'splendid': 4824, 'boned': 4825, 'cars': 4826, 'indigenous': 4827, \"i'unno\": 4828, \"homer'll\": 4829, 'lucinda': 4830, 'specialists': 4831, 'gangrene': 4832, 'disappointed': 4833, 'gonna': 4834, 'share': 4835, 'wiener': 4836, 'lie': 4837, 'she-pu': 4838, 'sister': 4839, 'delicate': 4840, 'soothing': 4841, 'celebration': 4842, 'sisters': 4843, 'denser': 4844, 'imaginary': 4845, 'touched': 4846, 'habitrail': 4847, 'though:': 4848, 'self-satisfied': 4849, 'important': 4850, 'ruint': 4851, 'position': 4852, 'sighs': 4853, 'phony': 4854, 'effervescence': 4855, 'lobster-based': 4856, 'relax': 4857, 'supervising': 4858, 'statue': 4859, 'caper': 4860, 'pregnancy': 4861, 'pockets': 4862, 'list': 4863, 'liability': 4864, 'samples': 4865, 'grocery': 4866, 'physical': 4867, \"cont'd:\": 4868, 'name:': 4869, 'things': 4870, 'frontrunner': 4871, 'pointless': 4872, 'since': 4873, 'gayer': 4874, 'die-hard': 4875, 'improved': 4876, \"he'll\": 4877, 'flush': 4878, 'ashamed': 4879, 'back': 4880, 'mindless': 4881, 'malted': 4882, 'advantage': 4883, \"we're\": 4884, 'reunion': 4885, 'overturned': 4886, 'hats': 4887, 'given': 4888, 'thank': 4889, 'spirit': 4890, 'drinking': 4891, 'sympathetic': 4892, 'worried': 4893, \"doesn't\": 4894, 'carnival': 4895, 'trenchant': 4896, 'kidneys': 4897, 'las': 4898, 'festival': 4899, 'home': 4900, 'toxins': 4901, 'breath': 4902, 'early': 4903, \"neat's-foot\": 4904, 'kings': 4905, 'soap': 4906, 'minors': 4907, 'suits': 4908, 'negative': 4909, 'smells': 4910, 'closing': 4911, 'ali': 4912, 'super-genius': 4913, 'doll-baby': 4914, 'birthday': 4915, 'ancient': 4916, 'heh': 4917, 'weird': 4918, 'easy': 4919, 'crooks': 4920, 'rain': 4921, 'cheated': 4922, 'marguerite:': 4923, 'superdad': 4924, 'babar': 4925, 'fella': 4926, 'data': 4927, 'cow': 4928, 'sips': 4929, 'last': 4930, 'jägermeister': 4931, 'sitcom': 4932, 'idealistic': 4933, 'time': 4934, 'tenuous': 4935, 'fail': 4936, 'bigger': 4937, 'care': 4938, \"springfield's\": 4939, 'prepared': 4940, 'hotline': 4941, 'speed': 4942, 'unattended': 4943, 'grabs': 4944, 'picture': 4945, 'throw': 4946, 'darts': 4947, \"tramp's\": 4948, 'like': 4949, 'created': 4950, 'men:': 4951, 'amends': 4952, 'thnord': 4953, 'insured': 4954, 'goo': 4955, 'hook': 4956, 'sorts': 4957, 'lucius': 4958, 'picnic': 4959, 'lifters': 4960, 'gr-aargh': 4961, 'uninhibited': 4962, 'think': 4963, 'lately': 4964, 'stained-glass': 4965, 'owes': 4966, 'nominated': 4967, 'waitress': 4968, 'winston': 4969, 'predecessor': 4970, 'sheet': 4971, 'american': 4972, 'ding-a-ding-ding-a-ding-ding': 4973, 'damned': 4974, 'arab_man:': 4975, 'ventriloquism': 4976, 'cheer': 4977, 'amount': 4978, 'uncomfortable': 4979, 'undies': 4980, 'harrowing': 4981, 'breaks': 4982, 'laughs': 4983, 'do': 4984, 'sweetly': 4985, 'f': 4986, 'clothespins': 4987, 'brain': 4988, 'mccall': 4989, 'action': 4990, 'war': 4991, 'pretending': 4992, 'legs:': 4993, 'friend:': 4994, 'bastard': 4995, 'healthier': 4996, 'dinks': 4997, '7g': 4998, 'found': 4999, 'blues': 5000, 'eddie:': 5001, \"smackin'\": 5002, 'gang': 5003, 'colossal': 5004, 'demo': 5005, 'urinal': 5006, 'noise': 5007, \"city's\": 5008, \"smokin'\": 5009, 'rub-a-dub': 5010, 'when': 5011, 'state': 5012, 'angry': 5013, 'laid': 5014, \"i'd\": 5015, \"rustlin'\": 5016, 'thirty-nine': 5017, 'watered': 5018, \"meanin'\": 5019, 'travel': 5020, 'delivery': 5021, 'blinded': 5022, 'snide': 5023, 'sir': 5024, 'blurbs': 5025, 'groin': 5026, 'bottom': 5027, 'bus': 5028, \"narratin'\": 5029, 'children': 5030, 'anything': 5031, 'chicks': 5032, 'rasputin': 5033, 'hootie': 5034, 'chief_wiggum:': 5035, 'sen': 5036, 'steam': 5037, 'shard': 5038, 'goods': 5039, 'delays': 5040, 'chanting': 5041, 'ineffective': 5042, 'lighten': 5043, 'effigy': 5044, 'stinger': 5045, 'fourth': 5046, 'twenty-six': 5047, 'ne': 5048, 'hunter': 5049, 'inspection': 5050, 'tale': 5051, 'boozebag': 5052, \"bo's\": 5053, 'life-extension': 5054, 'comes': 5055, 'traditions': 5056, 'clapping': 5057, 'tough': 5058, 'intoxicated': 5059, 'royal': 5060, 'haw': 5061, 'ihop': 5062, 'fatty': 5063, 'book': 5064, 'death': 5065, 'career': 5066, \"money's\": 5067, 'tons': 5068, 'military': 5069, 'painted': 5070, 'broke': 5071, 'initially': 5072, 'bread': 5073, 'promise': 5074, 'cappuccino': 5075, 'doors': 5076, 'authorized': 5077, 'miss_lois_pennycandy:': 5078, 'all:': 5079, 'fifth': 5080, 'conditioner': 5081, 'whispers': 5082, 'pilsner-pusher': 5083, 'wind': 5084, 'flaming': 5085, 'sesame': 5086, 'pigtown': 5087, 'cobbling': 5088, 'losing': 5089, 'woulda': 5090, 'cheryl': 5091, 'gasps': 5092, 'slight': 5093, 'woman:': 5094, 'paste': 5095, 'squeal': 5096, 'beaumarchais': 5097, 'him': 5098, 'who-o-oa': 5099, 'wigs': 5100, 'came': 5101, 'sodas': 5102, 'imitating': 5103, 'stevie': 5104, 'shotgun': 5105, 'sanctuary': 5106, \"smokin'_joe_frazier:\": 5107, 'duke': 5108, 'watered-down': 5109, 'bees': 5110, 'row': 5111, 'blessing': 5112, 'rusty': 5113, 'bull': 5114, 'rom': 5115, 'foil': 5116, 'able': 5117, 'massive': 5118, 'view': 5119, 'aside': 5120, 'society': 5121, 'courteous': 5122, 'nah': 5123, 'steaming': 5124, 'those': 5125, 'something:': 5126, 'yak': 5127, 'body': 5128, 'still': 5129, 'turn': 5130, 'cuff': 5131, 'fox': 5132, 'managed': 5133, \"jimbo's_dad:\": 5134, 'plums': 5135, 'jubilation': 5136, 'dictator': 5137, 'ails': 5138, 'veux': 5139, 'snout': 5140, 'scotch': 5141, 'corporation': 5142, 'happier': 5143, 'har': 5144, 'tropical': 5145, 'manchego': 5146, 'two': 5147, 'slim': 5148, 'edna_krabappel-flanders:': 5149, 'beef': 5150, \"weren't\": 5151, 'rickles': 5152, 'knife': 5153, 'place': 5154, 'by': 5155, 'hurts': 5156, \"shootin'\": 5157, 'lurks': 5158, 'led': 5159, 'rag': 5160, 'ad': 5161, 'cheesecake': 5162, 'rhyme': 5163, 'jumping': 5164, \"high-falutin'\": 5165, 'dishrag': 5166, \"moe's_thoughts:\": 5167, 'week': 5168, 'pope': 5169, 'barney-type': 5170, 'guff': 5171, 'least': 5172, 'astonishment': 5173, 'offa': 5174, 'innocuous': 5175, 'pulls': 5176, 'toss': 5177, 'western': 5178, 'truck': 5179, 'woodchucks': 5180, 'yellow-belly': 5181, 'acronyms': 5182, 'together': 5183, 'helpless': 5184, 'dice': 5185, 'writers': 5186, 'presto:': 5187, 'w': 5188, 'sadistic_barfly:': 5189, 'cleveland': 5190, 'dime': 5191, 'longer': 5192, 'affects': 5193, 'easygoing': 5194, 'refreshing': 5195, 'darjeeling': 5196, 'stuff': 5197, 'bulletin': 5198, 'sidelines': 5199, 'considering': 5200, 'free': 5201, 'calls': 5202, 'spreads': 5203, 'squeals': 5204, 'riding': 5205, 'tick': 5206, 'pitcher': 5207, 'prank': 5208, 'drinker': 5209, 'twelveball': 5210, 'fishing': 5211, 'television': 5212, 'pit': 5213, 'victorious': 5214, 'seductive': 5215, 'digging': 5216, 'rebuilt': 5217, 'dressing': 5218, 'tonight': 5219, 'anymore': 5220, 'key': 5221, 'recruiter': 5222, 'moe-heads': 5223, 'routine': 5224, 'booth': 5225, 'cries': 5226, 'intakes': 5227, 'fights': 5228, 'finale': 5229, 'smell': 5230, 'macbeth': 5231, 'joining': 5232, 'moolah-stealing': 5233, 'moe_szyslak:': 5234, 'creme': 5235, 'specials': 5236, 'scrape': 5237, 'various': 5238, 'kyoto': 5239, 'soir': 5240, 'pal': 5241, 'failed': 5242, 'dregs': 5243, 'slapped': 5244, 'befouled': 5245, 'creeps': 5246, 'test-lady': 5247, 'me': 5248, 'south': 5249, 'ummmmmmmmm': 5250, 'declan_desmond:': 5251, 'complicated': 5252, 'notice': 5253, 'seas': 5254, 'beard': 5255, 'ow': 5256, 'hand': 5257, 'doom': 5258, 'great': 5259, \"'s\": 5260, 'hugh:': 5261, 'stinky': 5262, 'tender': 5263, 'fourteen:': 5264, 'pinball': 5265, 'believe': 5266, 'stones': 5267, 'washouts': 5268, 'occupation': 5269, 'mural': 5270, 'finding': 5271, \"puttin'\": 5272, 'kill': 5273, 'whip': 5274, 'distinct': 5275, 'clincher': 5276, 'drinks': 5277, 'meeting': 5278, 'upsetting': 5279, 'issuing': 5280, 'hoping': 5281, 'accounta': 5282, 'side:': 5283, 'man:': 5284, 'realizing': 5285, 'ned_flanders:': 5286, 'sloppy': 5287, 'shtick': 5288, 'glowers': 5289, 'mobile': 5290, 'reluctantly': 5291, 'sustain': 5292, 'blown': 5293, 'surprising': 5294, 'causes': 5295, 'the_edge:': 5296, 'pats': 5297, 'problems': 5298, 'judgments': 5299, 'stores': 5300, 'bald': 5301, 'safety': 5302, 'feels': 5303, 'richard:': 5304, 'boxing_announcer:': 5305, 'brawled': 5306, 'sequel': 5307, 'daughter': 5308, 'rope': 5309, 'ford': 5310, 'spamming': 5311, 'experienced': 5312, 'hooky': 5313, 'hiring': 5314, 'learn': 5315, 'shoulders': 5316, 'ape-like': 5317, 'smallest': 5318, 'flustered': 5319, 'poisoning': 5320, 'bulked': 5321, \"cuckold's\": 5322, 'message': 5323, 'get': 5324, 'correcting': 5325, \"scammin'\": 5326, 'waters': 5327, 'stepped': 5328, 'fountain': 5329, 'muscle': 5330, 'alky': 5331, 'starters': 5332, 'why': 5333, 'nos': 5334, 'wide': 5335, 'comedies': 5336, 'elder': 5337, 'boozehound': 5338, 'heart': 5339, 'dejected': 5340, 'flash-fry': 5341, '_montgomery_burns:': 5342, 'continuum': 5343, 'voice': 5344, 'nooo': 5345, 'blooded': 5346, 'serum': 5347, \"santa's\": 5348, 'chapel': 5349, 'all-star': 5350, 'vanities': 5351, '/': 5352, 'nelson_muntz:': 5353, 'couch': 5354, 'jane': 5355, 'drunkening': 5356, 'eager': 5357, 'manfred': 5358, 'horror': 5359, 'another': 5360, 'barn': 5361, 'club': 5362, 'tuborg': 5363, 'city': 5364, 'confidence': 5365, 'ahhh': 5366, 'drift': 5367, 'avalanche': 5368, 'wiggle': 5369, 'tenor:': 5370, 'julienne': 5371, 'faces': 5372, 'charming': 5373, 'show-off': 5374, 'kearney_zzyzwicz:': 5375, 'frat': 5376, 'whenever': 5377, 'walk': 5378, 'wholeheartedly': 5379, 'wittgenstein': 5380, 'szyslak': 5381, 'eyed': 5382, 'center': 5383, 'damage': 5384, 'turlet': 5385, 'cause': 5386, 'belly': 5387, 'souped': 5388, 'mirror': 5389, 'public': 5390, 'statesmanlike': 5391, 'annual': 5392, 'mild': 5393, 'venture': 5394, 'nameless': 5395, 'woooooo': 5396, 'casting': 5397, 'reserved': 5398, 'foundation': 5399, 'lips': 5400, 'erasers': 5401, 'con': 5402, 'barbed': 5403, \"how'd\": 5404, 'aunt': 5405, 'big': 5406, 'america': 5407, 'instantly': 5408, 'you-need-man': 5409, 'all-all-all': 5410, 'california': 5411, 'swishkabobs': 5412, 'something': 5413, 'pen': 5414, 'ruled': 5415, 'booking': 5416, 'flown': 5417, 'distributor': 5418, 'microbrew': 5419, 'date': 5420, \"goin'\": 5421, 'breaking': 5422, 'rubs': 5423, \"breakin'\": 5424, 'gol-dangit': 5425, 'sixteen': 5426, 'gabriel': 5427, 'eighteen': 5428, 'cajun': 5429, 'jump': 5430, 'ahh': 5431, 'yours': 5432, 'rainbows': 5433, 'ease': 5434, 'take': 5435, 'kay': 5436, 'crappy': 5437, 'gently': 5438, \"stallin'\": 5439, 'glen': 5440, 'soaked': 5441, 'seek': 5442, 'huddle': 5443, 'fbi': 5444, 'are': 5445, 'breathalyzer': 5446, 'crow': 5447, 'boozy': 5448, 'fumigated': 5449, 'triumphantly': 5450, 'amanda': 5451, 'computer': 5452, 'world': 5453, 'blind': 5454, 'fingers': 5455, 'clientele': 5456, 'fault': 5457, 'concerned': 5458, 'fools': 5459, 'labels': 5460, 'mine': 5461, 'alpha-crow': 5462, 'expect': 5463, 'thirteen': 5464, 'due': 5465, 'scoffs': 5466, 'awfully': 5467, 'admiration': 5468, 'gold': 5469, 'humanity': 5470, 'bunch': 5471, 'discussing': 5472, \"ragin'\": 5473, 'mortgage': 5474, \"shouldn't\": 5475, 'up-bup-bup': 5476, 'edna': 5477, 'schnapps': 5478, 'offshoot': 5479, 'christian': 5480, 'male_singers:': 5481, 'skills': 5482, 'thirsty': 5483, 'crack': 5484, 'bottle': 5485, 'possessions': 5486, 'too': 5487, 'county': 5488, 'joe': 5489, 'clips': 5490, 'rip': 5491, 'popular': 5492, 'andalay': 5493, 'hustle': 5494, 'unbelievable': 5495, 'jukebox_record:': 5496, 'sotto': 5497, 'drove': 5498, 'nicer': 5499, 'stagehand:': 5500, 'code': 5501, 'pity': 5502, 'sun': 5503, 'awful': 5504, 'shindig': 5505, 'grampa_simpson:': 5506, 'unsourced': 5507, 'accent': 5508, 'it:': 5509, 'they': 5510, 'bachelorhood': 5511, 'being': 5512, 'sweetie': 5513, 'pian-ee': 5514, \"game's\": 5515, 'jockey': 5516, 'thousand-year': 5517, 'grope': 5518, 'language': 5519, 'ripped': 5520, 'william': 5521, 'nahasapeemapetilon': 5522, \"livin'\": 5523, 'charm': 5524, 'realized': 5525, 'tense': 5526, 'sure': 5527, 'tomato': 5528, 'quimbys:': 5529, 'forty-two': 5530, 'lump': 5531, 'stealings': 5532, 'bon-bons': 5533, 'pipe': 5534, 'need': 5535, 'bauer': 5536, 'lipo': 5537, 'general': 5538, 'ratio': 5539, 'landlord': 5540, 'guest': 5541, 'wudgy': 5542, 'congoleum': 5543, 'holy': 5544, 'luv': 5545, 'see': 5546, 'hideous': 5547, 'quite': 5548, 'ura': 5549, 'manjula': 5550, 'fine': 5551, 'yammering': 5552, 'el': 5553, 'kennedy': 5554, 'ruin': 5555, 'hang': 5556, 'diaper': 5557, 'inserts': 5558, 'medical': 5559, 'coney': 5560, 'director': 5561, 'criminal': 5562, \"heat's\": 5563, 'fistiana': 5564, 'stooges': 5565, 'flourish': 5566, 'pawed': 5567, 'played': 5568, 'patriotic': 5569, 'village': 5570, 'eats': 5571, \"tomorrow's\": 5572, 'passion': 5573, 'concentrate': 5574, 'patty_bouvier:': 5575, 'administration': 5576, 'mixed': 5577, 'flexible': 5578, 'putty': 5579, 'smelling': 5580, 'absolutely': 5581, 'queer': 5582, 'alone': 5583, \"cat's\": 5584, 'crab': 5585, 'character': 5586, 'own': 5587, 'gum': 5588, \"choosin'\": 5589, 'celeste': 5590, 'hilton': 5591, 'fox_mulder:': 5592, 'compromise:': 5593, 'store': 5594, 'bedridden': 5595, 'huggenkiss': 5596, 'pull': 5597, 'chew': 5598, 'stolen': 5599, 'theatah': 5600, 'treat': 5601, 'arm': 5602, 'videotaped': 5603, 'fast-food': 5604, 'hearse': 5605, 'scared': 5606, 'thirty-thousand': 5607, 'tar-paper': 5608, 'portuguese': 5609, 'tempting': 5610, 'mathis': 5611, 'belong': 5612, 'silent': 5613, 'ways': 5614, 'impatient': 5615, 'cops': 5616, 'saved': 5617, \"y'money's\": 5618, 'slays': 5619, \"duff's\": 5620, 'bets': 5621, 'annoying': 5622, 'composer': 5623, 'frink-y': 5624, 'dame': 5625, 'switch': 5626, 'knuckle-dragging': 5627, 'comfortable': 5628, 'tavern': 5629, 'gary_chalmers:': 5630, 'sperm': 5631, 'dilemma': 5632, 'cocoa': 5633, 'artie': 5634, 'channel': 5635, \"rentin'\": 5636, 'frenchman': 5637, 'snail': 5638, 'ton': 5639, 'common': 5640, \"man'd\": 5641, \"'im\": 5642, \"fightin'\": 5643, \"they'll\": 5644, 'john': 5645, 'homer_simpson:': 5646, 'son': 5647, 'passes': 5648, 'obese': 5649, 'starts': 5650, 'thorn': 5651, 'short': 5652, \"mecca's\": 5653, 'hydrant': 5654, 'pyramid': 5655, 'blood-thirsty': 5656, \"jackpot's\": 5657, 'ever': 5658, 'face': 5659, 'woman': 5660, 'catch-phrase': 5661, 'sunk': 5662, 'join': 5663, 'crony': 5664, \"y'know\": 5665, 'burt': 5666, \"wasn't\": 5667, 'statues': 5668, 'salary': 5669, \"elmo's\": 5670, 'sleeps': 5671, 'replace': 5672, 'delts': 5673, 'coward': 5674, 'stillwater:': 5675, 'miserable': 5676, 'hyper-credits': 5677, 'boyfriend': 5678, 'uncreeped-out': 5679, 'exhale': 5680, 'fresh': 5681, \"tester's\": 5682, 'jerk-ass': 5683, \"writin'\": 5684, 'worth': 5685, 'mouths': 5686, 'elocution': 5687, 'rings': 5688, 'blamed': 5689, 'delete': 5690, 'airport': 5691, 'cooking': 5692, 'defiantly': 5693, 'l': 5694, 'wishes': 5695, 'artie_ziff:': 5696, 'showered': 5697, 'combination': 5698, 'record': 5699, 'caught': 5700, 'chorus:': 5701, 'gossipy': 5702, 'sub-monkeys': 5703, 'superior': 5704, 'ech': 5705, 'treats': 5706, 'multi-national': 5707, 'jeff_gordon:': 5708, 'kent_brockman:': 5709, 'shred': 5710, 'donut': 5711, 'danny': 5712, \"comin'\": 5713, 'slurred': 5714, 'cruiser': 5715, 'choose': 5716, \"can't\": 5717, 'brewed': 5718, 'sinkhole': 5719, 'annus': 5720, 'hide': 5721, 'jaegermeister': 5722, 'understood': 5723, 'jackson': 5724, 'accelerating': 5725, 'brick': 5726, \"idea's\": 5727, 'press': 5728, 'sharing': 5729, 'tab': 5730, 'bring': 5731, 'careful': 5732, 'sounded': 5733, 'lecture': 5734, 'understanding': 5735, 'brother': 5736, \"'round\": 5737, 'rationalizing': 5738, 'enemy': 5739, '|semicolon|': 5740, 'dirty': 5741, 'already': 5742, 'quality': 5743, 'monkey': 5744, 'always': 5745, 'briefly': 5746, 'spy': 5747, 'ears': 5748, 'theatrical': 5749, 'shriners': 5750, 'sloe': 5751, 'pays': 5752, 'stan': 5753, 'soul-crushing': 5754, 'tapestry': 5755, 'cheerier': 5756, \"somebody's\": 5757, 'mona_simpson:': 5758, 'jumps': 5759, 'fantastic': 5760, 'handle': 5761, 'bobo': 5762, 'musta': 5763, 'customers': 5764, 'binoculars': 5765, 'sucked': 5766, \"'bout\": 5767, 'snake-handler': 5768, 'frog': 5769, 'shyly': 5770, 'improv': 5771, 'germans': 5772, 'george': 5773, 'mushy': 5774, 'spiritual': 5775, 'neither': 5776, 'fulla': 5777, 'column': 5778, 'evergreen': 5779, 'ninety-six': 5780, 'hell': 5781, 'simpsons': 5782, 'raccoons': 5783, 'prefer': 5784, 'true': 5785, 'lotsa': 5786, 'was': 5787, 'beautiful': 5788, 'better': 5789, 'raise': 5790, 'say': 5791, 'straight': 5792, \"he'd\": 5793, 'workers': 5794, 'lookalikes': 5795, 'monorails': 5796, \"watchin'\": 5797, 'excellent': 5798, 'drank': 5799, 'business': 5800, 'lovelorn': 5801, 'hmf': 5802, \"o'clock\": 5803, 'point': 5804, 'perfunctory': 5805, 'casual': 5806, 'saint': 5807, 'junior': 5808, 'utensils': 5809, 'yawns': 5810, 'burger': 5811, 'exclusive:': 5812, 'heliotrope': 5813, 'older': 5814, '50-60': 5815, 'burp': 5816, 'squirrels': 5817, 'earth': 5818, 'swill': 5819, 'coy': 5820, 'legend': 5821, 'aged': 5822, 'rafter': 5823, 'draw': 5824, 'outlive': 5825, 'forehead': 5826, 'ale': 5827, 'stingy': 5828, 'spine': 5829, 'occupied': 5830, 'court': 5831, 'ya': 5832, 'remorseful': 5833, 'carb': 5834, 'gulliver_dark:': 5835, 'options': 5836, 'distract': 5837, 'maude': 5838, 'reopen': 5839, 'magazine': 5840, 'life': 5841, 'ziffcorp': 5842, 'four': 5843, 'eight-year-old': 5844, 'sign': 5845, 'donuts': 5846, 'owned': 5847, 'here': 5848, 'startup': 5849, 'ollie': 5850, 'beating': 5851, 'wobbly': 5852, 'universe': 5853, 'coast': 5854, 'avenue': 5855, 'pep': 5856, 'fletcherism': 5857, 'insulin': 5858, 'after': 5859, 'maggie': 5860, 'fighter': 5861, 'mall': 5862, 'spellbinding': 5863, 'growing': 5864, 'brainiac': 5865, 'yourself': 5866, \"secret's\": 5867, 'bitterly': 5868, 'invite': 5869, 'shopping': 5870, 'standards': 5871, 'homesick': 5872, \"marge's\": 5873, \"betsy'll\": 5874, 'culkin': 5875, \"tap-pullin'\": 5876, 'noises': 5877, 'sky': 5878, 'gamble': 5879, 'minister': 5880, 'sound': 5881, 'somebody': 5882, 'space-time': 5883, 'woo-hoo': 5884, 'their': 5885, 'completely': 5886, 'fold': 5887, 'lowest': 5888, 'oak': 5889, 'dictating': 5890, 'sickens': 5891, 'finished': 5892, 'count': 5893, 'agent_johnson:': 5894, 'hates': 5895, 'swigmore': 5896, 'generally': 5897, 'gotcha': 5898, 'bums': 5899, \"poundin'\": 5900, 'cauliflower': 5901, \"grandmother's\": 5902, 'ye': 5903, 'heart-broken': 5904, 'dateline': 5905, 'wa': 5906, 'owns': 5907, 'charlie': 5908, 'closer': 5909, 'roller': 5910, 'relieved': 5911, 'chuck': 5912, 'flashing': 5913, 'relationship': 5914, 'loud': 5915, 'deeply': 5916, 'stagey': 5917, 'bridges': 5918, '-ry': 5919, 'steampunk': 5920, 'sincere': 5921, 'package': 5922, 'avec': 5923, 'kids': 5924, 'email': 5925, 'backgammon': 5926, 'blood': 5927, 'crapmore': 5928, 'selma_bouvier:': 5929, 'scully': 5930, 'wordloaf': 5931, 'sensitivity': 5932, 'years': 5933, 'oh': 5934, 'nothing': 5935, 'ninety-seven': 5936, 'tow': 5937, \"when's\": 5938, 'developed': 5939, 'knees': 5940, 'luckily': 5941, 'cuddling': 5942, 'woman_bystander:': 5943, 'kirk_van_houten:': 5944, 'begins': 5945, 'plain': 5946, 'scientific': 5947, 'winces': 5948, \"others'\": 5949, 'aid': 5950, 'passed': 5951, 'slip': 5952, 'monroe': 5953, 'witty': 5954, 'shorter': 5955, 'sugar': 5956, 'glyco-load': 5957, 'anthony_kiedis:': 5958, 'unkempt': 5959, 'cracked': 5960, 'everyone': 5961, 'distraught': 5962, 'arguing': 5963, 'stengel': 5964, 'stretch': 5965, 'colorado': 5966, 'jay': 5967, 'yelling': 5968, 'today': 5969, 'rage': 5970, 'bolting': 5971, 'evasive': 5972, 'wore': 5973, \"robbin'\": 5974, 'disco_stu:': 5975, 'blaze': 5976, 'wolveriskey': 5977, 'declared': 5978, 'large': 5979, 'dearest': 5980, 'fired': 5981, 'design': 5982, 'coat': 5983, 'closet': 5984, 'dna': 5985, 'polite': 5986, 'anyhoo': 5987, \"father's\": 5988, 'kisser': 5989, 'angel': 5990, \"beer's\": 5991, 'late': 5992, 'flag': 5993, 'attack': 5994, 'greystash': 5995, 'x': 5996, 'researching': 5997, 'apartment': 5998, 'friction': 5999, 'neanderthal': 6000, 'kills': 6001, 'partially': 6002, 'whee': 6003, 'deeper': 6004, 'warren': 6005, 'peter': 6006, 'racially-diverse': 6007, 'cowboys': 6008, \"mcstagger's\": 6009, 'mostly': 6010, 'mill': 6011, 'champ': 6012, 'running': 6013, 'which': 6014, 'crowbar': 6015, 'right': 6016, 'dough': 6017, 'train': 6018, 'completing': 6019, 'jer': 6020, 'lib': 6021, 'tire': 6022, 'alcoholism': 6023, 'prize': 6024, 'ing': 6025, \"edna's\": 6026, 'feminine': 6027, 'minimum': 6028, \"o'problem\": 6029, 'bret:': 6030, 'natured': 6031, 'person': 6032, 'complete': 6033, 'sink': 6034, \"gettin'\": 6035, 'horses': 6036, 'extended': 6037, 'die': 6038, 'pugilist': 6039, 'pretzel': 6040, 'tsk': 6041, 'aidens': 6042, 'jerky': 6043, 'letters': 6044, 'cupid': 6045, 'não': 6046, 'feelings': 6047, 'favor': 6048, 'churchill': 6049, 'professor_jonathan_frink:': 6050, 'signal': 6051, 'heaven': 6052, 'privacy': 6053, 'touches': 6054, 'dreamy': 6055, 'genius': 6056, 'warned': 6057, 'lenny:': 6058, 'habit': 6059, \"ladies'\": 6060, 'shill': 6061, 'handed': 6062, 'self': 6063, 'mither': 6064, 'juke': 6065, 'bon': 6066, 'forty-five': 6067, 'beached': 6068, 'supermodel': 6069, 'trustworthy': 6070, 'wait': 6071, 'poplar': 6072, 'longest': 6073, \"pickin'\": 6074, 'hostages': 6075, 'low-life': 6076, 'selling': 6077, 'product': 6078, 'edgy': 6079, 'thrilled': 6080, 'nards': 6081, 'pointing': 6082, 'unforgettable': 6083, \"family's\": 6084, 'eaten': 6085, 'traitor': 6086, 'chumbawamba': 6087, 'eighty-six': 6088, 'grave': 6089, 'very': 6090, 'kemi': 6091, 'stupidest': 6092, 'cartoons': 6093, 'haws': 6094, 'simplest': 6095, 'singers:': 6096, 'scientists': 6097, 'felt': 6098, 'private': 6099, 'presents': 6100, 'blade': 6101, 'andrew': 6102, 'designer': 6103, 'cares': 6104, 'laws': 6105, 'class': 6106, 'disaster': 6107, 'ends': 6108, 'leave': 6109, 'jasper_beardly:': 6110, 'doll': 6111, 'tv-station_announcer:': 6112, 'elaborate': 6113, 'prejudice': 6114, 'lowering': 6115, 'whatcha': 6116, 'guns': 6117, 'pernt': 6118, 'iddilies': 6119, 'reliable': 6120, 'nucular': 6121, 'philosophical': 6122, 'trust': 6123, 'alarm': 6124, 'emotion': 6125, 'lofty': 6126, 'gary:': 6127, 'bar-boy': 6128, \"man's\": 6129, 'boy': 6130, 'firing': 6131, 'bragging': 6132, 'lose': 6133, 'whoever': 6134, 'wuss': 6135, 'ziff': 6136, 'coherent': 6137, 'ons': 6138, 'further': 6139, 'hours': 6140, 'stir': 6141, 'chubby': 6142, 'haikus': 6143, 'glove': 6144, 'pants': 6145, \"g'night\": 6146, 'beyond': 6147, 'half': 6148, 'bart': 6149, 'mis-statement': 6150, 'fat': 6151, 'sobriety': 6152, 'nevada': 6153, 'lorre': 6154, 'england': 6155, 'jacks': 6156, 'apart': 6157, 'roz:': 6158, 'oddest': 6159, 'lookalike:': 6160, 'funds': 6161, 'actor': 6162, 'crank': 6163, \"moe's\": 6164, 'score': 6165, 'keep': 6166, 'offensive': 6167, \"seein'\": 6168, 'wild': 6169, 'renovations': 6170, 'brag': 6171, 'shoot': 6172, 'carey': 6173, \"you've\": 6174, 'sick': 6175, 'united': 6176, 'badmouth': 6177, 'truck_driver:': 6178, \"tryin'\": 6179, 'goodnight': 6180, 'rainier_wolfcastle:': 6181, 'twenty-four': 6182, 'nudge': 6183, 'dials': 6184, 'plenty': 6185, 'gotta': 6186, 'odd': 6187, 'regulars': 6188, 'stab': 6189, 'pocket': 6190, 'grudgingly': 6191, 'totalitarians': 6192, 'wash': 6193, '_zander:': 6194, 'sixty': 6195, 'same': 6196, 'espn': 6197, 'sticking-place': 6198, 'nasa': 6199, 'jeff': 6200, 'clearly': 6201, 'not': 6202, 'quotes': 6203, 'drollery': 6204, 'cab_driver:': 6205, 'fixed': 6206, 'pointed': 6207, 'quit': 6208, 'mugs': 6209, 'neighboreeno': 6210, 'agnes_skinner:': 6211, 'elect': 6212, 'measurements': 6213, 'saget': 6214, 'lifetime': 6215, 'tornado': 6216, 'poin-dexterous': 6217, 'employment': 6218, 'suspect': 6219, 'newest': 6220, 'friendship': 6221, 'inside': 6222, 'floated': 6223, 'decided': 6224, 'putting': 6225, 'shuts': 6226, 'inquiries': 6227, 'attractive_woman_#1:': 6228, 'playing': 6229, 'uglier': 6230, 'synthesize': 6231, 'room': 6232, 'bathed': 6233, 'steamed': 6234, 'contemplates': 6235, 'sneaky': 6236, 'town': 6237, 'unlike': 6238, 'sorry': 6239, 'notch': 6240, 'wrestle': 6241, 'dennis_conroy:': 6242, 'voodoo': 6243, 'wazoo': 6244, 'neon': 6245, 'shesh': 6246, 'frazier': 6247, 'rascals': 6248, 'belts': 6249, 'confused': 6250, 'simp-sonnnn': 6251, 'smiles': 6252, 'choked': 6253, 'cadillac': 6254, 'savings': 6255, 'grateful': 6256, 'eyeing': 6257, 'presumir': 6258, 'approval': 6259, 'market': 6260, 'shall': 6261, 'working': 6262, 'inning': 6263, 'one-hour': 6264, 'furiously': 6265, 'crunch': 6266, 'enlightened': 6267, 'forced': 6268, 'manipulation': 6269, 'beer:': 6270, 'catty': 6271, 'eat': 6272, 'island': 6273, 'blubberino': 6274, 'pfft': 6275, 'oh-so-sophisticated': 6276, 'about': 6277, 'gardens': 6278, 'sidekick': 6279, \"kids'\": 6280, 'adrift': 6281, 'unless': 6282, 'certain': 6283, 'mexican': 6284, 'mount': 6285, 'milhouse': 6286, 'quitcher': 6287, 'tv_wife:': 6288, 'dimly': 6289, 'gal': 6290, 'dress': 6291, 'support': 6292, 'foibles': 6293, 'eliminate': 6294, 'crime': 6295, 'thumb': 6296, 'remaining': 6297, 'proud': 6298, 'life:': 6299, 'threatening': 6300, 'multi-purpose': 6301, 'ball': 6302, 'sponge': 6303, 'furious': 6304, 'expensive': 6305, 'mccarthy': 6306, 'milhouses': 6307, 'wally:': 6308, 'tinkle': 6309, 'slot': 6310, 'strategy': 6311, 'familiar': 6312, 'right-handed': 6313, 'cute': 6314, 'tha': 6315, \"tony's\": 6316, 'fund': 6317, 'lance': 6318, 'chipped': 6319, 'irish': 6320, 'temper': 6321, 'reed': 6322, 'mafia': 6323, 'publish': 6324, 'trees': 6325, 'cletus_spuckler:': 6326, 'louder': 6327, 'both': 6328, 'unsanitary': 6329, \"monroe's\": 6330, 'theme': 6331, 'premise': 6332, 'appreciate': 6333, 'jerks': 6334, 'bliss': 6335, 'onion': 6336, 'spotting': 6337, 'ungrateful': 6338, 'now': 6339, 'stadium': 6340, 'barely': 6341, 'fortensky': 6342, 'vampires': 6343, 'long': 6344, 'seat': 6345, 'used': 6346, 'tries': 6347, 'conclusions': 6348, 'stored': 6349, 'lovejoy': 6350, '_timothy_lovejoy:': 6351, 'conference': 6352, 'wood': 6353, 'beady': 6354, \"sippin'\": 6355, 'meaningfully': 6356, 'oof': 6357, 'opportunity': 6358, 'lousy': 6359, 'judge_snyder:': 6360, 'adult_bart:': 6361, 'text': 6362, 'considering:': 6363, \"i'm-so-stupid\": 6364, 'heartless': 6365, 'considers': 6366, 'mom': 6367, 'spied': 6368, 'red': 6369, 'ideas': 6370, 'beats': 6371, 'unavailable': 6372, 'kool': 6373, 'recently': 6374, 'internet': 6375, 'dispenser': 6376, 'pudgy': 6377, 'wrapped': 6378, 'sass': 6379, 'enemies': 6380, 'rent': 6381, 'glen:': 6382, 'veteran': 6383, 'sec': 6384, 'trunk': 6385, 'english': 6386, 'food': 6387, 'crinkly': 6388, 'jewish': 6389, 'shaking': 6390, 'clearing': 6391, 'shaggy': 6392, 'punk': 6393, 'divine': 6394, 'commanding': 6395, 'difficult': 6396, 'springfield': 6397, 'david_byrne:': 6398, 'caricature': 6399, 'forever': 6400, 'dad': 6401, 'hoax': 6402, \"football's\": 6403, 'land': 6404, 'encore': 6405, 'involving': 6406, 'domed': 6407, 'dive': 6408, 'twins': 6409, 'ho-la': 6410, 'finish': 6411, 'lifestyle': 6412, 'ron_howard:': 6413, 'vodka': 6414, 'w-a-3-q-i-zed': 6415, \"messin'\": 6416, 'spit-backs': 6417, 'nigeria': 6418, 'principles': 6419, 'whiny': 6420, 'crayola': 6421, 'prettiest': 6422, 'laughing': 6423, 'every': 6424, 'ohh': 6425, 'expert': 6426, 'moe-ron': 6427, 'geyser': 6428, 'results': 6429, 'radio': 6430, 'compliments': 6431, 'frankie': 6432, 'result': 6433, 'vomit': 6434, \"liftin'\": 6435, 'window': 6436, 'oughtta': 6437, 'knock': 6438, \"'em\": 6439, 'stalin': 6440, 'rife': 6441, 'figure': 6442, 'africa': 6443, 'or': 6444, 'nigel_bakerbutcher:': 6445, \"tootin'\": 6446, 'afford': 6447, 'atlanta': 6448, 'closes': 6449, 'discuss': 6450, 'bedbugs': 6451, 'fonda': 6452, 'elephants': 6453, 'fustigation': 6454, 'washer': 6455, 'fast': 6456, 'even': 6457, 'amazing': 6458, 'walked': 6459, 'caholic': 6460, 'cecil': 6461, 'proposition': 6462, 'stagy': 6463, 'makes': 6464, 'ceremony': 6465, 'grampa': 6466, 'shreda': 6467, 'put': 6468, 'dammit': 6469, 'look': 6470, 'man_at_bar:': 6471, 'group': 6472, 'evil': 6473, 'arimasen': 6474, 'flophouse': 6475, 'cost': 6476, ':': 6477, 'that': 6478, 'insightful': 6479, 'training': 6480, 'studied': 6481, 'twice': 6482, 'gentleman:': 6483, 'giggle': 6484, 'creature': 6485, 'vote': 6486, 'peanut': 6487, 'online': 6488, 'politicians': 6489, \"wouldn't-a\": 6490, 'courts': 6491, 'vance': 6492, 'brainheaded': 6493, 'tease': 6494, 'poem': 6495, 'peabody': 6496, 'disguised': 6497, 'clown': 6498, 'incredulous': 6499, 'sweetest': 6500, 'jacques:': 6501, 'splash': 6502, 'startled': 6503, 'slugger': 6504, \"kiddin'\": 6505, 'sympathy': 6506, 'jimmy': 6507, 're-al': 6508, 'successful': 6509, 'aging': 6510, 'jerry': 6511, \"'evening\": 6512, 'discriminate': 6513, 'pain': 6514, 'oils': 6515, 'rafters': 6516, 'bowling': 6517, 'lurleen': 6518, \"drawin'\": 6519, 'ivory': 6520, 'sue': 6521, 'italian': 6522, 'kodos:': 6523, 'sinister': 6524, 'stern': 6525, 'rumor': 6526, 'competitive': 6527, 'tomahto': 6528, 'teriyaki': 6529, 'save': 6530, 'ho': 6531, 'coma': 6532, 'crowd': 6533, 'run': 6534, 'glitterati': 6535, 'send': 6536, \"murphy's\": 6537, 'eyesore': 6538, 'compared': 6539, 'flush-town': 6540, 'yoo': 6541, 'magic': 6542, 'businessman_#2:': 6543, 'super-tough': 6544, 'wade_boggs:': 6545, 'paying': 6546, 'terrorizing': 6547, 'tall': 6548, 'young_moe:': 6549, 'cheers': 6550, 'jewelry': 6551, 'using': 6552, 'cocks': 6553, \"someone's\": 6554, 'allegiance': 6555, 'reviews': 6556, 'football': 6557, 'whaddaya': 6558, 'call': 6559, 'available': 6560, 'souvenir': 6561, \"d'\": 6562, 's-a-u-r-c-e': 6563, 'karaoke_machine:': 6564, 'transylvania': 6565, \"g'ahead\": 6566, 'grey': 6567, 'sweater': 6568, 'reason': 6569, 'wrestling': 6570, 'round': 6571, 'stage': 6572, 'social': 6573, 'immiggants': 6574, 'lone': 6575, 'dizzy': 6576, \"now's\": 6577, 'hit': 6578, 'pad': 6579, 'helen': 6580, 'calendars': 6581, 'charged': 6582, 'bleacher': 6583, 'sugar-free': 6584, 'politics': 6585, 'on': 6586, 'owner': 6587, 'reality': 6588, 'jeter': 6589, 'bold': 6590, 'exchange': 6591, 'jeers': 6592, 'impressed': 6593, 'compare': 6594, 'may': 6595, 'clammy': 6596, 'enveloped': 6597, 'listened': 6598, 'yards': 6599, 'brightening': 6600, \"'your\": 6601, 'dutch': 6602, 'memories': 6603, 'french': 6604, 'outside': 6605, 'christopher': 6606, 'forget-me-drinks': 6607, 'permanent': 6608, 'nachos': 6609, 'blackjack': 6610, 'flaking': 6611, 'leftover': 6612, 'ruined': 6613, 'rich': 6614, 'excuses': 6615, 'made': 6616, 'illegal': 6617, 'tree_hoper:': 6618, 'anyway': 6619, 'badges': 6620, 'behind': 6621, 'so-called': 6622, 'started': 6623, 'thousands': 6624, 'hello': 6625, 'buddy': 6626, 'howya': 6627, 'ivanna': 6628, 'bugging': 6629, \"one's\": 6630, 'martini': 6631, 'upset': 6632, 'the_rich_texan:': 6633, 'uneasy': 6634, 'sets': 6635, 'model': 6636, \"eatin'\": 6637, 'iranian': 6638, 'koi': 6639, 'beach': 6640, 'hemoglobin': 6641, 'wagering': 6642, 'jacques': 6643, 'colonel:': 6644, 'deer': 6645, 'irishman': 6646, 'wells': 6647, 'shot': 6648, \"what'sa\": 6649, 'eve': 6650, 'mad': 6651, 'sale': 6652, 'somehow': 6653, 'helping': 6654, 'squishee': 6655, 'carney': 6656, 'reactions': 6657, 'generous': 6658, 'in-in-in': 6659, 'scout': 6660, 'average': 6661, 'morlocks': 6662, 'ginger': 6663, 'loboto-moth': 6664, 'notices': 6665, 'mistake': 6666, 'cell': 6667, 'divorced': 6668, 'i': 6669, 'west': 6670, 'squabbled': 6671, 'lobster': 6672, 'borrow': 6673, 'malibu': 6674, 'microwave': 6675, 'muslim': 6676, 'santa': 6677, 'takeaway': 6678, 'anyone': 6679, 'informant': 6680, 'polenta': 6681, 'saucy': 6682, 'wienerschnitzel': 6683, 'doreen': 6684, 'nailed': 6685, 'boxer:': 6686, 'profiling': 6687, 'throat': 6688, 'terrified': 6689, 'drop': 6690, 'spread': 6691, 'beans': 6692, 'jack_larson:': 6693, 'leaving': 6694, 'and': 6695, 'world-class': 6696, 'patient': 6697, 'teenage_barney:': 6698, 'represent': 6699, 'cleaner': 6700, 'bag': 6701, 'flashbacks': 6702, 'higher': 6703, 'frink': 6704, \"askin'\": 6705, 'loneliness': 6706, 'statistician': 6707, 'lady': 6708, 'sigh': 6709, 'citizens': 6710, \"barney's\": 6711, 'gibson': 6712, 'juan': 6713, 'assassination': 6714, 'devils:': 6715, 'guilt': 6716, 'peter_buck:': 6717, 'served': 6718, 'curse': 6719, 'mmmm': 6720, 'cleaning': 6721, 'pardon': 6722, \"children's\": 6723, 'wants': 6724, 'flash': 6725, 'wh': 6726, 'legally': 6727, 'band': 6728, 'napkins': 6729, 'dealie': 6730, 'boneheaded': 6731, 'betty:': 6732, 'hoo': 6733, 'fans': 6734, 'uses': 6735, 'partner': 6736, '|question_mark|': 6737, 'devastated': 6738, 'characteristic': 6739, 'humiliation': 6740, 'al_gore:': 6741, 'doof': 6742, 'launch': 6743, 'solid': 6744, 'dramatic': 6745, 'genuinely': 6746, 'syrup': 6747, 'nerd': 6748, 'best': 6749, 'sedaris': 6750, 'choked-up': 6751, 'endorse': 6752, 'guinea': 6753, 'homer': 6754, 'signed': 6755, 'college': 6756, 'dealt': 6757, 'tragedy': 6758, 'bluff': 6759, 'grammy': 6760, 'cop': 6761, 'henry': 6762, 'add': 6763, 'break-up': 6764, 'guard': 6765, 'b-day': 6766, 'products': 6767, 'lindsay': 6768, 'cavern': 6769, 'nose': 6770, \"brockman's\": 6771, 'choking': 6772, 'patterns': 6773, 'disco': 6774, 'soot': 6775, 'democrats': 6776, 'oopsie': 6777, 'novelty': 6778}\n",
      "{0: 'slightly', 1: 'bullet-proof', 2: 'deal', 3: 'sang', 4: 'gees', 5: 'boat', 6: 'boggs', 7: 'shakespeare', 8: 'ken:', 9: 'nagurski', 10: 'disturbance', 11: 'sheets', 12: 'eww', 13: \"mo'\", 14: 'box', 15: 'bono', 16: 'said', 17: \"readin'\", 18: 'runaway', 19: 'pointedly', 20: 'wars', 21: 'picky', 22: 'space', 23: 'soon', 24: 'jerk', 25: 'joking', 26: 'repeating', 27: 'super', 28: 'natural', 29: 'white', 30: 'rub', 31: 'replaced', 32: 'otherwise', 33: 'snaps', 34: 'gore', 35: 'hard', 36: 'storms', 37: 'evils', 38: 'relative', 39: 'contented', 40: 'risqué', 41: 'temp', 42: 'burn', 43: 'womb', 44: 'miss', 45: 'sturdy', 46: 'ram', 47: \"spiffin'\", 48: \"table's\", 49: \"i'll\", 50: 'chip', 51: 'solved', 52: 'meyerhof', 53: 'tanking', 54: 'lindsay_naegle:', 55: 'star', 56: 'more', 57: 'deep', 58: 'show', 59: 'oh-ho', 60: 'squirrel', 61: 'extra', 62: 'professional', 63: \"'kay-zugg'\", 64: 'intense', 65: 'fortress', 66: 'zoomed', 67: 'old', 68: 'frogs', 69: 'swallowed', 70: 'bar', 71: 'lou', 72: 'total', 73: 'kako:', 74: 'jackass', 75: 'scum', 76: 'fortune', 77: 'lemme', 78: 'art', 79: 'deliberately', 80: 'na', 81: 'insensitive', 82: 'onions', 83: 'oooo', 84: 'typed', 85: 'mel', 86: 'reward', 87: \"'til\", 88: 'kid', 89: 'photographer', 90: 'book_club_member:', 91: 'sharity', 92: 'network', 93: 'parrot', 94: 'moe-clone:', 95: 'heck', 96: 'turns', 97: 'correct', 98: 'pleading', 99: 'fledgling', 100: 'homeless', 101: 'diving', 102: 'upn', 103: 'arrest', 104: 'justice', 105: 'shoulder', 106: 'reading', 107: 'ninety-eight', 108: \"school's\", 109: 'middle', 110: 'potatoes', 111: 'chance', 112: 'answered', 113: 'unable', 114: 'flanders', 115: 'squeeze', 116: 'pageant', 117: 'arrived', 118: 'potato', 119: 'dreams', 120: 'remembered', 121: 'silence', 122: 'powerful', 123: 'sausage', 124: 'declan', 125: 'blinds', 126: 'bulldozing', 127: 'butt', 128: 'asking', 129: 'mahatma', 130: 'ass', 131: 'themselves', 132: 'donut-shaped', 133: 'bully', 134: 'wobble', 135: \"listenin'\", 136: 'table', 137: 'clone', 138: 'julep', 139: 'pathetic', 140: 'shortcomings', 141: 'coined', 142: 'eightball', 143: 'smart', 144: 'mission', 145: 'sideshow_mel:', 146: 'accidents', 147: 'twenty-nine', 148: 'faulkner', 149: 'young_homer:', 150: 'legs', 151: 'moe-near-now', 152: 'ireland', 153: \"chewin'\", 154: 'monkeyshines', 155: 'progress', 156: 'billy_the_kid:', 157: 'piece', 158: 'mind', 159: 'herself', 160: 'skinner', 161: 'explaining', 162: 'innocence', 163: \"mtv's\", 164: 'its', 165: 'talked', 166: 'dignity', 167: 'inspire', 168: 'corporate', 169: 'mexicans', 170: 'botanical', 171: 'portfolium', 172: 'alter', 173: 'cough', 174: 'idea', 175: 'burnside', 176: 'alien', 177: 'er', 178: 'energy', 179: 'cerebral', 180: 'winning', 181: 'champs', 182: 'th-th-th-the', 183: 'selfish', 184: 'delicately', 185: 'aah', 186: 'spot', 187: 'wounds', 188: 'steal', 189: 'proudly', 190: 'met', 191: 'grin', 192: 'inches', 193: 'wenceslas', 194: 'exited', 195: 'advice', 196: 'commission', 197: 'lord', 198: 'despite', 199: 'highest', 200: 'guessing', 201: 'clears', 202: 'bury', 203: 'compliment', 204: 'shaved', 205: 'truth', 206: \"collector's\", 207: 'everything', 208: 'hero', 209: 'fancy', 210: 'thighs', 211: 'billboard', 212: 'industry', 213: 'worldly', 214: 'invisible', 215: 'glitz', 216: 'kidney', 217: 'tourist', 218: 'poor', 219: 'adjourned', 220: 'mustard', 221: 'image', 222: 'guts', 223: 'palmerston', 224: 'xanders', 225: 'gals', 226: 'sauce', 227: 'grumpy', 228: \"man's_voice:\", 229: 'near', 230: \"wino's\", 231: 'princesses', 232: 'terrible', 233: '|right_parantheses|', 234: 'three-man', 235: \"what'll\", 236: 'asked', 237: 'attempting', 238: 'peppy', 239: 'showing', 240: 'fury', 241: 'anonymous', 242: 'simpson', 243: 'planned', 244: 'agree', 245: 'selma', 246: 'nobody', 247: 'begging', 248: 'trench', 249: 'dean', 250: 'folks', 251: '3', 252: 'bathing', 253: 'night-crawlers', 254: 'ooh', 255: 'thoughts', 256: 'match', 257: 'shoulda', 258: 'effervescent', 259: 'scooter', 260: 'threw', 261: 'suspicious', 262: 'al', 263: 'kneeling', 264: 'dumpster', 265: 'parasol', 266: 'nine', 267: 'chum', 268: 'magnanimous', 269: 'entirely', 270: 'spelling', 271: 'extract', 272: 'urban', 273: 'became', 274: 'chateau', 275: 'everywhere', 276: 'angrily', 277: 'plywood', 278: 'lucius:', 279: 'barf', 280: 'strokkur', 281: 'card', 282: 'brothers', 283: 'laughter', 284: 'blows', 285: 'rancid', 286: 'musical', 287: 'girl-bart', 288: 'cover', 289: 'sweden', 290: 'whale', 291: 'choices:', 292: 'defensive', 293: 'poetics', 294: 'original', 295: 'hispanic_crowd:', 296: 'drunk', 297: 'cash', 298: 'delivery_man:', 299: 'judges', 300: 'wearing', 301: 'badly', 302: 'isotopes', 303: 'blossoming', 304: 'alma', 305: 'one', 306: 'infor', 307: 'africanized', 308: 'shades', 309: 'other_player:', 310: 'hose', 311: \"bart's\", 312: 'waylon', 313: 'cheese', 314: 'enough', 315: 'collette:', 316: 'buffet', 317: 'pillows', 318: 'kirk', 319: 'retired', 320: 'braun:', 321: 'hottest', 322: 'rob', 323: 'compete', 324: 'clipped', 325: 'hammock', 326: 'connection', 327: 'ball-sized', 328: 'eleven', 329: \"patrick's\", 330: 'kentucky', 331: 'maximum', 332: 'yogurt', 333: 'homeland', 334: 'program', 335: 'drivers', 336: 'banned', 337: 'inclination', 338: 'buddha', 339: 'read', 340: 'acting', 341: 'cheapskates', 342: \"wait'll\", 343: 'saw', 344: 'grabbing', 345: 'choices', 346: 'scanning', 347: 'shark', 348: 'acceptance', 349: 'gestated', 350: \"squeezin'\", 351: 'nauseous', 352: 'glum', 353: 'next', 354: \"yesterday's\", 355: 'grienke', 356: 'albeit', 357: \"other's\", 358: 'dropping', 359: 'calling', 360: \"bartender's\", 361: \"beggin'\", 362: 'nash', 363: 'carl:', 364: 'federal', 365: 'therefore', 366: \"maggie's\", 367: 'astronaut', 368: 'shakes', 369: 'counter', 370: 'tv_husband:', 371: 'continued', 372: 'tolerable', 373: \"england's\", 374: 'drunkenly', 375: 'celebrate', 376: 'breakdown', 377: 'lanes', 378: 'british', 379: 'pickle', 380: '_burns_heads:', 381: 'ominous', 382: 'option', 383: 'icelandic', 384: 'knowingly', 385: 'cruise', 386: 'mistresses', 387: 'continuing', 388: 'scratcher', 389: 'remember', 390: 'slit', 391: 'community', 392: 'worst', 393: 'course', 394: 'fdic', 395: 'dignified', 396: 'connor-politan', 397: 'experiments', 398: 'cobra', 399: 'ling', 400: 'poison', 401: 'fink', 402: 'hot-rod', 403: 'murdoch', 404: 'confident', 405: 'meals', 406: 'prizefighters', 407: 'pledge', 408: 'chipper', 409: 'housework', 410: 'generosity', 411: 'fly', 412: 'sandwich', 413: 'priest', 414: 'sniffing', 415: 'perking', 416: 'dint', 417: 'mitts', 418: 'trapped', 419: 'breathless', 420: 'sanitary', 421: 'raining', 422: 'ugliest', 423: \"she'll\", 424: 'whaddya', 425: 'de-scramble', 426: 'incriminating', 427: 'sober', 428: 'tv_daughter:', 429: 'pus-bucket', 430: 'calm', 431: 'chug-monkeys', 432: 'duel', 433: 'babies', 434: 'grandé', 435: 'faceful', 436: \"usin'\", 437: 'drawn', 438: 'narrator:', 439: 'poker', 440: 'actors', 441: 'addiction', 442: \"homer's_brain:\", 443: \"nothin'\", 444: 'soul', 445: 'aerosmith', 446: 'shifty', 447: 'mouse', 448: 'german', 449: 'fellas', 450: 'y-you', 451: 'zack', 452: 'honor', 453: 'barney-guarding', 454: 'thrown', 455: 'sobbing', 456: 'multiple', 457: 'rainier', 458: 'tears', 459: 'someday', 460: 'bellyaching', 461: \"son's\", 462: 'wasted', 463: 'absorbent', 464: 'bear', 465: 'intriguing', 466: 'nail', 467: 'easy-going', 468: 'arrange', 469: \"team's\", 470: 'specific', 471: 'international', 472: 'sooo', 473: 'wheel', 474: 'mudflap', 475: 'beanbag', 476: 'clean', 477: \"s'cuse\", 478: \"brady's\", 479: 'husband', 480: 'pantsless', 481: 'harvard', 482: 'freshened', 483: 'blokes', 484: 'protesting', 485: 'honeys', 486: 'counterfeit', 487: \"i-i'm\", 488: 'tiger', 489: 'producers', 490: 'schabadoo', 491: 'egg', 492: 'p-k', 493: 'rutabaga', 494: \"larry's\", 495: \"i'm\", 496: 'buttocks', 497: 'manjula_nahasapeemapetilon:', 498: 'favorite', 499: 'station', 500: 'lenny_leonard:', 501: 'eating', 502: 'midge:', 503: 'frankenstein', 504: 'bake', 505: 'conclude', 506: 'lear', 507: 'moonlight', 508: 'impress', 509: 'getcha', 510: 'lady-free', 511: 'hanh', 512: 'nantucket', 513: 'moment', 514: 'tapping', 515: 'dumptruck', 516: 'du', 517: 'flat', 518: 'fires', 519: 'blur', 520: 'love-matic', 521: 'roy', 522: 'shareholder', 523: 'hearts', 524: 'knew', 525: 'hooray', 526: 'occupancy', 527: \"buyin'\", 528: 'kicks', 529: 'tummies', 530: 'lists', 531: 'shutup', 532: \"we'll\", 533: 'eu', 534: 'awkwardly', 535: 'ahhhh', 536: 'hockey-fight', 537: 'radical', 538: 'giving', 539: 'than', 540: 'decadent', 541: 'planted', 542: 'amber', 543: 'comic', 544: 'tasty', 545: 'himself', 546: 'craphole', 547: '_kissingher:', 548: 'ugly', 549: 'bumbling', 550: 'ago', 551: 'information', 552: 'shout', 553: 'metal', 554: 'arm-pittish', 555: 'fears', 556: \"that's\", 557: 'short_man:', 558: 'file', 559: 'beverage', 560: 'especially', 561: 'duff', 562: 'libido', 563: 'shaken', 564: 'suicide', 565: 'director:', 566: 'youth', 567: 'history', 568: 'violations', 569: 'alfred', 570: 'chill', 571: 'windshield', 572: 'parking', 573: 'understood:', 574: 'lis', 575: 'hundreds', 576: 'marjorie', 577: 'at', 578: 'helicopter', 579: 'dozen', 580: 'prison', 581: 'customers-slash-only', 582: 'wad', 583: 'kept', 584: 'afloat', 585: 'whaaaa', 586: 'indecipherable', 587: 'opening', 588: 'brunswick', 589: \"won't\", 590: 'female_inspector:', 591: 'quarter', 592: 'string', 593: 'baby', 594: 'cyrano', 595: 'must', 596: 'snotball', 597: 'omit', 598: 'montrer', 599: 'farthest', 600: 'myself', 601: 'knocks', 602: 'necklace', 603: 'clenched', 604: 'clandestine', 605: 'recent', 606: 'eighty-three', 607: 'lied', 608: 'bugs', 609: 'amber_dempsey:', 610: 'stupidly', 611: \"nixon's\", 612: 'kisses', 613: 'over', 614: 'vegas', 615: 'animals', 616: \"car's\", 617: 'a-lug', 618: 'above', 619: 'hippies', 620: 'hillary', 621: 'environment', 622: 'snitch', 623: 'backward', 624: 'insulted', 625: 'appearance-altering', 626: 'meal', 627: 'movie', 628: 'puff', 629: 'talkers', 630: 'non-losers', 631: 'hygienically', 632: 'tony', 633: \"professor's\", 634: 'lawyer', 635: 'kenny', 636: 'sixty-nine', 637: 'melodramatic', 638: 'meant', 639: 'kwik-e-mart', 640: 'unhook', 641: 'roz', 642: 'viva', 643: \"dimwit's\", 644: 'sadly', 645: 'mmmmm', 646: 'handoff', 647: 'liser', 648: 'screw', 649: 'tape', 650: 'coupon', 651: 'chain', 652: 'strips', 653: 'mayor_joe_quimby:', 654: 'mini-beret', 655: 'scrutinizes', 656: 'walther_hotenhoffer:', 657: 'wednesday', 658: 'pusillanimous', 659: 'married', 660: 'detecting', 661: 'catching', 662: 'brassiest', 663: 'missed', 664: 'stamps', 665: 'dyspeptic', 666: 'lives', 667: 'swings', 668: 'outlook', 669: \"renee's\", 670: \"ma's\", 671: 'tabs', 672: 'fondest', 673: 'lenny', 674: '8', 675: 'grade', 676: 'whistles', 677: 'head', 678: 'none', 679: 'wham', 680: 'pepper', 681: \"daughter's\", 682: 'browns', 683: 'bride', 684: 'shipment', 685: 'fireworks', 686: \"aren'tcha\", 687: 'attracted', 688: 'lay', 689: \"disrobin'\", 690: 'jukebox', 691: 'mention', 692: 'suburban', 693: 'spews', 694: 'nonchalant', 695: 'noble', 696: 'competing', 697: 'snatch', 698: \"o'\", 699: 'brings', 700: 'planet', 701: 'barney', 702: 'supplying', 703: 'fruit', 704: 'loafers', 705: 'other_book_club_member:', 706: 'jets', 707: 'koji', 708: 'kidding', 709: 'alley', 710: 'earpiece', 711: 'smurfs', 712: 'sadder', 713: 'represents', 714: 'schizophrenia', 715: 'loudly', 716: 'brusque', 717: 'army', 718: 'serious', 719: '6', 720: 'missing', 721: 'yes', 722: 'grimly', 723: 'normals', 724: 'cloudy', 725: 'endorsed', 726: 'average-looking', 727: 'play/', 728: 'practically', 729: 'mulder', 730: \"somethin's\", 731: 'richer', 732: 'betrayed', 733: 'grease', 734: 'slick', 735: \"hadn't\", 736: 'raises', 737: 'lap', 738: 'says', 739: 'crayon', 740: \"'ere\", 741: 'wiggle-frowns', 742: 'hiding', 743: 'busted', 744: 'st', 745: 'vicious', 746: 'cheering', 747: 'ticks', 748: 'phasing', 749: 'ahead', 750: 'lot', 751: 'ripper', 752: 'sells', 753: 'faced', 754: 'yellow', 755: 'gloop', 756: 'flame', 757: 'touchdown', 758: 'entertainer', 759: 'handshake', 760: 'jolly', 761: 'canoodling', 762: 'gesture', 763: \"tv's\", 764: 'mystery', 765: 'poured', 766: 'reluctant', 767: 'loves', 768: 'face-macer', 769: 'beaumont', 770: \"tatum'll\", 771: 'engraved', 772: 'break', 773: 'unexplained', 774: 'milks', 775: 'rush', 776: 'rid', 777: 'cricket', 778: 'dryer', 779: 'host', 780: \"fine-lookin'\", 781: 'donate', 782: 'muffled', 783: 'sly', 784: 'sudden', 785: 'zeal', 786: 'work', 787: 'bits', 788: 'jogging', 789: 'donation', 790: 'gives', 791: 'kinda', 792: 'two-thirds-empty', 793: 'dance', 794: \"couldn't\", 795: 'handwriting', 796: 'vengeful', 797: 'skins', 798: 'pages', 799: 'singing', 800: 'crap', 801: 'period', 802: 'stand', 803: 'loved', 804: 'enjoy', 805: '_powers:', 806: \"cupid's\", 807: 'intelligent', 808: 'pained', 809: 'night', 810: 'shutting', 811: 'finance', 812: \"who'll\", 813: 'switched', 814: 'smiled', 815: 'matter-of-fact', 816: 'muscles', 817: 'chuckling', 818: 'lloyd', 819: 'happily:', 820: 'mcbain', 821: 'buried', 822: 'load', 823: 'biggest', 824: 'way', 825: 'random', 826: \"getting'\", 827: 'dee-fense', 828: 'vestigial', 829: 'eight', 830: 'willing', 831: 'bender:', 832: 'stick', 833: 'bill', 834: 'spare', 835: \"she'd\", 836: 'wheeeee', 837: 'to', 838: 'love', 839: 'gheet', 840: 'sassy', 841: 'laney_fontaine:', 842: 'dirt', 843: 'rented', 844: 'wooooo', 845: 'sweat', 846: 'mirthless', 847: 'menacing', 848: 'perón', 849: 'disappointing', 850: 'located', 851: 'swe-ee-ee-ee-eet', 852: 'calmly', 853: 'century', 854: 'official', 855: \"c'mon\", 856: 'doctor', 857: 'connor', 858: 'conversations', 859: 'priceless', 860: 'books', 861: 'democracy', 862: 'gimmick', 863: 'spending', 864: 'wallet', 865: 'runt', 866: 'gentlemen', 867: 'homers', 868: 'janette', 869: 'prayers', 870: 'itchy', 871: 'edner', 872: 'naval', 873: 'nobel', 874: 'audience:', 875: 'year', 876: 'flanders:', 877: 'troy', 878: 'supreme', 879: 'filed', 880: 'anguished', 881: 'announcer:', 882: 'literature', 883: 'beam', 884: 'polygon', 885: 'stayed', 886: 'failure', 887: 'broncos', 888: 'pulled', 889: 'fritz', 890: 'determined', 891: 'ancestors', 892: 'warn', 893: 'written', 894: 'happened', 895: 'chastity', 896: 'newsweek', 897: 'fun', 898: 'smile:', 899: 'achem', 900: 'uniforms', 901: 'knit', 902: 'percent', 903: 'months', 904: 'crimes', 905: 'high', 906: 'hotenhoffer', 907: 'pepto-bismol', 908: 'highway', 909: 'hate', 910: 'dawning', 911: 'poster', 912: 'waylon_smithers:', 913: 'warily', 914: 'holidays', 915: '_hooper:', 916: 'title', 917: 'fool', 918: 'inanely', 919: 'names', 920: 'edna-lover-one-seventy-two', 921: 'bid', 922: 'depending', 923: 'celebrities', 924: 'turkey', 925: 'partly', 926: 'little_man:', 927: 'stock', 928: 'numeral', 929: 'cock', 930: \"carl's\", 931: 'lowers', 932: 'hands', 933: 'agent_miller:', 934: 'absentminded', 935: 'furry', 936: \"takin'\", 937: 'whim', 938: \"tree's\", 939: 'plotz', 940: 'grunt', 941: 'strain', 942: 'use', 943: 'elves:', 944: 'tipsy', 945: 'toy', 946: 'days', 947: 'fontaine', 948: 'flowers', 949: 'barney-shaped_form:', 950: 'hillbillies', 951: 'batmobile', 952: 'maitre', 953: 'material', 954: 'far', 955: 'margarita', 956: 'u', 957: 'department', 958: 'kl5-4796', 959: 'suck', 960: 'reptile', 961: 'korea', 962: \"showin'\", 963: 'treehouse', 964: 'unfamiliar', 965: 'pip', 966: 'düff', 967: 'boston', 968: 'bible', 969: \"wonderin'\", 970: 'moon-bounce', 971: 'bindle', 972: 'geez', 973: 'embarrassed', 974: 'grumbling', 975: 'eyeballs', 976: 'yuh-huh', 977: 'rump', 978: 'wake', 979: 'gasp', 980: 'fifty', 981: \"hobo's\", 982: 'boring', 983: 'prohibit', 984: 'bum:', 985: 'pills', 986: 'hellhole', 987: 'explain', 988: 'chin', 989: 'solo', 990: 'princess', 991: 'from', 992: 'hear', 993: 'gutenberg', 994: 'presently', 995: 'naegle', 996: 'roomy', 997: 'delicious', 998: 'killed', 999: 'teenage_bart:', 1000: 'drown', 1001: 'heavyset', 1002: 'dies', 1003: 'hated', 1004: 'crawl', 1005: 'fast-paced', 1006: 'suave', 1007: 'is', 1008: 'dead', 1009: 'clear', 1010: 'happy', 1011: 'sunny', 1012: 'quadruple-sec', 1013: 'catholic', 1014: 'courthouse', 1015: 'baloney', 1016: 'form', 1017: 'glasses', 1018: 'alfalfa', 1019: 'prices', 1020: 'amazed', 1021: 'wine', 1022: 'conspiratorial', 1023: 'yard', 1024: \"clancy's\", 1025: 'washed', 1026: 'rolling', 1027: 'flayvin', 1028: 'dae', 1029: 'certificate', 1030: 'tonic', 1031: 'diablo', 1032: 'partners', 1033: 'coms', 1034: 'tin', 1035: 'seem', 1036: 'chuckles', 1037: \"i-i'll\", 1038: 'act', 1039: 'buy', 1040: 'artist', 1041: 'kent', 1042: 'site', 1043: 'old-time', 1044: 'frankly', 1045: 'tap', 1046: \"tv'll\", 1047: 'carlson', 1048: 'looting', 1049: 'fever', 1050: 'drinking:', 1051: \"calf's\", 1052: 'scene', 1053: 'nor', 1054: 'surgeonnn', 1055: 'dropped', 1056: 'ebullient', 1057: 'bowie', 1058: 'hangs', 1059: 'players', 1060: 'tank', 1061: \"'roids\", 1062: 'movies', 1063: 'wave', 1064: 'fragile', 1065: 'shocked', 1066: 'roach', 1067: 'focus', 1068: 'gag', 1069: 'appear', 1070: 'oww', 1071: 'regretful', 1072: \"bladder's\", 1073: 'tips', 1074: 'suddenly', 1075: 'pro', 1076: \"challengin'\", 1077: 'bad-mouth', 1078: 'ruuuule', 1079: 'mumble', 1080: 'flips', 1081: 'puts', 1082: 'apology', 1083: 'where', 1084: 'conditioners', 1085: 'blew', 1086: 'background', 1087: 'reach', 1088: 'admirer', 1089: 'inflated', 1090: 'bike', 1091: 'duh', 1092: 'fork', 1093: 'swig', 1094: 'cap', 1095: 'comment', 1096: 'shack', 1097: 'seriously', 1098: 'beer-jerks', 1099: 'grants', 1100: 'vulgar', 1101: 'trainers', 1102: 'engine', 1103: 'funny', 1104: 'menace', 1105: 'bronco', 1106: 'kansas', 1107: 'cherry', 1108: 'elmer', 1109: 'teams', 1110: 'handling', 1111: 'level', 1112: 'conspiracy', 1113: 'boyhood', 1114: 'reminds', 1115: 'dennis_kucinich:', 1116: 'sobs', 1117: 'lease', 1118: 'spit', 1119: 'indeed', 1120: 'winded', 1121: 'saturday', 1122: 'majesty', 1123: 'faded', 1124: 'reynolds', 1125: 'halloween', 1126: 'swelling', 1127: 'underpants', 1128: 'puzzle', 1129: 'journey', 1130: 'voice:', 1131: 'sledge-hammer', 1132: 'technical', 1133: 'olive', 1134: 'conversation', 1135: 'bee', 1136: 'dreary', 1137: 'we', 1138: 'ratted', 1139: 'ecru', 1140: 'stationery', 1141: 'cats', 1142: 'fad', 1143: 'sail', 1144: 'bide', 1145: 'morose', 1146: 'mock-up', 1147: 'ping-pong', 1148: 'mouth', 1149: 'tooth', 1150: 'buds', 1151: \"'n'\", 1152: 'pridesters:', 1153: 'skinny', 1154: 'lighter', 1155: 'feld', 1156: 'goldarnit', 1157: 'lushmore', 1158: 'grandkids', 1159: 'fifteen', 1160: 'rolls', 1161: 'strategizing', 1162: 'cab', 1163: 'aerospace', 1164: 'paris', 1165: 'moxie', 1166: 'landfill', 1167: 'mcstagger', 1168: 'tickets', 1169: 'couple', 1170: 'c', 1171: \"burnin'\", 1172: \"department's\", 1173: 'what', 1174: 'manuel', 1175: 'birthplace', 1176: 'luxury', 1177: 'bags', 1178: 'triangle', 1179: 'slipped', 1180: 'occasional', 1181: 'tsking', 1182: 'triple-sec', 1183: 'quick-like', 1184: 'anxious', 1185: 'bail', 1186: 'abe', 1187: 'sees', 1188: 'figured', 1189: 'spits', 1190: \"startin'\", 1191: 'against', 1192: 'answer', 1193: 'brought', 1194: 'captain', 1195: 'trick', 1196: 'snotty', 1197: 'five', 1198: 'four-star', 1199: 'fix', 1200: 'suspiciously', 1201: 'mater', 1202: 'clothes', 1203: 'othello', 1204: 'a-a-b-b-a', 1205: 'service', 1206: 'bedtime', 1207: 'iran', 1208: 'exploiter', 1209: 'filth', 1210: 'done', 1211: \"bashir's\", 1212: 'pepsi', 1213: 'small_boy:', 1214: 'dollface', 1215: 'usually', 1216: 'nation', 1217: 'football_announcer:', 1218: 'founded', 1219: 'sometimes', 1220: 'cosmetics', 1221: 'police', 1222: 'rupert_murdoch:', 1223: 'quebec', 1224: 'upgrade', 1225: 'been', 1226: \"ain't\", 1227: 'unattractive', 1228: 'dennis', 1229: 'in', 1230: 'weekly', 1231: 'paints', 1232: 'powered', 1233: 'crummy', 1234: 'guys', 1235: 'pointy', 1236: 'cutie', 1237: 'mailbox', 1238: 'witches', 1239: 'cool', 1240: 'interested', 1241: 'punkin', 1242: 'cheap', 1243: 'giant', 1244: 'hollowed-out', 1245: 'madman', 1246: 'mumbling', 1247: 'burglary', 1248: 'hooters', 1249: 'direction', 1250: 'appropriate', 1251: 'cheaped', 1252: 'anderson', 1253: 'hexa-', 1254: 'tapered', 1255: 'fumes', 1256: 'tell', 1257: 'fact', 1258: \"handwriting's\", 1259: 'pretentious_rat_lover:', 1260: \"countin'\", 1261: 'plans', 1262: 'forgiven', 1263: 'sour', 1264: 'reaction', 1265: 'drummer', 1266: 'adeleine', 1267: 'changing', 1268: 'uhhhh', 1269: 'limber', 1270: 'around', 1271: 'ralph', 1272: 'gumbo', 1273: \"linin'\", 1274: 'mistakes', 1275: 'housing', 1276: 'ate', 1277: 'phlegm', 1278: 'heave-ho', 1279: 'am', 1280: 'mickey', 1281: 'persia', 1282: 'lazy', 1283: 'allow', 1284: 'generously', 1285: 'trying', 1286: 'reflected', 1287: 'gin-slingers', 1288: 'feminist', 1289: 'bar_rag:', 1290: 'painless', 1291: '250', 1292: 'fl', 1293: 'ingrates', 1294: \"round's\", 1295: 'carolina', 1296: 'kick', 1297: 'depressant', 1298: 'alibi', 1299: 'rules', 1300: 'family', 1301: 'bar:', 1302: 'party', 1303: 'bannister', 1304: 'attractive', 1305: 'indicates', 1306: 'done:', 1307: 'hans:', 1308: 'stripe', 1309: 'grammys', 1310: 'tail', 1311: 'pure', 1312: \"starla's\", 1313: 'normal', 1314: 'appealing', 1315: 'cuz', 1316: 'cozy', 1317: \"cheerin'\", 1318: 'hawaii', 1319: 'marmaduke', 1320: \"aristotle's\", 1321: 'play', 1322: \"coffee'll\", 1323: 'disapproving', 1324: 'barber', 1325: 'resolution', 1326: 'corn', 1327: 'harv', 1328: 'street', 1329: 'checks', 1330: 'okay', 1331: 'interrupting', 1332: 'president', 1333: 'frosty', 1334: 'polls', 1335: 'said:', 1336: 'pint', 1337: \"stealin'\", 1338: 'gambler', 1339: 'greetings', 1340: 'obama', 1341: 'wound', 1342: 'pasta', 1343: \"lookin'\", 1344: 'drug', 1345: 'lighting', 1346: 'greedy', 1347: 'uh-huh', 1348: 'wakede', 1349: 'medicine', 1350: 'intruding', 1351: 'charge', 1352: 'compressions', 1353: 'should', 1354: 'lisa', 1355: 'romantic', 1356: 'gus', 1357: 'bucket', 1358: 'spitting', 1359: 'koholic', 1360: 'wise', 1361: \"fallin'\", 1362: 'unusual', 1363: 'apu', 1364: 'plug', 1365: 'naively', 1366: 'renders', 1367: 'bet', 1368: 'abercrombie', 1369: 'robot', 1370: 'guy', 1371: 'majority', 1372: \"pressure's\", 1373: 'swamp', 1374: 'grim', 1375: 'young_marge:', 1376: 'weapon', 1377: 'part', 1378: 'thoughtless', 1379: \"can'tcha\", 1380: 'hurting', 1381: 'parents', 1382: \"workin'\", 1383: 'nascar', 1384: 'killarney', 1385: 'betcha', 1386: 'i-i', 1387: 'thomas', 1388: 'reciting', 1389: 'symphonies', 1390: 'our', 1391: 'moving', 1392: 'tactful', 1393: 'ah', 1394: 'cheaper', 1395: 'friends', 1396: 'expecting', 1397: 'latin', 1398: 'also', 1399: 'items', 1400: 'fit', 1401: \"doctor's\", 1402: 'catch', 1403: 'based', 1404: 'brain-switching', 1405: 'smitty:', 1406: 'miracle', 1407: 'clock', 1408: 'vengeance', 1409: 'awww', 1410: 'insecure', 1411: 'leprechaun', 1412: 'taste', 1413: 'seems', 1414: 'quick', 1415: 'forty', 1416: 'fist', 1417: 'skydiving', 1418: 'violin', 1419: 'rig', 1420: 'hilarious', 1421: 'how', 1422: 'beginning', 1423: 'hey', 1424: 'harm', 1425: 'horns', 1426: 'hourly', 1427: 'dear', 1428: 'whispered', 1429: 'fan', 1430: 'going', 1431: 'caused', 1432: 'selective', 1433: 'never', 1434: 'government', 1435: 'nein', 1436: 'worldview', 1437: 'assent', 1438: 'oughta', 1439: 'stamp', 1440: 'photo', 1441: 'dumb-asses', 1442: 'boxing', 1443: 'coach:', 1444: 'hanging', 1445: 'victory', 1446: 'sight-unseen', 1447: 'unhappy', 1448: 'talking', 1449: 'socialize', 1450: 'have', 1451: 'instead', 1452: 'comforting', 1453: 'palm', 1454: 'weight', 1455: 'fleabag', 1456: 'civilization', 1457: 'twerpy', 1458: 'singing/pushing', 1459: 'shoe', 1460: 'trip', 1461: 'sagely', 1462: 'orders', 1463: 'brains', 1464: 'twenty-two', 1465: 'wistful', 1466: 'finest', 1467: 'baseball', 1468: 'chic', 1469: 'dollars', 1470: 'bless', 1471: 'delightfully', 1472: 'urge', 1473: 'shells', 1474: 'menlo', 1475: 'dashes', 1476: 'hobo', 1477: 'population', 1478: 'dizer', 1479: 'shut', 1480: 'punches', 1481: 'bought', 1482: 'lincoln', 1483: 'fiction', 1484: 'wheels', 1485: 'louie:', 1486: 'be-stainèd', 1487: 'joey_kramer:', 1488: 'sixty-five', 1489: 'salvador', 1490: 'electronic', 1491: 'plucked', 1492: 'argue', 1493: 'inspector', 1494: 'application', 1495: 'nearly', 1496: 'grunts', 1497: 'tow-joes', 1498: 'tanked-up', 1499: 'unfair', 1500: 'haircuts', 1501: 'gas', 1502: 'arts', 1503: 'lottery', 1504: \"dad's\", 1505: 'prime', 1506: 'thunder', 1507: 'crowds', 1508: 'warmly', 1509: \"fendin'\", 1510: 'neighborhood', 1511: 'beers', 1512: 'jury', 1513: 'pennies', 1514: 'sweaty', 1515: 'darn', 1516: 'coming', 1517: 'tatum', 1518: 'slab', 1519: 'amiable', 1520: 'twin', 1521: 'snap', 1522: 'laramie', 1523: 'gunter:', 1524: 'subscriptions', 1525: 'shoo', 1526: 'sneak', 1527: 'deadly', 1528: 'falling', 1529: 'newsies', 1530: 'covers', 1531: '|quotation_mark|', 1532: 'maiden', 1533: 'ladder', 1534: 'disgrace', 1535: 'exits', 1536: 'fustigate', 1537: 'set', 1538: \"ball's\", 1539: 'wear', 1540: 'law', 1541: \"didn't\", 1542: 'could', 1543: '_eugene_blatz:', 1544: 'instrument', 1545: 'self-esteem', 1546: 'castle', 1547: 'moon', 1548: 'following', 1549: 'hurt', 1550: 'whoops', 1551: 'encouraged', 1552: 'source', 1553: 'eye-gouger', 1554: 'murderously', 1555: 'rug', 1556: 'kemi:', 1557: 'bones', 1558: \"stabbin'\", 1559: 'flack', 1560: 'want', 1561: 'out', 1562: 'throats', 1563: 'only', 1564: 'keys', 1565: 'nods', 1566: 'visas', 1567: 'maintenance', 1568: 'mediterranean', 1569: 'square', 1570: 'mags', 1571: 'unintelligent', 1572: 'lily-pond', 1573: 'pipes', 1574: 'skin', 1575: 'cat', 1576: 'hollywood', 1577: 'pickled', 1578: 'safer', 1579: 'payback', 1580: 'padres', 1581: 'foot', 1582: 'admit', 1583: 'chug-a-lug', 1584: 'archaeologist', 1585: 'neil_gaiman:', 1586: 'bumpy-like', 1587: 'mice', 1588: 'crumble', 1589: 'bunion', 1590: 'east', 1591: 'perfect', 1592: \"'ceptin'\", 1593: 'bloodball', 1594: 'certified', 1595: 'fridge', 1596: 'miles', 1597: \"valentine's\", 1598: 'lover', 1599: \"soundin'\", 1600: 'muertos', 1601: 'clench', 1602: 'go', 1603: 'my', 1604: 'stands', 1605: 'asleep', 1606: 'puffy', 1607: 'listening', 1608: 'mortal', 1609: 'weary', 1610: 'trail', 1611: 'front', 1612: 'coal', 1613: 'tv_announcer:', 1614: 'closed', 1615: 'milhouse_van_houten:', 1616: \"lisa's\", 1617: \"drivin'\", 1618: 'sanitation', 1619: \"playin'\", 1620: 'machine', 1621: \"industry's\", 1622: 'formico:', 1623: 'ze-ro', 1624: 'theory', 1625: 'nurse', 1626: 'hour', 1627: 'jig', 1628: 'future', 1629: 'gimmicks', 1630: '1973', 1631: 'backbone', 1632: 'dressed', 1633: 'ehhhhhhhhh', 1634: 'bill_james:', 1635: 'offer', 1636: \"pope's\", 1637: 'wreck', 1638: 'ahem', 1639: 'nonchalantly', 1640: 'dumb', 1641: 'crew', 1642: 'almost', 1643: 'nitwit', 1644: 'gunk', 1645: 'yee-haw', 1646: 'aiden', 1647: 'pursue', 1648: 'voice_on_transmitter:', 1649: 'wayne:', 1650: 'words', 1651: 'register', 1652: \"that'll\", 1653: 'cakes', 1654: 'richard', 1655: 'later', 1656: 'rubbed', 1657: 'monster', 1658: 'joint', 1659: 'cage', 1660: 'navy', 1661: 'recorder', 1662: 'teacher', 1663: 'barflies', 1664: 'ga', 1665: 'courage', 1666: 'skunk', 1667: 'six', 1668: 'streetcorner', 1669: 'cheery', 1670: 'terminated', 1671: 'promotion', 1672: 'kirk_voice_milhouse:', 1673: '&', 1674: 'hoagie', 1675: 'strap', 1676: 'rip-off', 1677: \"hole'\", 1678: 'accusing', 1679: 'warning', 1680: 'everyday', 1681: 'madison', 1682: 'color', 1683: 'misconstrue', 1684: 'professor', 1685: 'whatever', 1686: 'roll', 1687: 'sexual', 1688: 'befriend', 1689: 'confidential', 1690: 'gentle', 1691: 'audience', 1692: 'liven', 1693: 'scrubbing', 1694: 'brakes', 1695: 'beloved', 1696: 'ignoring', 1697: 'philosophic', 1698: 'getup', 1699: 'suppose', 1700: 'wraps', 1701: 'larry:', 1702: 'schedule', 1703: 'smokes', 1704: 'some', 1705: 'pulling', 1706: 'piling', 1707: 'legoland', 1708: 'gordon', 1709: 'gone', 1710: 'way:', 1711: 'movement', 1712: 'sat-is-fac-tion', 1713: 'camera', 1714: 'cockroach', 1715: \"'topes\", 1716: 'slaves', 1717: 'ditched', 1718: 'cousin', 1719: 'stiffening', 1720: 'ringing', 1721: 'fondly', 1722: 'suru', 1723: 'we-we-we', 1724: 'seeing', 1725: 'wolfe', 1726: 'choice', 1727: 'crisis', 1728: 'chapstick', 1729: 'academy', 1730: 'sings', 1731: 'handing', 1732: 'fritz:', 1733: 'dirge-like', 1734: \"dolph's_dad:\", 1735: 'hare-brained', 1736: 'portentous', 1737: 'chuckle', 1738: 'camp', 1739: 'affection', 1740: 'freely', 1741: 'hmm', 1742: 'hot', 1743: 'toys', 1744: 'nerve', 1745: 'page', 1746: 'tablecloth', 1747: 'radiator', 1748: 'rosey', 1749: 'noooooooooo', 1750: '100', 1751: 'candidate', 1752: 'pontiff', 1753: 'inserted', 1754: 'placed', 1755: 'endorsement', 1756: 'payday', 1757: 'capitol', 1758: 'juice', 1759: 'senators:', 1760: 'real', 1761: 'fica', 1762: 'guttural', 1763: 'snow', 1764: 'lemonade', 1765: 'interesting', 1766: 'wildest', 1767: 'complaint', 1768: 'surprise', 1769: 'society_matron:', 1770: 'hair', 1771: 'moans', 1772: 'teddy', 1773: 'tv', 1774: 'theater', 1775: 'byrne', 1776: 'sounds', 1777: 'stu', 1778: 'glummy', 1779: 'literary', 1780: 'calculate', 1781: 'difference', 1782: 'getaway', 1783: 'pair', 1784: 'doppler', 1785: 'hopeful', 1786: 'owe', 1787: 'gimme', 1788: 'named', 1789: 'annie', 1790: 'you', 1791: 'ironic', 1792: 'shooting', 1793: 'shower', 1794: 'heals', 1795: 'rhode', 1796: 'pirate', 1797: 'hug', 1798: 'eternity', 1799: 'hah', 1800: 'watch', 1801: 'them', 1802: 'temporarily', 1803: 'bono:', 1804: 'folk', 1805: 'jebediah', 1806: 'blowfish', 1807: 'lennyy', 1808: 'advertising', 1809: 'protesters', 1810: 'maxed', 1811: 'honored', 1812: 'upbeat', 1813: 'talk-sings', 1814: 'item', 1815: 'supply', 1816: 'hunka', 1817: 'infatuation', 1818: 'gil_gunderson:', 1819: 'mckinley', 1820: 'deserve', 1821: \"fishin'\", 1822: 'grandmother', 1823: 'attached', 1824: 'officer', 1825: 'drawing', 1826: 'index', 1827: 'keeping', 1828: 'memory', 1829: 'fuss', 1830: 'struggling', 1831: 'chilly', 1832: 'looser', 1833: 'disdainful', 1834: 'tobacky', 1835: 'cooler', 1836: \"stayin'\", 1837: 'lenses', 1838: 'passenger', 1839: 'each', 1840: 'edge', 1841: 'ladies', 1842: 'touch', 1843: 'ragtime', 1844: \"president's\", 1845: 'hairs', 1846: 'zero', 1847: \"lenny's\", 1848: 'wire', 1849: 'dungeon', 1850: 'knows', 1851: 'cigars', 1852: 'bash', 1853: 'denver', 1854: 'losers', 1855: 'lisa_simpson:', 1856: 'sports_announcer:', 1857: 'mike', 1858: 'sealed', 1859: 'conversion', 1860: 'thirty-three', 1861: \"'er\", 1862: 'bow', 1863: 'banquo', 1864: 'mid-conversation', 1865: 'heading', 1866: 'forty-seven', 1867: 'nfl_narrator:', 1868: 'give', 1869: 'all', 1870: 'h', 1871: 'emergency', 1872: 'irrelevant', 1873: 'lucky', 1874: 'lou:', 1875: 'asses', 1876: 'chow', 1877: 'patron_#1:', 1878: 'brotherhood', 1879: 'behavior', 1880: 'moe', 1881: 'family-owned', 1882: 'entrance', 1883: 'severe', 1884: 'crying', 1885: 'naturally', 1886: 'cueball', 1887: 'ice', 1888: 'plants', 1889: 'stripes', 1890: 'hooked', 1891: 'reaching', 1892: 'shush', 1893: 'ronstadt', 1894: 'sacrilicious', 1895: 'mate', 1896: 'control', 1897: 'pouring', 1898: \"they'd\", 1899: 'cents', 1900: 'malfeasance', 1901: '_julius_hibbert:', 1902: 'baritone', 1903: 'knock-up', 1904: '70', 1905: 'teach', 1906: 'whatchamacallit', 1907: 'grenky', 1908: 'furniture', 1909: 'forgets', 1910: 'eighty-one', 1911: 'orgasmville', 1912: 'punishment', 1913: \"coaster's\", 1914: 'flew', 1915: 'volunteer', 1916: 'fat-free', 1917: 'additional-seating-capacity', 1918: 'sideshow', 1919: 'mother', 1920: 'ready', 1921: 'golf', 1922: 'jams', 1923: 'americans', 1924: \"toot's\", 1925: 'boxer', 1926: 'cream', 1927: 'contemptuous', 1928: 'cushion', 1929: 'sitar', 1930: 'sam:', 1931: 'strains', 1932: 'wealthy', 1933: 'plastered', 1934: '21', 1935: 'sending', 1936: 'horrible', 1937: \"soakin's\", 1938: 'salad', 1939: 'decide', 1940: 'upon', 1941: 'thanks', 1942: 'moved', 1943: 'and/or', 1944: 'extremely', 1945: 'robbers', 1946: 'traitors', 1947: \"wife's\", 1948: 'most', 1949: 'shirt', 1950: 'beligerent', 1951: 'telephone', 1952: \"i'd'a\", 1953: 'per', 1954: 'mozzarella', 1955: 'plow', 1956: 'tones', 1957: \"bringin'\", 1958: 'sob', 1959: 'thinking', 1960: 'slender', 1961: 'between', 1962: \"queen's\", 1963: 'trouble', 1964: 'who', 1965: 'easter', 1966: 'thing', 1967: \"spaghetti-o's\", 1968: 'incredible', 1969: 'astrid', 1970: 'hangout', 1971: 'seconds', 1972: 'emphasis', 1973: 'paintings', 1974: 'updated', 1975: 'tommy', 1976: 'frustrated', 1977: 'contemporary', 1978: '10:15', 1979: 'bourbon', 1980: 'walking', 1981: 'appeals', 1982: 'alive', 1983: 'car', 1984: 'anarchy', 1985: 'blocked', 1986: 'la', 1987: 'octa-', 1988: 'rainforest', 1989: \"wearin'\", 1990: 'gotten', 1991: 'forget', 1992: \"everyone's\", 1993: 'positive', 1994: 'perverted', 1995: 'jobless', 1996: \"it's\", 1997: 'settles', 1998: 'stein-stengel-', 1999: 'ruby-studded', 2000: 'twelve', 2001: 'credit', 2002: 'stocking', 2003: 'michelin', 2004: 'hosting', 2005: 'choke', 2006: 'might', 2007: 'k-zug', 2008: 'nonsense', 2009: 'come', 2010: 'invented', 2011: 'scram', 2012: 'texas', 2013: 'bedroom', 2014: 'heads', 2015: 'enter', 2016: 'bam', 2017: 'song', 2018: 'aghast', 2019: 'mary', 2020: 'à', 2021: 'amused', 2022: '/mr', 2023: 'again', 2024: 'jay_leno:', 2025: 'website', 2026: \"lady's\", 2027: 'asks', 2028: 'smiling', 2029: 'two-drink', 2030: 'numbers', 2031: 'salvation', 2032: 'hate-hugs', 2033: 'spent', 2034: 'summer', 2035: 'motto', 2036: 'piano', 2037: 'heartily', 2038: 'crestfallen', 2039: 'benjamin', 2040: 'aristotle:', 2041: 'celebrity', 2042: 'wildfever', 2043: 'fat_in_the_hat:', 2044: 'drop-off', 2045: 'wipes', 2046: 'fence', 2047: 'freaking', 2048: 'towed', 2049: \"kearney's_dad:\", 2050: 'thorough', 2051: \"show's\", 2052: 'fell', 2053: 'newly-published', 2054: 'arise', 2055: 'known', 2056: 'whoa', 2057: \"crawlin'\", 2058: 'harvey', 2059: 'coughs', 2060: 'childless', 2061: 'conditioning', 2062: 'relaxing', 2063: 'gluten', 2064: 'combine', 2065: 'sincerely', 2066: 'smoker', 2067: 'manboobs', 2068: 'whirlybird', 2069: 'ride', 2070: 'charter', 2071: 'champion', 2072: 'disguise', 2073: 'doy', 2074: 'i/you', 2075: 'weirded-out', 2076: 'referee', 2077: 'dollar', 2078: 'karaoke', 2079: 'pressure', 2080: 'sudoku', 2081: 'beeps', 2082: 'bed', 2083: 'whoa-ho', 2084: 'ordered', 2085: 'heatherton', 2086: 'coin', 2087: 'mabel', 2088: 'flames', 2089: \"speakin'\", 2090: 'tradition', 2091: 'blame', 2092: 'meaning', 2093: 'serve', 2094: 'weirder', 2095: 'y', 2096: 'single-mindedness', 2097: 'comedy', 2098: 'throws', 2099: 'else', 2100: 'self-made', 2101: 'cheerleaders:', 2102: 'huhza', 2103: 'sneeze', 2104: 'elizabeth', 2105: 'sued', 2106: \"spyin'\", 2107: \"could've\", 2108: 'four-drink', 2109: 'umm', 2110: 'kissingher', 2111: 'presided', 2112: 'eighty-five', 2113: 'apply', 2114: 'eva', 2115: 'wondered', 2116: 'ads', 2117: 'detective', 2118: 'terror', 2119: 'dynamite', 2120: 'fiiiiile', 2121: 'gosh', 2122: 'tear', 2123: 'intrigued', 2124: 'bit', 2125: 'stays', 2126: \"town's\", 2127: 'oooh', 2128: 'diets', 2129: 'dracula', 2130: 'dog', 2131: 'human', 2132: 'beast', 2133: \"depressin'\", 2134: 'starve', 2135: 'yep', 2136: 'imagine', 2137: 'root', 2138: 'open-casket', 2139: 'treasure', 2140: 'formico', 2141: 'take-back', 2142: 'spouses', 2143: 'price', 2144: 'crotch', 2145: 'bears', 2146: 'justify', 2147: 'less', 2148: 'benefits', 2149: 'krusty', 2150: 'backwards', 2151: 'unjustly', 2152: 'warm_female_voice:', 2153: 'try', 2154: 'butter', 2155: \"o'reilly\", 2156: 'placing', 2157: 'phrase', 2158: 'straighten', 2159: 'femininity', 2160: 'medieval', 2161: 'convinced', 2162: 'voyager', 2163: 'gruesome', 2164: 'though', 2165: 'bathroom', 2166: 'label', 2167: 'shock', 2168: 'inspiring', 2169: 'sternly', 2170: 'awesome', 2171: 'chinese_restaurateur:', 2172: 'drives', 2173: 'eddie', 2174: 'firm', 2175: 'hungry', 2176: 'facebook', 2177: 'prettied', 2178: 'full-time', 2179: 'sponsoring', 2180: 'bowl', 2181: 'cowardly', 2182: 'riveting', 2183: 'strolled', 2184: 'lookalike', 2185: 'subject', 2186: 'capitalists', 2187: 'enthused', 2188: 'agents', 2189: 'pleasant', 2190: 'attention', 2191: 'roses', 2192: 'abcs', 2193: 'degradation', 2194: 'vehicle', 2195: 'man', 2196: 'examines', 2197: 'de', 2198: \"y'see\", 2199: 'absentmindedly', 2200: 'cards', 2201: 'rookie', 2202: 'prompting', 2203: 'chest', 2204: 'moan', 2205: 'knocked', 2206: 'hostile', 2207: 'diapers', 2208: 'ayyy', 2209: 'sleep', 2210: 'jam', 2211: 'barney_gumble:', 2212: 'exactly', 2213: 'vacations', 2214: 'hooch', 2215: 'directions', 2216: 'blissful', 2217: 'kahlua', 2218: 'belt', 2219: 'terrace', 2220: 'covering', 2221: 'restroom', 2222: '2', 2223: 'walther', 2224: 'enabling', 2225: 'warranty', 2226: 'money', 2227: \"something's\", 2228: 'cooker', 2229: 'busy', 2230: 'perfume', 2231: 'forward', 2232: 'elite', 2233: 'escort', 2234: 'pantry', 2235: 'away', 2236: 'bird', 2237: 'raggie', 2238: 'modestly', 2239: 'gargoyle', 2240: 'respect', 2241: 'invulnerable', 2242: 'moe-clone', 2243: 'introduce', 2244: 'settlement', 2245: 'wipe', 2246: 'nineteen', 2247: 'fight', 2248: 'thought_bubble_homer:', 2249: 'drederick', 2250: 'misfire', 2251: 'little', 2252: 'widow', 2253: 'agh', 2254: 'mean', 2255: 'vacuum', 2256: 'many', 2257: 'gee', 2258: 'feet', 2259: 'wowww', 2260: 'associate', 2261: 'died', 2262: 'comic_book_guy:', 2263: 'optimistic', 2264: 'guzzles', 2265: \"plank's\", 2266: 'fire', 2267: 'ehhhhhh', 2268: 'friday', 2269: 'murdered', 2270: 'write', 2271: 'underwear', 2272: 'homer_', 2273: 'forgot', 2274: 'huh', 2275: 'smugglers', 2276: 'specializes', 2277: 'aquafresh', 2278: 'southern', 2279: 'enthusiasm', 2280: 'charges', 2281: 'togetherness', 2282: 'ehhh', 2283: 'resigned', 2284: 'either', 2285: 'attraction', 2286: 'reconsidering', 2287: 'grab', 2288: 'starla:', 2289: 'verticality', 2290: 'panties', 2291: 'slap', 2292: 'cattle', 2293: 'curiosity', 2294: 'earrings', 2295: 'joy', 2296: 'start', 2297: 'valuable', 2298: 'obvious', 2299: 'reasonable', 2300: 'jigger', 2301: 'clinton', 2302: 'daddy', 2303: 'old_jewish_man:', 2304: 'duffman', 2305: 'sacajawea', 2306: 'easily', 2307: 'everybody', 2308: 'buzz', 2309: 'cologne', 2310: 'killjoy', 2311: 'weeks', 2312: 'bart_simpson:', 2313: 'rabbits', 2314: 'dads', 2315: 'stinks', 2316: 'waltz', 2317: 'weak', 2318: 'presidents', 2319: 'gums', 2320: 'mob', 2321: 'charlie:', 2322: 'wedding', 2323: 'nigerian', 2324: 'times', 2325: 'billiard', 2326: 'collapse', 2327: 'employees', 2328: 'peeved', 2329: 'cronies', 2330: '50%', 2331: 'broken', 2332: 'flower', 2333: 'wasting', 2334: \"washin'\", 2335: 'alternative', 2336: 'diddilies', 2337: 'games', 2338: 'eminence', 2339: 'quero', 2340: \"gentleman's\", 2341: 'tom', 2342: 'without:', 2343: 'doing', 2344: 'poke', 2345: \"where's\", 2346: 'loaded', 2347: 'seething', 2348: 'were', 2349: 'germs', 2350: 'hidden', 2351: 'hits', 2352: 'all-american', 2353: 'praise', 2354: 'speech', 2355: 'faith', 2356: \"tab's\", 2357: \"what's\", 2358: 'patting', 2359: 'whatchacallit', 2360: 'insist', 2361: 'telemarketing', 2362: 'rap', 2363: 'lady_duff:', 2364: 'macho', 2365: 'lachrymose', 2366: '$42', 2367: 'aww', 2368: 'nickels', 2369: 'disappointment', 2370: 'check', 2371: 'sack', 2372: 'broom', 2373: 'this:', 2374: 'office', 2375: 'exhaust', 2376: 'spilled', 2377: 'apu_nahasapeemapetilon:', 2378: 'krusty_the_clown:', 2379: \"year's\", 2380: 'slobbo', 2381: 'kissing', 2382: 'lifts', 2383: 'romance', 2384: 'while', 2385: 'atari', 2386: 'premiering', 2387: 'yee-ha', 2388: 'dark', 2389: 'test', 2390: 'bust', 2391: \"it'll\", 2392: 'increasingly', 2393: 'kitchen', 2394: 'ignorance', 2395: 'arabs', 2396: 'practice', 2397: 'read:', 2398: 'sometime', 2399: 'wrong', 2400: 'thrust', 2401: 'dipping', 2402: 'cigarettes', 2403: \"hell's\", 2404: 'acquaintance', 2405: 'peppers', 2406: 'blob', 2407: 'senators', 2408: \"donatin'\", 2409: 'officials', 2410: 'ultimate', 2411: 'pre-recorded', 2412: \"how're\", 2413: 'terrifying', 2414: 'slow', 2415: 'churchy', 2416: 'jerking', 2417: 'friendly', 2418: 'valley', 2419: 'pizza', 2420: 'feast', 2421: 'lotta', 2422: 'bounced', 2423: 'chauffeur:', 2424: 'part-time', 2425: 'ointment', 2426: '1-800-555-hugs', 2427: 'picked', 2428: 'fireball', 2429: '7-year-old_brockman:', 2430: 'musses', 2431: 'wrecking', 2432: 'cannoli', 2433: 'shove', 2434: 'retain', 2435: 'depository', 2436: 'country-fried', 2437: 'krabappel', 2438: \"hangin'\", 2439: 'matter', 2440: 'unsafe', 2441: 'plan', 2442: 'attend', 2443: 'chili', 2444: 'drawer', 2445: 'glorious', 2446: 'actually', 2447: 'encores', 2448: 'wow', 2449: 'broadway', 2450: 'harmony', 2451: 'bloodiest', 2452: 'protestantism', 2453: 'barkeep', 2454: 'christmas', 2455: 'indignant', 2456: 'lee', 2457: 'sickened', 2458: 'surprised', 2459: 'adult', 2460: 'tied', 2461: 'capuchin', 2462: 'blue', 2463: 'in-ground', 2464: 'woozy', 2465: 'therapist', 2466: \"that'd\", 2467: 'disturbing', 2468: 'lungs', 2469: 'log', 2470: 'selection', 2471: 'zone', 2472: 'answering', 2473: 'fictional', 2474: 'lessee', 2475: 'wha', 2476: 'temples', 2477: 'grammar', 2478: 'je', 2479: 'hardwood', 2480: 'waterfront', 2481: 'tomatoes', 2482: '4x4', 2483: 'follow', 2484: 'figures', 2485: 'appendectomy', 2486: 'queen', 2487: 'bothered', 2488: 'murmurs', 2489: 'fevered', 2490: 'swell', 2491: 'robin', 2492: 'remembering', 2493: 'hems', 2494: 'whether', 2495: 'knowing', 2496: 'filled', 2497: 'virtual', 2498: 'move', 2499: \"bart'd\", 2500: 'half-beer', 2501: 'deli', 2502: 'thought_bubble_lenny:', 2503: 'holding', 2504: 'yup', 2505: 'tang', 2506: 'spite', 2507: 'rough', 2508: 'ingested', 2509: 'bartending', 2510: \"friend's\", 2511: \"she's\", 2512: 'lloyd:', 2513: 'ooo', 2514: \"leavin'\", 2515: 'six-barrel', 2516: 'staying', 2517: 'dingy', 2518: 'breakfast', 2519: 'edelbrock', 2520: 'cocking', 2521: 'starving', 2522: 'rumaki', 2523: 'because', 2524: \"they're\", 2525: 'bumblebee_man:', 2526: 'pets', 2527: 'dumbbell', 2528: 'accurate', 2529: 'gig', 2530: 'detail', 2531: 'sucker', 2532: 'head-gunk', 2533: 'buzziness', 2534: \"isn't\", 2535: 'freed', 2536: 'anyhow', 2537: 'louse', 2538: 'let', 2539: 'sponge:', 2540: 'doooown', 2541: 'advance', 2542: 'bottomless', 2543: 'personal', 2544: 'crowded', 2545: 'forbids', 2546: 'swooning', 2547: 'looking', 2548: 'leathery', 2549: 'gentles', 2550: 'releasing', 2551: \"guy's\", 2552: 'infestation', 2553: 'moments', 2554: 'carmichael', 2555: 'duffed', 2556: 'video', 2557: 'goodbye', 2558: 'most:', 2559: 'refresh', 2560: 'ohhhh', 2561: 'full', 2562: 'effect', 2563: 'donor', 2564: 'people', 2565: 'bidet', 2566: 'push', 2567: 'deny', 2568: 'sap', 2569: 'mariah', 2570: 'virile', 2571: 'bite', 2572: 'empty', 2573: 'order', 2574: 'isle', 2575: 'hold', 2576: 'corner', 2577: 'idioms', 2578: \"sayin'\", 2579: 'patrons:', 2580: 'wife', 2581: \"must've\", 2582: 'frozen', 2583: 'mines', 2584: 'dump', 2585: 'buyer', 2586: 'stonewall', 2587: 'won', 2588: 'duty', 2589: 'peeping', 2590: 'delightful', 2591: 'she', 2592: 'appointment', 2593: 'yello', 2594: 'news', 2595: 'grieving', 2596: 'windex', 2597: 'burns', 2598: 'playful', 2599: 'classy', 2600: 'surprised/thrilled', 2601: 'pool', 2602: 'calvin', 2603: 'challenge', 2604: 'broken:', 2605: 'yeah', 2606: 'million', 2607: 'superpower', 2608: 'provide', 2609: 'number', 2610: 'pretzels', 2611: 'captain:', 2612: 'marriage', 2613: 'aggie', 2614: 'beefs', 2615: 'bell', 2616: 'insults', 2617: 'uh-oh', 2618: 'sarcastic', 2619: 'appalled', 2620: 'restaurant', 2621: 'sport', 2622: 'maman', 2623: 'cozies', 2624: 'march', 2625: 'committing', 2626: 'feisty', 2627: 'compels', 2628: 'fonzie', 2629: 'virility', 2630: 'it', 2631: 'other', 2632: 'homunculus', 2633: 'ab', 2634: 'loan', 2635: 'author', 2636: 'penmanship', 2637: 'comeback', 2638: 'lime', 2639: 'told', 2640: 'overstressed', 2641: 'sabermetrics', 2642: 'terrific', 2643: 'safely', 2644: 'puke-pail', 2645: 'noggin', 2646: 'religion', 2647: 'hotel', 2648: 'side', 2649: 'different', 2650: 'combines', 2651: 'pay', 2652: 'crossed', 2653: 'lying', 2654: 'bucks', 2655: 'hardy', 2656: 'shrugs', 2657: 'schmoe', 2658: 'but', 2659: 'r', 2660: 'occurrence', 2661: 'stops', 2662: 'park', 2663: 'einstein', 2664: 'deals', 2665: 'ferry', 2666: \"rasputin's\", 2667: 'spacey', 2668: 'photos', 2669: 'utility', 2670: 'heard', 2671: 'sugar-me-do', 2672: 'vampire', 2673: 'championship', 2674: \"sat's\", 2675: 'wanted', 2676: 'plus', 2677: \"don'tcha\", 2678: 'enjoyed', 2679: 'system', 2680: 'exciting', 2681: 'punch', 2682: \"changin'\", 2683: 'ivana', 2684: 'mini-dumpsters', 2685: 'saying', 2686: 'lenford', 2687: 'cleaned', 2688: 'wishing', 2689: 'problemo', 2690: 'bubbles', 2691: 'troll', 2692: 'chosen', 2693: 'taylor', 2694: \"homer's\", 2695: 'th', 2696: 'half-back', 2697: 'sumatran', 2698: 'secret', 2699: 'dogs', 2700: 'meaningful', 2701: 'acquitted', 2702: 'mexican_duffman:', 2703: 'gifts', 2704: 'wisconsin', 2705: 'shape', 2706: \"duelin'\", 2707: 'maher', 2708: 'recall', 2709: 'limits', 2710: 'texan', 2711: 'waking-up', 2712: 'beep', 2713: 'new', 2714: 'goal', 2715: 'derisive', 2716: 'sleeping', 2717: 'bottles', 2718: 'jernt', 2719: 'fry', 2720: 'rev', 2721: 'indifferent', 2722: 'dying', 2723: 'dateline:', 2724: 'teeth', 2725: 'scam', 2726: 'line', 2727: 'soup', 2728: 'excitement', 2729: 'assert', 2730: 'investor', 2731: 'socratic', 2732: 'wonderful', 2733: \"blowin'\", 2734: 'season', 2735: 'nickel', 2736: 'underbridge', 2737: \"men's\", 2738: 'carll', 2739: 'augustus', 2740: 'polish', 2741: 'step', 2742: 'marge', 2743: 'address', 2744: 'wizard', 2745: \"who's\", 2746: 'proof', 2747: 'unearth', 2748: \"should've\", 2749: 'term', 2750: \"world's\", 2751: 'papa', 2752: 'kim_basinger:', 2753: 'religious', 2754: 'anybody', 2755: 'getting', 2756: 'sticker', 2757: 'pass', 2758: 'chunk', 2759: \"g'on\", 2760: 'third', 2761: 'possibly', 2762: 'kidnaps', 2763: 'villanova', 2764: 'k', 2765: 'sistine', 2766: 'assistant', 2767: 'someone', 2768: 'suds', 2769: 'trade', 2770: 'j', 2771: 'end', 2772: 'goblins', 2773: 'icy', 2774: 'writer:', 2775: 'savagely', 2776: \"pullin'\", 2777: 'totally', 2778: 'cocktail', 2779: 'anniversary', 2780: 'cannot', 2781: 'horrors', 2782: 'ralphie', 2783: '14', 2784: 'steel', 2785: 'circus', 2786: 'buttons', 2787: 'excavating', 2788: 'except', 2789: 'invited', 2790: 'drink', 2791: 'trucks', 2792: 'probably', 2793: 'refund', 2794: 'us', 2795: 'hemorrhage-amundo', 2796: \"bettin'\", 2797: 'nature', 2798: 'sizes', 2799: 'paper', 2800: 'good', 2801: 'prints', 2802: 'remain', 2803: 'gabriel:', 2804: 'your', 2805: 'stalking', 2806: 'barstools', 2807: 'contract', 2808: 'merchants', 2809: 'well', 2810: 'sweeter', 2811: 'slyly', 2812: 'housewife', 2813: 'mole', 2814: 'fellow', 2815: 'lewis', 2816: 'self-centered', 2817: 'quickly', 2818: 'cutest', 2819: 'dallas', 2820: 'thawing', 2821: 'arrested:', 2822: 'radioactive', 2823: 'copy', 2824: 'dig', 2825: 'hitler', 2826: 'science', 2827: 'example', 2828: 'month', 2829: 'recap:', 2830: 'complaining', 2831: 'unusually', 2832: 'santeria', 2833: 'annoyed', 2834: 'release', 2835: 'mostrar', 2836: 'domestic', 2837: 'flailing', 2838: 'bleak', 2839: 'sampler', 2840: 'weep', 2841: 'depressing', 2842: 'van', 2843: '|left_parantheses|', 2844: 'satisfaction', 2845: 'up', 2846: 'principal', 2847: \"they've\", 2848: 'gift', 2849: 'sheepish', 2850: 'whup', 2851: 'rest', 2852: 'welcome', 2853: 'eaters', 2854: 'aggravazes', 2855: 'inherent', 2856: 'his', 2857: 'stink', 2858: 'ma', 2859: 'male_inspector:', 2860: 'novel', 2861: 'versus', 2862: 'bars', 2863: 'rem', 2864: 'gun', 2865: \"phone's\", 2866: 'snapping', 2867: 'top', 2868: 'alec_baldwin:', 2869: 'boxers', 2870: 'heroism', 2871: 'boo', 2872: 'moesy', 2873: 'crushed', 2874: 'dumbest', 2875: 'dismissive', 2876: 'brother-in-law', 2877: 'microphone', 2878: 'notorious', 2879: 'mamma', 2880: 'wage', 2881: \"tinklin'\", 2882: 'sales', 2883: 'black', 2884: 'living', 2885: 'typing', 2886: 'shares', 2887: 'undated', 2888: 'testing', 2889: 'helps', 2890: 'pub', 2891: 'glamour', 2892: 'brilliant', 2893: 'noose', 2894: 'please', 2895: 'spanish', 2896: 'anti-lock', 2897: 'hawking:', 2898: 'campaign', 2899: 'ashtray', 2900: 'tip', 2901: 'afternoon', 2902: 'question', 2903: 'incapable', 2904: 'knuckles', 2905: 'jail', 2906: 'store-bought', 2907: 'boys', 2908: 'astronauts', 2909: 'boisterous', 2910: 'expose', 2911: 'suffering', 2912: 'tolerance', 2913: 'naked', 2914: 'watashi', 2915: 'inspired', 2916: 'beauty', 2917: 'kermit', 2918: 'fat_tony:', 2919: 'sensible', 2920: \"shan't\", 2921: 'hurry', 2922: 'foodie', 2923: 'be', 2924: 'tie', 2925: 'strong', 2926: 'brief', 2927: 'ew', 2928: 'scent', 2929: 'breathtaking', 2930: 'fixes', 2931: 'meet', 2932: 'standing', 2933: 'according', 2934: 'fluoroscope', 2935: 'co-sign', 2936: 'slobs', 2937: 'forgotten', 2938: 'country', 2939: 'mocking', 2940: 'tired', 2941: 'reentering', 2942: 'unfresh', 2943: 'collateral', 2944: 'including', 2945: 'grind', 2946: 'düffenbraus', 2947: \"who'da\", 2948: 'greatly', 2949: 'held', 2950: 'ralph_wiggum:', 2951: 'brockelstein', 2952: 'pride', 2953: 'simple', 2954: 'hunger', 2955: 'grace', 2956: 'jovial', 2957: '|dash|', 2958: 'cross-country', 2959: 'intervention', 2960: 'young_barfly:', 2961: 'klown', 2962: 'and:', 2963: 'freeze', 2964: 'soft', 2965: 's', 2966: 'followed', 2967: 'driving', 2968: 'presentable', 2969: 'hole', 2970: 'changes', 2971: 'bursts', 2972: 'worry', 2973: 'boozer', 2974: 'computer_voice_2:', 2975: 'ingredient', 2976: 'full-bodied', 2977: 'intoxicants', 2978: 'hers', 2979: 'extinguishers', 2980: 'tee', 2981: 'of', 2982: 'macgregor', 2983: 'tomorrow', 2984: 'revenge', 2985: 'espousing', 2986: 'executive', 2987: 'bright', 2988: 'glad', 2989: 'carny:', 2990: 'good-looking', 2991: 'know', 2992: 'abolish', 2993: 'junkyard', 2994: 'hibachi', 2995: 'her', 2996: 'diamond', 2997: 'left', 2998: 'suit', 2999: 'seen', 3000: 'jay:', 3001: 'raising', 3002: 'i-i-i', 3003: 'any', 3004: 'jack', 3005: 'macaulay', 3006: 'beat', 3007: 'homie', 3008: 'renee:', 3009: 'film', 3010: 'fair', 3011: 'down', 3012: 'hike', 3013: 'sticking', 3014: 'leno', 3015: \"lefty's\", 3016: 'diminish', 3017: 'dealer', 3018: 'gallon', 3019: 'bouquet', 3020: 'liquor', 3021: 'modest', 3022: 'whistling', 3023: 'whisper', 3024: 'explanation', 3025: 'wonder', 3026: 'promised', 3027: 'sit', 3028: 'cookies', 3029: 'unlocked', 3030: 'cushions', 3031: 'clothespins:', 3032: 'cursed', 3033: 'ear', 3034: 'victim', 3035: 'sex', 3036: '|comma|', 3037: \"can't-believe-how-bald-he-is\", 3038: 'man_with_crazy_beard:', 3039: 'fills', 3040: 'ribbon', 3041: 'quimby_#2:', 3042: 'factor', 3043: 'depressed', 3044: 'holiday', 3045: 'alcohol', 3046: 'hat', 3047: 'expression', 3048: 'needs', 3049: 'f-l-a-n-r-d-s', 3050: \"fans'll\", 3051: \"hawkin'\", 3052: 'slaps', 3053: 'forty-nine', 3054: 'neat', 3055: 'clubs', 3056: 'murmur', 3057: 'jeez', 3058: 'squeezed', 3059: 'awed', 3060: 'lugs', 3061: 'applicant', 3062: 'lainie:', 3063: 'backing', 3064: 'prep', 3065: 'marge_simpson:', 3066: 'car:', 3067: 'sharps', 3068: 'mechanical', 3069: \"bein'\", 3070: 'luckiest', 3071: 'quiet', 3072: 'troubles', 3073: 'gel', 3074: 'fatso', 3075: 'survive', 3076: 'leonard', 3077: 'tiny', 3078: 'reminded', 3079: 'dangerous', 3080: 'fighting', 3081: 'involved', 3082: 'prolonged', 3083: 'election', 3084: 'speaking', 3085: 'falcons', 3086: 'vin', 3087: 'fill', 3088: 'sobo', 3089: 'taught', 3090: 'stole', 3091: 'wolfcastle', 3092: 'poulet', 3093: 'compadre', 3094: 'plaintive', 3095: 'indifference', 3096: 'satisfied', 3097: 'manatee', 3098: 'roof', 3099: 'stupid', 3100: 'haplessly', 3101: 'legal', 3102: 'bushes', 3103: 'gruff', 3104: \"bar's\", 3105: 'kickoff', 3106: 'pussycat', 3107: \"feelin's\", 3108: 'torn', 3109: \"yieldin'\", 3110: 'enforced', 3111: \"drexel's\", 3112: 'high-definition', 3113: 'clown-like', 3114: 'phone', 3115: 'lizard', 3116: 'cummerbund', 3117: 'consulting', 3118: 'lingus', 3119: 'sniper', 3120: 'water', 3121: 'halvsies', 3122: 'amid', 3123: 'carlotta:', 3124: 'lovers', 3125: \"thinkin'\", 3126: 'nice', 3127: 'letter', 3128: 'ones', 3129: 'floating', 3130: 'repairman', 3131: 'rekindle', 3132: 'toledo', 3133: 'issues', 3134: 'hounds', 3135: 'toilet', 3136: \"battin'\", 3137: 'adjust', 3138: 'winner', 3139: 'ambrose', 3140: 'laugh', 3141: 'geysir', 3142: 'wally', 3143: 'learned', 3144: '_babcock:', 3145: 'sangre', 3146: 'few', 3147: \"somethin':\", 3148: 'pizzicato', 3149: 'reaches', 3150: 'accepting', 3151: 'wiping', 3152: 'disillusioned', 3153: 'low', 3154: 'mock', 3155: 'smile', 3156: 'darkest', 3157: 'priority', 3158: 'shhh', 3159: 'off', 3160: 'jelly', 3161: 'mansions', 3162: 'customer', 3163: 'platinum', 3164: 'eighty-seven', 3165: \"floatin'\", 3166: 'incognito', 3167: 'righ', 3168: 'stats', 3169: 'making', 3170: 'wishful', 3171: 'believer', 3172: 'often', 3173: 'mommy', 3174: 'foam', 3175: 'impeach', 3176: 'situation', 3177: 'si-lent', 3178: \"cleanin'\", 3179: 'although', 3180: 'contractors', 3181: 'intimacy', 3182: \"games'd\", 3183: 'dana_scully:', 3184: 'michael_stipe:', 3185: 'massachusetts', 3186: 'exchanged', 3187: 'linda_ronstadt:', 3188: 'anger', 3189: 'un-sults', 3190: 'easier', 3191: 'raging', 3192: 'assumed', 3193: 'hugh', 3194: 'flatly', 3195: 'dank', 3196: 'low-blow', 3197: 'pictured', 3198: 'men', 3199: 'repay', 3200: 'scornfully', 3201: 'forgive', 3202: 'irs', 3203: 'sec_agent_#1:', 3204: 'grinch', 3205: \"mother's\", 3206: 'moustache', 3207: 'wooden', 3208: 'shaky', 3209: 'sentimonies', 3210: 'marvelous', 3211: 'wikipedia', 3212: 'cutting', 3213: 'britannia', 3214: \"summer's\", 3215: 'brunch', 3216: 'hearing', 3217: 'inexorable', 3218: 'so', 3219: 'lessons', 3220: 'suspended', 3221: 'ticket', 3222: 'senator', 3223: 'dumbass', 3224: 'coffee', 3225: 'idiots', 3226: \"let's\", 3227: 'groveling', 3228: 'pinchpenny', 3229: 'shoes', 3230: 'midge', 3231: 'sports', 3232: 'sympathizer', 3233: 'waist', 3234: 'crazy', 3235: 'yesterday', 3236: 'passports', 3237: 'funniest', 3238: 'alright', 3239: 'marched', 3240: 'shoots', 3241: 'ocean', 3242: 'tyson/secretariat', 3243: 'painting', 3244: 'a-b-', 3245: 'lame', 3246: 'jubilant', 3247: 'mail', 3248: 'chase', 3249: 'purveyor', 3250: 'thirty-five', 3251: 'pitch', 3252: 'safecracker', 3253: 'make:', 3254: 'railroad', 3255: 'securities', 3256: 'keeps', 3257: 'managing', 3258: 'wantcha', 3259: 'sagacity', 3260: 'morning-after', 3261: '530', 3262: 'repressed', 3263: 'arse', 3264: 'brow', 3265: 'chief', 3266: \"havin'\", 3267: 'defected', 3268: 'hushed', 3269: \"boy's\", 3270: 'before', 3271: 'wieners', 3272: 'ding-a-ding-ding-ding-ding-ding-ding', 3273: 'nervously', 3274: 'hundred', 3275: 'grrrreetings', 3276: \"snappin'\", 3277: 'doubt', 3278: 'rome', 3279: 'yelp', 3280: 'non-american', 3281: 'scrutinizing', 3282: 'remote', 3283: 'blend', 3284: 'pick', 3285: 'whoopi', 3286: 'air', 3287: 'lodge', 3288: 'liable', 3289: \"'cause\", 3290: 'boxcars', 3291: 'dexterous', 3292: 'motor', 3293: 'noticing', 3294: 'beatings', 3295: 'emporium', 3296: 'anywhere', 3297: 'god', 3298: 'liar', 3299: 'knowledge', 3300: 'solely', 3301: 'sweet', 3302: 'patty', 3303: 'change', 3304: 'swear', 3305: \"knockin'\", 3306: 'steinbrenner', 3307: 'november', 3308: 'gave', 3309: 'rivalry', 3310: 'lend', 3311: 'gin', 3312: 'municipal', 3313: 'heh-heh', 3314: 'rebuttal', 3315: 'nasty', 3316: 'super-nice', 3317: \"'cept\", 3318: 'b', 3319: 'stool', 3320: 'kramer', 3321: 'listens', 3322: 'shame', 3323: 'bank', 3324: 'stools', 3325: 'carefully', 3326: 'bills', 3327: 'cell-ee', 3328: 'advertise', 3329: 'composite', 3330: 'pall', 3331: 'cure', 3332: 'tastes', 3333: 'eyes', 3334: 'beer-dorf', 3335: 'opens', 3336: 'oblongata', 3337: 'overhearing', 3338: 'gay', 3339: 'skirt', 3340: 'child', 3341: 'desperate', 3342: 'onto', 3343: \"mopin'\", 3344: 'begin', 3345: 'freak', 3346: 'yell', 3347: 'puke-holes', 3348: 'kadlubowski', 3349: 'sniffs', 3350: 'busiest', 3351: 'polishing', 3352: 'during', 3353: 'tax', 3354: 'wife-swapping', 3355: 'health', 3356: 'feeling', 3357: 'johnny_carson:', 3358: 'beings', 3359: 'warmth', 3360: 'wang', 3361: 'expired', 3362: \"it'd\", 3363: 'day', 3364: 'proves', 3365: 'earlier', 3366: 'needed', 3367: 'booze-bags', 3368: 'first', 3369: 'brown', 3370: 'embarrassing', 3371: 'etc', 3372: 'nemo', 3373: 'japanese', 3374: 'skinheads', 3375: 'cheered', 3376: 'mountain', 3377: 'special', 3378: \"waitin'\", 3379: 'rice', 3380: 'commit', 3381: '35', 3382: 'applesauce', 3383: \"you're\", 3384: \"swishifyin'\", 3385: \"plaster's\", 3386: 'dessert', 3387: \"ol'\", 3388: 'stickers', 3389: 'shag', 3390: 'manager', 3391: 'ballot', 3392: 'fuzzlepitch', 3393: 'tight', 3394: 'dramatically', 3395: 'crowd:', 3396: 'fudd', 3397: 'a', 3398: 'blobbo', 3399: 'light', 3400: 'falsetto', 3401: 'dude', 3402: 'smoke', 3403: 'son-of-a', 3404: 'pas', 3405: 'ghouls', 3406: 'rapidly', 3407: 'kiss', 3408: 'understand', 3409: 'dislike', 3410: 'buffalo', 3411: \"lovers'\", 3412: 'der', 3413: 'proper', 3414: 'andy', 3415: 'lots', 3416: 'produce', 3417: 'remembers', 3418: 'militia', 3419: 'charity', 3420: \"haven't\", 3421: 'entire', 3422: 'packets', 3423: 'nick', 3424: 'tv_father:', 3425: 'philip', 3426: 'steak', 3427: 'stories', 3428: 'my-y-y-y-y-y', 3429: 'carl_carlson:', 3430: \"don't\", 3431: 'organ', 3432: 'tuna', 3433: 'spooky', 3434: 'thing:', 3435: 'tigers', 3436: 'smuggled', 3437: 'minutes', 3438: 'corpses', 3439: 'tried', 3440: 'massage', 3441: 'ho-ly', 3442: 'apulina', 3443: 'billingsley', 3444: 'sight', 3445: 'canyonero', 3446: 'disgusted', 3447: 'crippling', 3448: 'ring', 3449: 'pickles', 3450: \"drinkin'\", 3451: 'company', 3452: 'desperately', 3453: 'white_rabbit:', 3454: 'moonnnnnnnn', 3455: 'pre-game', 3456: 'teen', 3457: \"kid's\", 3458: 'drapes', 3459: 'omigod', 3460: 'wacky', 3461: 'snake', 3462: 'funeral', 3463: 'hmmmm', 3464: 'delighted', 3465: 'displeased', 3466: 'new_health_inspector:', 3467: 'timbuk-tee', 3468: 'is:', 3469: 'women', 3470: 'desire', 3471: 'awkward', 3472: 'dum-dum', 3473: 'sickly', 3474: 'hibbert', 3475: 'gut', 3476: 'outrageous', 3477: 'simon', 3478: 'precious', 3479: 'project', 3480: 'tearfully', 3481: 'mmm', 3482: 'dunno', 3483: 'hubub', 3484: 'renee', 3485: 'yap', 3486: 'tasimeter', 3487: 'brave', 3488: 'bupkus', 3489: 'watt', 3490: 'usual', 3491: 'kicked', 3492: 'derek', 3493: 'mt', 3494: 'quarterback', 3495: 'ivy-covered', 3496: 'when-i-get-a-hold-of-you', 3497: 'sketch', 3498: 'aboard', 3499: 'sissy', 3500: \"'now\", 3501: 'balloon', 3502: 'hank_williams_jr', 3503: 'hafta', 3504: 'no', 3505: 'talk', 3506: 'sees/', 3507: 'taxi', 3508: 'purse', 3509: 'starla', 3510: '_marvin_monroe:', 3511: 'eye', 3512: 'case', 3513: 'mister', 3514: 'blimp', 3515: 'wayne', 3516: 'exultant', 3517: 'blank', 3518: 'contact', 3519: 'measure', 3520: 'fwooof', 3521: 'meatpies', 3522: 'jailbird', 3523: 'affectations', 3524: 'libraries', 3525: 'nibble', 3526: 'honey', 3527: \"we'd\", 3528: 'takes', 3529: 'emotional', 3530: 'wall', 3531: 'honest', 3532: 'joined', 3533: 'shaker', 3534: 'indeedy', 3535: 'civil', 3536: 'candy', 3537: 'happily', 3538: 'friend', 3539: 'sad', 3540: 'panicky', 3541: 'forget-me-shot', 3542: 'faint', 3543: 'o', 3544: 'psst', 3545: 'thoughtfully', 3546: 'twenty-five', 3547: 'really', 3548: 'local', 3549: 'filthy', 3550: 'larry', 3551: 'alls', 3552: 'driveability', 3553: 'butterball', 3554: 'm', 3555: 'p', 3556: 'goodwill', 3557: 'transmission', 3558: 'orphan', 3559: 'hub', 3560: 'agency', 3561: 'ohmygod', 3562: 'half-day', 3563: 'extreme', 3564: 'sea', 3565: 'needy', 3566: 'taunting', 3567: 'afraid', 3568: 'hunky', 3569: 'nuclear', 3570: 'sing-song', 3571: 'rims', 3572: 'toms', 3573: 'heaving', 3574: 'barkeeps', 3575: 'poorer', 3576: 'deacon', 3577: 'beer', 3578: 'yoink', 3579: 'hail', 3580: 'scary', 3581: 'luck', 3582: 'winch', 3583: 'tidy', 3584: 'simultaneous', 3585: 'newspaper', 3586: 'daaaaad', 3587: 'smoothly', 3588: 'estranged', 3589: \"dyin'\", 3590: 'larson', 3591: 'taps', 3592: 'vacation', 3593: 'poet', 3594: 'somewhere', 3595: 'exquisite', 3596: 'taken', 3597: 'exhibit', 3598: 'chairman', 3599: 'pulitzer', 3600: 'releases', 3601: 'slurps', 3602: 'doreen:', 3603: 'infiltrate', 3604: 'fausto', 3605: 'smelly', 3606: 'license', 3607: 'highball', 3608: 'civic', 3609: \"s'pose\", 3610: 'script', 3611: 'attach', 3612: 'freedom', 3613: 'methinks', 3614: 'bartholomé:', 3615: 'eyeball', 3616: 'aggravated', 3617: 'contemplated', 3618: 'writing', 3619: 'billion', 3620: \"thing's\", 3621: 'spender', 3622: 'nelson', 3623: 'bartender', 3624: 'plum', 3625: 'railroads', 3626: 'kind', 3627: 'wondering', 3628: 'feat', 3629: \"sittin'\", 3630: 'golden', 3631: 'tremendous', 3632: 'meteor', 3633: 'type', 3634: 'seats', 3635: 'congratulations', 3636: 'device', 3637: 'illustrates', 3638: 'perfected', 3639: 'punching', 3640: 'pop', 3641: 'minute', 3642: 'test-', 3643: 'necessary', 3644: 'dan', 3645: 'double', 3646: 'restless', 3647: 'horribilis', 3648: 'demand', 3649: 'grub', 3650: 'mop', 3651: 'cup', 3652: 'publishers', 3653: 'hunting', 3654: 'girl', 3655: 'fbi_agent:', 3656: 'outs', 3657: 'likes', 3658: 'raking', 3659: 'bottoms', 3660: 'twelve-step', 3661: 'mmm-hmm', 3662: 'belly-aching', 3663: 'kang:', 3664: 'recorded', 3665: 'shrieks', 3666: 'surgery', 3667: 'op', 3668: 'lights', 3669: 'dash', 3670: 'wish', 3671: 'choice:', 3672: 'proposing', 3673: 'evening', 3674: 'smooth', 3675: \"you'll\", 3676: 'disposal', 3677: 'ripcord', 3678: 'reading:', 3679: 'awake', 3680: 'consoling', 3681: 'thinks', 3682: 'pig', 3683: 'button-pusher', 3684: 'dreamed', 3685: 'nope', 3686: 'len-ny', 3687: 'happen', 3688: 'the', 3689: 'kinderhook', 3690: 'booze', 3691: \"poisonin'\", 3692: 'uncle', 3693: 'bump', 3694: 'sweetheart', 3695: 'feed', 3696: 'don', 3697: 'pronounce', 3698: 'rolled', 3699: 'destroyed', 3700: 'tester', 3701: 'sits', 3702: 'will', 3703: 'story', 3704: 'eco-fraud', 3705: 'gator:', 3706: 'outta', 3707: 'vigilante', 3708: 'farewell', 3709: 'garbage', 3710: 'did', 3711: 'such', 3712: 'lobster-politans', 3713: 'edison', 3714: 'hall', 3715: 'encouraging', 3716: 'listen', 3717: 'milk', 3718: 'playhouse', 3719: 'eurotrash', 3720: 'heather', 3721: 'drunks', 3722: 'power', 3723: 'eh', 3724: \"fun's\", 3725: 'unbelievably', 3726: 'duff_announcer:', 3727: 'looooooooooooooooooong', 3728: 'badge', 3729: 'hardhat', 3730: 'venom', 3731: 'enhance', 3732: 'homer_doubles:', 3733: 'loyal', 3734: 'brooklyn', 3735: 'traffic', 3736: 'scum-sucking', 3737: 'yourselves', 3738: 'leans', 3739: 'then', 3740: 'zinged', 3741: 'notably', 3742: 'loser', 3743: 'sitting', 3744: 'manage', 3745: 'fabulous', 3746: 'bret', 3747: 'voted', 3748: 'puke', 3749: 'sexton', 3750: 'coincidentally', 3751: 'syndicate', 3752: 'points', 3753: 'buddies', 3754: 'paparazzo', 3755: 'cliff', 3756: 'hop', 3757: 'father', 3758: 'rather', 3759: 'clap', 3760: 'costume', 3761: 'worked', 3762: 'darkness', 3763: \"what'd\", 3764: 'saga', 3765: \"hasn't\", 3766: 'headhunters', 3767: 'maybe', 3768: 'mic', 3769: 'forecast', 3770: 'restaurants', 3771: 'voicemail', 3772: 'coyly', 3773: 'thanksgiving', 3774: \"number's\", 3775: 'gunter', 3776: 'waste', 3777: 'ref', 3778: 'born', 3779: 'impending', 3780: 'coaster', 3781: 'frightened', 3782: 'enthusiastically', 3783: 'booger', 3784: 'feedbag', 3785: 'caveman', 3786: 'sniffles', 3787: \"this'll\", 3788: 'would', 3789: 'powers', 3790: 'insurance', 3791: \"liberty's\", 3792: 'absolut', 3793: 'man_with_tree_hat:', 3794: 'express', 3795: 'remodel', 3796: 'refreshment', 3797: 'took', 3798: 'innocent', 3799: 'there', 3800: 'resenting', 3801: 'across', 3802: 'speak', 3803: 'ninth', 3804: 'buying', 3805: 'studio', 3806: 'word', 3807: 'pretty', 3808: 'single', 3809: 'latour', 3810: 'scratching', 3811: 'stairs', 3812: 'resist', 3813: 'burt_reynolds:', 3814: 'then:', 3815: 'fake', 3816: 'corkscrews', 3817: 'puzzled', 3818: 'coins', 3819: 'sketching', 3820: 'and-and', 3821: 'intention', 3822: 'ought', 3823: 'drains', 3824: 'cut', 3825: 'locked', 3826: 'banquet', 3827: 'drag', 3828: 'marquee', 3829: 'onassis', 3830: 'ehhhhhhhh', 3831: 'music', 3832: 'los', 3833: 'dentist', 3834: 'chicken', 3835: 'age', 3836: 'susie-q', 3837: 'refill', 3838: 'ah-ha', 3839: 'soaking', 3840: 'stay-puft', 3841: 'seamstress', 3842: 'groans', 3843: 'patron_#2:', 3844: 'investigating', 3845: 'presidential', 3846: 'loss', 3847: 'para', 3848: 'built', 3849: \"aren't\", 3850: 'separator', 3851: 'ha', 3852: 'past', 3853: 'remains', 3854: 'dreamily', 3855: \"enjoyin'\", 3856: 'planning', 3857: 'close', 3858: 'tree', 3859: 'halfway', 3860: 'walks', 3861: 'dull', 3862: 'king', 3863: 'ugliness', 3864: 't-shirt', 3865: 'chapter', 3866: 'steely-eyed', 3867: 'suspenders', 3868: 'had', 3869: 'exact', 3870: 'rotten', 3871: 'carl', 3872: 'find', 3873: 'gags', 3874: 'tokens', 3875: 'lush', 3876: 'repeated', 3877: 'groan', 3878: 'youngsters', 3879: 'depression', 3880: 'handsome', 3881: 'lumpa', 3882: 'chick', 3883: 'sunday', 3884: 'occurred', 3885: 'labor', 3886: 'creepy', 3887: 'mimes', 3888: 'poking', 3889: 'designated', 3890: 'called', 3891: 'sneering', 3892: 'student', 3893: \"ridin'\", 3894: 'european', 3895: 'rewound', 3896: 'happens', 3897: 'links', 3898: 'curds', 3899: 'moron', 3900: 'consider', 3901: 'make', 3902: 'admitting', 3903: 'parked', 3904: 'orifice', 3905: 'regretted', 3906: 'mac-who', 3907: 'supports', 3908: 'saving', 3909: 'went', 3910: 'griffith', 3911: 'cowboy', 3912: 'handler', 3913: 'sucks', 3914: 'greatest', 3915: \"nothin's\", 3916: \"cashin'\", 3917: 'harder', 3918: 'protecting', 3919: 'over-pronouncing', 3920: 'kazoo', 3921: 'under', 3922: 'mind-numbing', 3923: 'troy:', 3924: 'consciousness', 3925: 'excuse', 3926: 'door', 3927: 'limited', 3928: 'disappeared', 3929: 'procedure', 3930: 'operation', 3931: 'species', 3932: 'cecil_terwilliger:', 3933: 'rat', 3934: 'dazed', 3935: 'solves', 3936: 'spoon', 3937: 'shores', 3938: 'regulations', 3939: 'basement', 3940: 'reader', 3941: 'moe-lennium', 3942: 'pissed', 3943: 'mrs', 3944: 'squashing', 3945: 'panicked', 3946: 'correction', 3947: 'return', 3948: 'louisiana', 3949: 'process', 3950: 'happiness', 3951: 'patrons', 3952: 'ironed', 3953: 'germany', 3954: 'fish', 3955: 'pour', 3956: 'sooner', 3957: 'holds', 3958: 'yet', 3959: 'jesus', 3960: 'thoughtful', 3961: 'popping', 3962: 'chinese', 3963: 'life-sized', 3964: 'reporter:', 3965: 'gasoline', 3966: 'committee', 3967: 'field', 3968: 'stranger:', 3969: 'motorcycle', 3970: 'eventually', 3971: 'small', 3972: 'detective_homer_simpson:', 3973: 'decision', 3974: 'bye', 3975: 'neighbor', 3976: 'decide:', 3977: 'minus', 3978: 'mayan', 3979: 'savvy', 3980: \"'tis\", 3981: 'thesaurus', 3982: 'adequate', 3983: 'meditative', 3984: 'spoken', 3985: 'cranberry', 3986: 'gargoyles', 3987: 'specified', 3988: 'feel', 3989: 'assume', 3990: 'chunky', 3991: 'porn', 3992: 'pack', 3993: 'scare', 3994: 'fraud', 3995: 'bleeding', 3996: 'sucking', 3997: 'hyahh', 3998: 'lovely', 3999: 'appreciated', 4000: 'cockroaches', 4001: 'whoo', 4002: 'into', 4003: 'yells', 4004: 'willy', 4005: 'sector', 4006: 'rector', 4007: 'girls', 4008: 'teacup', 4009: 'seven', 4010: 'bonding', 4011: 'barflies:', 4012: 'peaked', 4013: 'having', 4014: 'granted', 4015: 'dory', 4016: 'skeptical', 4017: 'rat-like', 4018: \"tellin'\", 4019: 'plant', 4020: 'bob', 4021: 'quarry', 4022: 'trolls', 4023: 'rash', 4024: 'sponsor', 4025: 'road', 4026: 'haiti', 4027: 'swimmers', 4028: 'belches', 4029: 'uh', 4030: 'nectar', 4031: 'admiring', 4032: 'seymour', 4033: 'swine', 4034: 'ignorant', 4035: 'mull', 4036: 'floor', 4037: 'gear-head', 4038: 'size', 4039: 'd', 4040: 'stars', 4041: 'bowled', 4042: \"c'mom\", 4043: 'urine', 4044: 'thought', 4045: 'sieben-gruben', 4046: 'trash', 4047: 'twenty', 4048: 'value', 4049: 'harv:', 4050: 'mr', 4051: 'driver', 4052: 'mcclure', 4053: 'authenticity', 4054: 'grains', 4055: 'brine', 4056: 'perhaps', 4057: 'game', 4058: 'nightmares', 4059: 'transfer', 4060: 'however', 4061: 'worse', 4062: 'trivia', 4063: 'sprawl', 4064: 'error', 4065: 'anti-intellectualism', 4066: 'marvin', 4067: 'spectacular', 4068: 'sent', 4069: 'james', 4070: 'ore', 4071: 'worthless', 4072: 'pink', 4073: \"tonight's\", 4074: 'experience', 4075: 'jokes', 4076: 'got', 4077: 'stood', 4078: 'cake', 4079: 'contest', 4080: 'focused', 4081: 'as', 4082: 'scores', 4083: 'stopped', 4084: 'oil', 4085: 'mm', 4086: 'forbidden', 4087: 'craft', 4088: 'sold', 4089: 'effects', 4090: 'occurs', 4091: 'quimby', 4092: 'hammy', 4093: 'semi-imported', 4094: 'this', 4095: 'jackpot-thief', 4096: 'envy-tations', 4097: 'suing', 4098: 'crystal', 4099: 'sec_agent_#2:', 4100: \"dog's\", 4101: 'runners', 4102: 'dry', 4103: 'bachelor', 4104: 'began', 4105: 'swatch', 4106: 'deliberate', 4107: 'besides', 4108: 'expense', 4109: 'adventure', 4110: 'neck', 4111: 'temple', 4112: 'whole', 4113: 'mug', 4114: 'whining', 4115: 'open', 4116: 'michael', 4117: 'tune', 4118: 'winks', 4119: 'gets', 4120: \"nick's\", 4121: 'streetlights', 4122: 'canyoner-oooo', 4123: 'pronto', 4124: 'stunned', 4125: 'runs', 4126: 'nordiques', 4127: 'allowance', 4128: 'mike_mills:', 4129: 'snackie', 4130: 'seymour_skinner:', 4131: 'peace', 4132: 'grand', 4133: 'smithers', 4134: 'toasting', 4135: 'branding', 4136: 'stewart', 4137: 'accept', 4138: 'drive', 4139: 'rugged', 4140: 'dan_gillick:', 4141: 'entering', 4142: 'gator', 4143: 'just', 4144: 'vulnerable', 4145: 'toe', 4146: 'tubman', 4147: 'butts', 4148: 'rockers', 4149: 'wussy', 4150: 'preparation', 4151: 'whose', 4152: 'confession', 4153: 'odor', 4154: 'pleased', 4155: 'pigs', 4156: 'stretches', 4157: 'finally', 4158: 'voters', 4159: 'pharmaceutical', 4160: 'distance', 4161: 'illegally', 4162: 'occasion', 4163: 'reporter', 4164: 'turning', 4165: \"'pu\", 4166: 'joey', 4167: 'does', 4168: 'school', 4169: 'mayor', 4170: 'today/', 4171: 'watched', 4172: 'faiths', 4173: 'fierce', 4174: 'thankful', 4175: 'finishing', 4176: 'agreement', 4177: 'ned', 4178: 'strictly', 4179: 'sleigh-horses', 4180: 'mellow', 4181: 'attractive_woman_#2:', 4182: 'prayer', 4183: 'nap', 4184: 'swimming', 4185: 'fresco', 4186: 'aisle', 4187: 'phase', 4188: 'finger', 4189: 'logos', 4190: 'peanuts', 4191: 'famous', 4192: 'albert', 4193: 'hmmm', 4194: 'flying', 4195: 'second', 4196: 'someplace', 4197: 'burg', 4198: 'brace', 4199: 'realize', 4200: 'oblivious', 4201: 'spinning', 4202: 'hoped', 4203: 'scruffy_blogger:', 4204: 'flynt', 4205: 'scornful', 4206: 'five-fifteen', 4207: 'wiggum', 4208: 'soaps', 4209: 'hollye', 4210: 'chauffeur', 4211: \"b-52's:\", 4212: 'pumping', 4213: 'therapy', 4214: 'sheriff', 4215: 'pine', 4216: 'radiation', 4217: 'kinds', 4218: 'become', 4219: 'u2:', 4220: 'helllp', 4221: 'lead', 4222: 'awwww', 4223: 'team', 4224: 'straining', 4225: 'rock', 4226: 'beards', 4227: 'madonna', 4228: 'rats', 4229: '|exclamation_mark|', 4230: 'through', 4231: 'leg', 4232: 'paid', 4233: 'malabar', 4234: 'teenage', 4235: 'linda', 4236: 'offended', 4237: 'graveyard', 4238: 'pretend', 4239: 'felony', 4240: 'trashed', 4241: 'exasperated', 4242: 'stay', 4243: 'bartenders', 4244: 'hammer', 4245: 'shows', 4246: 'killing', 4247: 'nursemaid', 4248: 'beneath', 4249: 'rummy', 4250: 'countryman', 4251: 'trapping', 4252: 'belch', 4253: 'cent', 4254: 'ran', 4255: 'weekend', 4256: \"wallet's\", 4257: \"makin'\", 4258: 'paint', 4259: 'without', 4260: 'sat', 4261: 'if', 4262: \"'morning\", 4263: 'fanciest', 4264: 'barter', 4265: 'grubby', 4266: 'gorgeous', 4267: 'cameras', 4268: 'ripping', 4269: \"renovatin'\", 4270: 'bubble', 4271: 'dr', 4272: 'ninety-nine', 4273: 'penny', 4274: 'wrap', 4275: 'defeated', 4276: 'disgraceful', 4277: 'disappear', 4278: 'sing', 4279: 'rods', 4280: \"raggin'\", 4281: 'ourselves', 4282: 'thirty', 4283: 'these', 4284: 'diet', 4285: 'um', 4286: 'kucinich', 4287: 'xx', 4288: 'patented', 4289: 'name', 4290: 'twentieth', 4291: 'health_inspector:', 4292: 'duffman:', 4293: 'settled', 4294: 'yo', 4295: 'stomach', 4296: 'refiero', 4297: 'ten', 4298: 'imported-sounding', 4299: 'alcoholic', 4300: 'supposed', 4301: 'neighbors', 4302: 'reckless', 4303: '1979', 4304: 'dejected_barfly:', 4305: 'with', 4306: 'bagged', 4307: 'published', 4308: 'glee', 4309: 'build', 4310: 'ground', 4311: 'amnesia', 4312: 'softer', 4313: 'stirring', 4314: 'giggles', 4315: 'loathe', 4316: 'activity', 4317: 'investment', 4318: 'jar', 4319: 'grow', 4320: 'reserve', 4321: 'shrugging', 4322: 'exception:', 4323: 'wanna', 4324: \"singin'\", 4325: 'wrote', 4326: \"here's\", 4327: 'agent', 4328: 'pile', 4329: 'go-near-', 4330: 'supermarket', 4331: 'midnight', 4332: 'permitting', 4333: 'thousand', 4334: 'attitude', 4335: '2nd_voice_on_transmitter:', 4336: 'windelle', 4337: 'an', 4338: 'tentative', 4339: 'full-blooded', 4340: 'dinner', 4341: \"you'd\", 4342: 'force', 4343: 'throwing', 4344: 'eggshell', 4345: \"people's\", 4346: \"today's\", 4347: 'e-z', 4348: 'lard', 4349: 'payments', 4350: 'dishonor', 4351: 'live', 4352: 'idiot', 4353: 'e', 4354: \"neighbor's\", 4355: 'maya:', 4356: 'squadron', 4357: 'ron', 4358: 'woe:', 4359: 'hm', 4360: 'balls', 4361: \"america's\", 4362: 'meaningless', 4363: 'thanking', 4364: 'wok', 4365: 'he', 4366: 'jamaican', 4367: 'carpet', 4368: 'seminar', 4369: 'freaky', 4370: 'peach', 4371: 'hateful', 4372: \"buffalo's\", 4373: 'strangles', 4374: 'newsletter', 4375: 'well-wisher', 4376: 'tongue', 4377: 'tow-talitarian', 4378: 'scream', 4379: 'once', 4380: 'fayed', 4381: 'quietly', 4382: 'reasons', 4383: 'ambrosia', 4384: 'job', 4385: 'looked', 4386: 'leak', 4387: 'ridiculous', 4388: \"he's\", 4389: 'mid-seventies', 4390: \"where'd\", 4391: 'itself', 4392: \"there's\", 4393: 'maya', 4394: 'tribute', 4395: 'jazz', 4396: 'x-men', 4397: 'windowshade', 4398: 'answers', 4399: 'cesss', 4400: 'dea-d-d-dead', 4401: 'life-partner', 4402: 'tabooger', 4403: 'cheat', 4404: 'stacey', 4405: '1895', 4406: 'layer', 4407: 'pushing', 4408: 'bonfire', 4409: 'telegraph', 4410: 'bathtub', 4411: 'ha-ha', 4412: 'wing', 4413: 'cable', 4414: 'damn', 4415: 'killer', 4416: 'lise:', 4417: 'wears', 4418: 'perverse', 4419: 'sense', 4420: 'jobs', 4421: 'heavens', 4422: \"wouldn't\", 4423: \"talkin'\", 4424: 'afterglow', 4425: 'until', 4426: 'spend', 4427: 'brandy', 4428: 'pretends', 4429: 'shelf', 4430: 'showed', 4431: 'african', 4432: 'flea:', 4433: 'jacksons', 4434: 'propose', 4435: 'trusted', 4436: 'padre', 4437: 'woo', 4438: 'noosey', 4439: 'allowed', 4440: 'laney', 4441: 'parenting', 4442: 'girlfriend', 4443: 'masks', 4444: 'marry', 4445: 'sideshow_bob:', 4446: 'moonshine', 4447: 'stumble', 4448: \"what're\", 4449: 'church', 4450: 'stuck', 4451: 'life-threatening', 4452: 'ugh', 4453: 'knives', 4454: 'cans', 4455: 'clams', 4456: '|period|', 4457: 'declare', 4458: 'pee', 4459: 'aged_moe:', 4460: 'safe', 4461: 'vermont', 4462: 'app', 4463: 'eggs', 4464: 'youse', 4465: 'carve', 4466: 'examples', 4467: 'recommend', 4468: 'taking', 4469: 'abandon', 4470: 'enjoys', 4471: 'yea', 4472: 'toward', 4473: 'automobiles', 4474: 'influence', 4475: 'liver', 4476: 'three', 4477: 'burps', 4478: 'accident', 4479: 'slop', 4480: 'stares', 4481: '3rd_voice:', 4482: 'reads', 4483: 'chained', 4484: 'aer', 4485: 'ducked', 4486: 'williams', 4487: 'anti-crime', 4488: 'aziz', 4489: 'can', 4490: 'johnny', 4491: 'squad', 4492: 'little_hibbert_girl:', 4493: 'ask', 4494: 'chug', 4495: 'secrets', 4496: 'disgracefully', 4497: 'excited', 4498: 'salt', 4499: 'snake_jailbird:', 4500: 'grain', 4501: \"c'mere\", 4502: 'whaaa', 4503: 'mason', 4504: 'for', 4505: \"i've\", 4506: 'fastest', 4507: 'sister-in-law', 4508: 'stop', 4509: 'gumbel', 4510: 'au', 4511: 'huge', 4512: 'looks', 4513: 'paramedic:', 4514: 'chair', 4515: 'dancing', 4516: 'winnings', 4517: 'turned', 4518: 'injury', 4519: 'arms', 4520: 'nightmare', 4521: 'daniel', 4522: 'muhammad', 4523: 'david', 4524: 'bras', 4525: 'businessman_#1:', 4526: 'guess', 4527: 'means', 4528: 'museum', 4529: 'equal', 4530: 'whatsit', 4531: 'bachelorette', 4532: \"doin'\", 4533: 'hired', 4534: 'unison', 4535: 'mess', 4536: 'horrified', 4537: 'sell', 4538: '|return|', 4539: 'pushes', 4540: 'house', 4541: 'cotton', 4542: \"costume's\", 4543: 'law-abiding', 4544: 'fire_inspector:', 4545: 'weather', 4546: 'bumped', 4547: '91', 4548: 'judge', 4549: 'grandiose', 4550: 'helpful', 4551: 'youuu', 4552: 'poetry', 4553: 'counting', 4554: 'plane', 4555: 'tells', 4556: 'prove', 4557: 'pews', 4558: 'wings', 4559: 'prince', 4560: 'certainly', 4561: 'schorr', 4562: 'dang', 4563: 'ees', 4564: 'burning', 4565: 'post-suicide', 4566: 'marshmallow', 4567: 'cold', 4568: 'along', 4569: 'corkscrew', 4570: 'race', 4571: \"ya'\", 4572: 'yourse', 4573: 'aw', 4574: 'slice', 4575: 'graves', 4576: 'junebug', 4577: 'wangs', 4578: 'sexy', 4579: \"foolin'\", 4580: 'aims', 4581: 'pajamas', 4582: 'guiltily', 4583: 'access', 4584: 'achebe', 4585: 'thru', 4586: 'perch', 4587: 'lift', 4588: 'alphabet', 4589: 'meanwhile', 4590: 'shelbyville', 4591: 'media', 4592: 'banks', 4593: 'wish-meat', 4594: 'installed', 4595: \"stinkin'\", 4596: 'north', 4597: 'errrrrrr', 4598: 'undermine', 4599: 'starting', 4600: 'chub', 4601: 'slogan', 4602: 'stirrers', 4603: 'recreate', 4604: 'lost', 4605: 'alva', 4606: 'lurleen_lumpkin:', 4607: 'languages', 4608: 'ideal', 4609: 'yew', 4610: 'distaste', 4611: 'taxes', 4612: 'refreshingness', 4613: 'watching', 4614: 'pause', 4615: 'danish', 4616: 'perplexed', 4617: 'locklear', 4618: 'outstanding', 4619: 'rotch', 4620: 'adopted', 4621: 'hospital', 4622: 'rude', 4623: 'sacrifice', 4624: 'benjamin:', 4625: 'hiya', 4626: 'rounds', 4627: 'glass', 4628: 'creates', 4629: 'tracks', 4630: 'ballclub', 4631: 'rule', 4632: 'goes', 4633: 'donated', 4634: 'hops', 4635: 'equivalent', 4636: 'pancakes', 4637: 'curious', 4638: 'much', 4639: 'debonair', 4640: 'starlets', 4641: 'screams', 4642: 're:', 4643: 'has', 4644: \"we've\", 4645: \"how's\", 4646: 'stalwart', 4647: 'barbara', 4648: 'heavyweight', 4649: 'event', 4650: 'nuked', 4651: 'what-for', 4652: 'skoal', 4653: 'fringe', 4654: 'wolverines', 4655: 'works', 4656: \"somethin'\", 4657: \"ma'am\", 4658: 'hears', 4659: 'kick-ass', 4660: 'harvesting', 4661: 'seemed', 4662: 'cruel', 4663: \"callin'\", 4664: 'mm-hmm', 4665: 'scatter', 4666: 'morning', 4667: 'hampstead-on-cecil-cecil', 4668: 'fall', 4669: 'hope', 4670: 'klingon', 4671: 'obsessive-compulsive', 4672: 'snort', 4673: 'superhero', 4674: 'presses', 4675: 'apron', 4676: 'plastic', 4677: \"fryer's\", 4678: 'kindly', 4679: 'almond', 4680: 'hitchhike', 4681: 'limericks', 4682: 'brockman', 4683: 'teenage_homer:', 4684: 'politician', 4685: 'verdict', 4686: 'badmouths', 4687: 'actress', 4688: 'relaxed', 4689: 'strawberry', 4690: 'nervous', 4691: 'decency', 4692: 'france', 4693: 'dames', 4694: 'hangover', 4695: 'cuckoo', 4696: 'modern', 4697: 'fuhgetaboutit', 4698: \"'\", 4699: 'button', 4700: 'win', 4701: 'screws', 4702: 'help', 4703: 'candles', 4704: 'unlucky', 4705: 'norway', 4706: 'rueful', 4707: 'territorial', 4708: 'gregor', 4709: 'bookie', 4710: 'muttering', 4711: \"time's\", 4712: 'moe_recording:', 4713: 'hi', 4714: 'present', 4715: 'bites', 4716: 'young', 4717: 'bitter', 4718: 'lager', 4719: 'helped', 4720: 'monday', 4721: 'overflowing', 4722: 'regret', 4723: 'blow', 4724: 'so-ng', 4725: 'strongly', 4726: 'mix', 4727: 'tying', 4728: 'abusive', 4729: \"s'okay\", 4730: 'swan', 4731: 'searching', 4732: 'schemes', 4733: 'bad', 4734: 'title:', 4735: 'doug:', 4736: \"treatin'\", 4737: 'reached', 4738: 'pleasure', 4739: 'firmly', 4740: 'chinua', 4741: 'droning', 4742: 'musketeers', 4743: 'birth', 4744: 'bridge', 4745: 'decent', 4746: \"d'ya\", 4747: 'pin', 4748: 'playoff', 4749: 'troy_mcclure:', 4750: 'popped', 4751: 'please/', 4752: 'offense', 4753: 'lonely', 4754: 'confidentially', 4755: 'pond', 4756: 'problem', 4757: 'increased', 4758: 'chips', 4759: 'boxcar', 4760: 'rocks', 4761: 'unfortunately', 4762: 'joke', 4763: 'telling', 4764: 'frescas', 4765: 'delivery_boy:', 4766: 'crowned', 4767: 'hero-phobia', 4768: 'babe', 4769: 'cases', 4770: 'predictable', 4771: 'here-here-here', 4772: 'states', 4773: 'fainted', 4774: 'broad', 4775: 'cola', 4776: 'nuts', 4777: 'bubbles-in-my-nose-y', 4778: 'shop', 4779: 'pre-columbian', 4780: 'talkative', 4781: 'awareness', 4782: 'sunglasses', 4783: 'wins', 4784: 'mint', 4785: 'exit', 4786: 'gulps', 4787: 'bush', 4788: 'refinanced', 4789: 'nbc', 4790: 'bashir', 4791: 'micronesian', 4792: 'changed', 4793: 'chocolate', 4794: 'smug', 4795: \"payin'\", 4796: 'till', 4797: 'dating', 4798: \"life's\", 4799: 'kegs', 4800: 'recipe', 4801: 'guide', 4802: 'fantasy', 4803: 'gift:', 4804: 'scarf', 4805: 'vincent', 4806: 'champignons', 4807: 'tofu', 4808: 'kissed', 4809: 'lock', 4810: 'series', 4811: 'splattered', 4812: 'singer', 4813: 'unrelated', 4814: 'enterprising', 4815: 'cigarette', 4816: 'incarcerated', 4817: 'radishes', 4818: 'renew', 4819: 'convenient', 4820: 'checking', 4821: 'motel', 4822: 'awe', 4823: 'snorts', 4824: 'splendid', 4825: 'boned', 4826: 'cars', 4827: 'indigenous', 4828: \"i'unno\", 4829: \"homer'll\", 4830: 'lucinda', 4831: 'specialists', 4832: 'gangrene', 4833: 'disappointed', 4834: 'gonna', 4835: 'share', 4836: 'wiener', 4837: 'lie', 4838: 'she-pu', 4839: 'sister', 4840: 'delicate', 4841: 'soothing', 4842: 'celebration', 4843: 'sisters', 4844: 'denser', 4845: 'imaginary', 4846: 'touched', 4847: 'habitrail', 4848: 'though:', 4849: 'self-satisfied', 4850: 'important', 4851: 'ruint', 4852: 'position', 4853: 'sighs', 4854: 'phony', 4855: 'effervescence', 4856: 'lobster-based', 4857: 'relax', 4858: 'supervising', 4859: 'statue', 4860: 'caper', 4861: 'pregnancy', 4862: 'pockets', 4863: 'list', 4864: 'liability', 4865: 'samples', 4866: 'grocery', 4867: 'physical', 4868: \"cont'd:\", 4869: 'name:', 4870: 'things', 4871: 'frontrunner', 4872: 'pointless', 4873: 'since', 4874: 'gayer', 4875: 'die-hard', 4876: 'improved', 4877: \"he'll\", 4878: 'flush', 4879: 'ashamed', 4880: 'back', 4881: 'mindless', 4882: 'malted', 4883: 'advantage', 4884: \"we're\", 4885: 'reunion', 4886: 'overturned', 4887: 'hats', 4888: 'given', 4889: 'thank', 4890: 'spirit', 4891: 'drinking', 4892: 'sympathetic', 4893: 'worried', 4894: \"doesn't\", 4895: 'carnival', 4896: 'trenchant', 4897: 'kidneys', 4898: 'las', 4899: 'festival', 4900: 'home', 4901: 'toxins', 4902: 'breath', 4903: 'early', 4904: \"neat's-foot\", 4905: 'kings', 4906: 'soap', 4907: 'minors', 4908: 'suits', 4909: 'negative', 4910: 'smells', 4911: 'closing', 4912: 'ali', 4913: 'super-genius', 4914: 'doll-baby', 4915: 'birthday', 4916: 'ancient', 4917: 'heh', 4918: 'weird', 4919: 'easy', 4920: 'crooks', 4921: 'rain', 4922: 'cheated', 4923: 'marguerite:', 4924: 'superdad', 4925: 'babar', 4926: 'fella', 4927: 'data', 4928: 'cow', 4929: 'sips', 4930: 'last', 4931: 'jägermeister', 4932: 'sitcom', 4933: 'idealistic', 4934: 'time', 4935: 'tenuous', 4936: 'fail', 4937: 'bigger', 4938: 'care', 4939: \"springfield's\", 4940: 'prepared', 4941: 'hotline', 4942: 'speed', 4943: 'unattended', 4944: 'grabs', 4945: 'picture', 4946: 'throw', 4947: 'darts', 4948: \"tramp's\", 4949: 'like', 4950: 'created', 4951: 'men:', 4952: 'amends', 4953: 'thnord', 4954: 'insured', 4955: 'goo', 4956: 'hook', 4957: 'sorts', 4958: 'lucius', 4959: 'picnic', 4960: 'lifters', 4961: 'gr-aargh', 4962: 'uninhibited', 4963: 'think', 4964: 'lately', 4965: 'stained-glass', 4966: 'owes', 4967: 'nominated', 4968: 'waitress', 4969: 'winston', 4970: 'predecessor', 4971: 'sheet', 4972: 'american', 4973: 'ding-a-ding-ding-a-ding-ding', 4974: 'damned', 4975: 'arab_man:', 4976: 'ventriloquism', 4977: 'cheer', 4978: 'amount', 4979: 'uncomfortable', 4980: 'undies', 4981: 'harrowing', 4982: 'breaks', 4983: 'laughs', 4984: 'do', 4985: 'sweetly', 4986: 'f', 4987: 'clothespins', 4988: 'brain', 4989: 'mccall', 4990: 'action', 4991: 'war', 4992: 'pretending', 4993: 'legs:', 4994: 'friend:', 4995: 'bastard', 4996: 'healthier', 4997: 'dinks', 4998: '7g', 4999: 'found', 5000: 'blues', 5001: 'eddie:', 5002: \"smackin'\", 5003: 'gang', 5004: 'colossal', 5005: 'demo', 5006: 'urinal', 5007: 'noise', 5008: \"city's\", 5009: \"smokin'\", 5010: 'rub-a-dub', 5011: 'when', 5012: 'state', 5013: 'angry', 5014: 'laid', 5015: \"i'd\", 5016: \"rustlin'\", 5017: 'thirty-nine', 5018: 'watered', 5019: \"meanin'\", 5020: 'travel', 5021: 'delivery', 5022: 'blinded', 5023: 'snide', 5024: 'sir', 5025: 'blurbs', 5026: 'groin', 5027: 'bottom', 5028: 'bus', 5029: \"narratin'\", 5030: 'children', 5031: 'anything', 5032: 'chicks', 5033: 'rasputin', 5034: 'hootie', 5035: 'chief_wiggum:', 5036: 'sen', 5037: 'steam', 5038: 'shard', 5039: 'goods', 5040: 'delays', 5041: 'chanting', 5042: 'ineffective', 5043: 'lighten', 5044: 'effigy', 5045: 'stinger', 5046: 'fourth', 5047: 'twenty-six', 5048: 'ne', 5049: 'hunter', 5050: 'inspection', 5051: 'tale', 5052: 'boozebag', 5053: \"bo's\", 5054: 'life-extension', 5055: 'comes', 5056: 'traditions', 5057: 'clapping', 5058: 'tough', 5059: 'intoxicated', 5060: 'royal', 5061: 'haw', 5062: 'ihop', 5063: 'fatty', 5064: 'book', 5065: 'death', 5066: 'career', 5067: \"money's\", 5068: 'tons', 5069: 'military', 5070: 'painted', 5071: 'broke', 5072: 'initially', 5073: 'bread', 5074: 'promise', 5075: 'cappuccino', 5076: 'doors', 5077: 'authorized', 5078: 'miss_lois_pennycandy:', 5079: 'all:', 5080: 'fifth', 5081: 'conditioner', 5082: 'whispers', 5083: 'pilsner-pusher', 5084: 'wind', 5085: 'flaming', 5086: 'sesame', 5087: 'pigtown', 5088: 'cobbling', 5089: 'losing', 5090: 'woulda', 5091: 'cheryl', 5092: 'gasps', 5093: 'slight', 5094: 'woman:', 5095: 'paste', 5096: 'squeal', 5097: 'beaumarchais', 5098: 'him', 5099: 'who-o-oa', 5100: 'wigs', 5101: 'came', 5102: 'sodas', 5103: 'imitating', 5104: 'stevie', 5105: 'shotgun', 5106: 'sanctuary', 5107: \"smokin'_joe_frazier:\", 5108: 'duke', 5109: 'watered-down', 5110: 'bees', 5111: 'row', 5112: 'blessing', 5113: 'rusty', 5114: 'bull', 5115: 'rom', 5116: 'foil', 5117: 'able', 5118: 'massive', 5119: 'view', 5120: 'aside', 5121: 'society', 5122: 'courteous', 5123: 'nah', 5124: 'steaming', 5125: 'those', 5126: 'something:', 5127: 'yak', 5128: 'body', 5129: 'still', 5130: 'turn', 5131: 'cuff', 5132: 'fox', 5133: 'managed', 5134: \"jimbo's_dad:\", 5135: 'plums', 5136: 'jubilation', 5137: 'dictator', 5138: 'ails', 5139: 'veux', 5140: 'snout', 5141: 'scotch', 5142: 'corporation', 5143: 'happier', 5144: 'har', 5145: 'tropical', 5146: 'manchego', 5147: 'two', 5148: 'slim', 5149: 'edna_krabappel-flanders:', 5150: 'beef', 5151: \"weren't\", 5152: 'rickles', 5153: 'knife', 5154: 'place', 5155: 'by', 5156: 'hurts', 5157: \"shootin'\", 5158: 'lurks', 5159: 'led', 5160: 'rag', 5161: 'ad', 5162: 'cheesecake', 5163: 'rhyme', 5164: 'jumping', 5165: \"high-falutin'\", 5166: 'dishrag', 5167: \"moe's_thoughts:\", 5168: 'week', 5169: 'pope', 5170: 'barney-type', 5171: 'guff', 5172: 'least', 5173: 'astonishment', 5174: 'offa', 5175: 'innocuous', 5176: 'pulls', 5177: 'toss', 5178: 'western', 5179: 'truck', 5180: 'woodchucks', 5181: 'yellow-belly', 5182: 'acronyms', 5183: 'together', 5184: 'helpless', 5185: 'dice', 5186: 'writers', 5187: 'presto:', 5188: 'w', 5189: 'sadistic_barfly:', 5190: 'cleveland', 5191: 'dime', 5192: 'longer', 5193: 'affects', 5194: 'easygoing', 5195: 'refreshing', 5196: 'darjeeling', 5197: 'stuff', 5198: 'bulletin', 5199: 'sidelines', 5200: 'considering', 5201: 'free', 5202: 'calls', 5203: 'spreads', 5204: 'squeals', 5205: 'riding', 5206: 'tick', 5207: 'pitcher', 5208: 'prank', 5209: 'drinker', 5210: 'twelveball', 5211: 'fishing', 5212: 'television', 5213: 'pit', 5214: 'victorious', 5215: 'seductive', 5216: 'digging', 5217: 'rebuilt', 5218: 'dressing', 5219: 'tonight', 5220: 'anymore', 5221: 'key', 5222: 'recruiter', 5223: 'moe-heads', 5224: 'routine', 5225: 'booth', 5226: 'cries', 5227: 'intakes', 5228: 'fights', 5229: 'finale', 5230: 'smell', 5231: 'macbeth', 5232: 'joining', 5233: 'moolah-stealing', 5234: 'moe_szyslak:', 5235: 'creme', 5236: 'specials', 5237: 'scrape', 5238: 'various', 5239: 'kyoto', 5240: 'soir', 5241: 'pal', 5242: 'failed', 5243: 'dregs', 5244: 'slapped', 5245: 'befouled', 5246: 'creeps', 5247: 'test-lady', 5248: 'me', 5249: 'south', 5250: 'ummmmmmmmm', 5251: 'declan_desmond:', 5252: 'complicated', 5253: 'notice', 5254: 'seas', 5255: 'beard', 5256: 'ow', 5257: 'hand', 5258: 'doom', 5259: 'great', 5260: \"'s\", 5261: 'hugh:', 5262: 'stinky', 5263: 'tender', 5264: 'fourteen:', 5265: 'pinball', 5266: 'believe', 5267: 'stones', 5268: 'washouts', 5269: 'occupation', 5270: 'mural', 5271: 'finding', 5272: \"puttin'\", 5273: 'kill', 5274: 'whip', 5275: 'distinct', 5276: 'clincher', 5277: 'drinks', 5278: 'meeting', 5279: 'upsetting', 5280: 'issuing', 5281: 'hoping', 5282: 'accounta', 5283: 'side:', 5284: 'man:', 5285: 'realizing', 5286: 'ned_flanders:', 5287: 'sloppy', 5288: 'shtick', 5289: 'glowers', 5290: 'mobile', 5291: 'reluctantly', 5292: 'sustain', 5293: 'blown', 5294: 'surprising', 5295: 'causes', 5296: 'the_edge:', 5297: 'pats', 5298: 'problems', 5299: 'judgments', 5300: 'stores', 5301: 'bald', 5302: 'safety', 5303: 'feels', 5304: 'richard:', 5305: 'boxing_announcer:', 5306: 'brawled', 5307: 'sequel', 5308: 'daughter', 5309: 'rope', 5310: 'ford', 5311: 'spamming', 5312: 'experienced', 5313: 'hooky', 5314: 'hiring', 5315: 'learn', 5316: 'shoulders', 5317: 'ape-like', 5318: 'smallest', 5319: 'flustered', 5320: 'poisoning', 5321: 'bulked', 5322: \"cuckold's\", 5323: 'message', 5324: 'get', 5325: 'correcting', 5326: \"scammin'\", 5327: 'waters', 5328: 'stepped', 5329: 'fountain', 5330: 'muscle', 5331: 'alky', 5332: 'starters', 5333: 'why', 5334: 'nos', 5335: 'wide', 5336: 'comedies', 5337: 'elder', 5338: 'boozehound', 5339: 'heart', 5340: 'dejected', 5341: 'flash-fry', 5342: '_montgomery_burns:', 5343: 'continuum', 5344: 'voice', 5345: 'nooo', 5346: 'blooded', 5347: 'serum', 5348: \"santa's\", 5349: 'chapel', 5350: 'all-star', 5351: 'vanities', 5352: '/', 5353: 'nelson_muntz:', 5354: 'couch', 5355: 'jane', 5356: 'drunkening', 5357: 'eager', 5358: 'manfred', 5359: 'horror', 5360: 'another', 5361: 'barn', 5362: 'club', 5363: 'tuborg', 5364: 'city', 5365: 'confidence', 5366: 'ahhh', 5367: 'drift', 5368: 'avalanche', 5369: 'wiggle', 5370: 'tenor:', 5371: 'julienne', 5372: 'faces', 5373: 'charming', 5374: 'show-off', 5375: 'kearney_zzyzwicz:', 5376: 'frat', 5377: 'whenever', 5378: 'walk', 5379: 'wholeheartedly', 5380: 'wittgenstein', 5381: 'szyslak', 5382: 'eyed', 5383: 'center', 5384: 'damage', 5385: 'turlet', 5386: 'cause', 5387: 'belly', 5388: 'souped', 5389: 'mirror', 5390: 'public', 5391: 'statesmanlike', 5392: 'annual', 5393: 'mild', 5394: 'venture', 5395: 'nameless', 5396: 'woooooo', 5397: 'casting', 5398: 'reserved', 5399: 'foundation', 5400: 'lips', 5401: 'erasers', 5402: 'con', 5403: 'barbed', 5404: \"how'd\", 5405: 'aunt', 5406: 'big', 5407: 'america', 5408: 'instantly', 5409: 'you-need-man', 5410: 'all-all-all', 5411: 'california', 5412: 'swishkabobs', 5413: 'something', 5414: 'pen', 5415: 'ruled', 5416: 'booking', 5417: 'flown', 5418: 'distributor', 5419: 'microbrew', 5420: 'date', 5421: \"goin'\", 5422: 'breaking', 5423: 'rubs', 5424: \"breakin'\", 5425: 'gol-dangit', 5426: 'sixteen', 5427: 'gabriel', 5428: 'eighteen', 5429: 'cajun', 5430: 'jump', 5431: 'ahh', 5432: 'yours', 5433: 'rainbows', 5434: 'ease', 5435: 'take', 5436: 'kay', 5437: 'crappy', 5438: 'gently', 5439: \"stallin'\", 5440: 'glen', 5441: 'soaked', 5442: 'seek', 5443: 'huddle', 5444: 'fbi', 5445: 'are', 5446: 'breathalyzer', 5447: 'crow', 5448: 'boozy', 5449: 'fumigated', 5450: 'triumphantly', 5451: 'amanda', 5452: 'computer', 5453: 'world', 5454: 'blind', 5455: 'fingers', 5456: 'clientele', 5457: 'fault', 5458: 'concerned', 5459: 'fools', 5460: 'labels', 5461: 'mine', 5462: 'alpha-crow', 5463: 'expect', 5464: 'thirteen', 5465: 'due', 5466: 'scoffs', 5467: 'awfully', 5468: 'admiration', 5469: 'gold', 5470: 'humanity', 5471: 'bunch', 5472: 'discussing', 5473: \"ragin'\", 5474: 'mortgage', 5475: \"shouldn't\", 5476: 'up-bup-bup', 5477: 'edna', 5478: 'schnapps', 5479: 'offshoot', 5480: 'christian', 5481: 'male_singers:', 5482: 'skills', 5483: 'thirsty', 5484: 'crack', 5485: 'bottle', 5486: 'possessions', 5487: 'too', 5488: 'county', 5489: 'joe', 5490: 'clips', 5491: 'rip', 5492: 'popular', 5493: 'andalay', 5494: 'hustle', 5495: 'unbelievable', 5496: 'jukebox_record:', 5497: 'sotto', 5498: 'drove', 5499: 'nicer', 5500: 'stagehand:', 5501: 'code', 5502: 'pity', 5503: 'sun', 5504: 'awful', 5505: 'shindig', 5506: 'grampa_simpson:', 5507: 'unsourced', 5508: 'accent', 5509: 'it:', 5510: 'they', 5511: 'bachelorhood', 5512: 'being', 5513: 'sweetie', 5514: 'pian-ee', 5515: \"game's\", 5516: 'jockey', 5517: 'thousand-year', 5518: 'grope', 5519: 'language', 5520: 'ripped', 5521: 'william', 5522: 'nahasapeemapetilon', 5523: \"livin'\", 5524: 'charm', 5525: 'realized', 5526: 'tense', 5527: 'sure', 5528: 'tomato', 5529: 'quimbys:', 5530: 'forty-two', 5531: 'lump', 5532: 'stealings', 5533: 'bon-bons', 5534: 'pipe', 5535: 'need', 5536: 'bauer', 5537: 'lipo', 5538: 'general', 5539: 'ratio', 5540: 'landlord', 5541: 'guest', 5542: 'wudgy', 5543: 'congoleum', 5544: 'holy', 5545: 'luv', 5546: 'see', 5547: 'hideous', 5548: 'quite', 5549: 'ura', 5550: 'manjula', 5551: 'fine', 5552: 'yammering', 5553: 'el', 5554: 'kennedy', 5555: 'ruin', 5556: 'hang', 5557: 'diaper', 5558: 'inserts', 5559: 'medical', 5560: 'coney', 5561: 'director', 5562: 'criminal', 5563: \"heat's\", 5564: 'fistiana', 5565: 'stooges', 5566: 'flourish', 5567: 'pawed', 5568: 'played', 5569: 'patriotic', 5570: 'village', 5571: 'eats', 5572: \"tomorrow's\", 5573: 'passion', 5574: 'concentrate', 5575: 'patty_bouvier:', 5576: 'administration', 5577: 'mixed', 5578: 'flexible', 5579: 'putty', 5580: 'smelling', 5581: 'absolutely', 5582: 'queer', 5583: 'alone', 5584: \"cat's\", 5585: 'crab', 5586: 'character', 5587: 'own', 5588: 'gum', 5589: \"choosin'\", 5590: 'celeste', 5591: 'hilton', 5592: 'fox_mulder:', 5593: 'compromise:', 5594: 'store', 5595: 'bedridden', 5596: 'huggenkiss', 5597: 'pull', 5598: 'chew', 5599: 'stolen', 5600: 'theatah', 5601: 'treat', 5602: 'arm', 5603: 'videotaped', 5604: 'fast-food', 5605: 'hearse', 5606: 'scared', 5607: 'thirty-thousand', 5608: 'tar-paper', 5609: 'portuguese', 5610: 'tempting', 5611: 'mathis', 5612: 'belong', 5613: 'silent', 5614: 'ways', 5615: 'impatient', 5616: 'cops', 5617: 'saved', 5618: \"y'money's\", 5619: 'slays', 5620: \"duff's\", 5621: 'bets', 5622: 'annoying', 5623: 'composer', 5624: 'frink-y', 5625: 'dame', 5626: 'switch', 5627: 'knuckle-dragging', 5628: 'comfortable', 5629: 'tavern', 5630: 'gary_chalmers:', 5631: 'sperm', 5632: 'dilemma', 5633: 'cocoa', 5634: 'artie', 5635: 'channel', 5636: \"rentin'\", 5637: 'frenchman', 5638: 'snail', 5639: 'ton', 5640: 'common', 5641: \"man'd\", 5642: \"'im\", 5643: \"fightin'\", 5644: \"they'll\", 5645: 'john', 5646: 'homer_simpson:', 5647: 'son', 5648: 'passes', 5649: 'obese', 5650: 'starts', 5651: 'thorn', 5652: 'short', 5653: \"mecca's\", 5654: 'hydrant', 5655: 'pyramid', 5656: 'blood-thirsty', 5657: \"jackpot's\", 5658: 'ever', 5659: 'face', 5660: 'woman', 5661: 'catch-phrase', 5662: 'sunk', 5663: 'join', 5664: 'crony', 5665: \"y'know\", 5666: 'burt', 5667: \"wasn't\", 5668: 'statues', 5669: 'salary', 5670: \"elmo's\", 5671: 'sleeps', 5672: 'replace', 5673: 'delts', 5674: 'coward', 5675: 'stillwater:', 5676: 'miserable', 5677: 'hyper-credits', 5678: 'boyfriend', 5679: 'uncreeped-out', 5680: 'exhale', 5681: 'fresh', 5682: \"tester's\", 5683: 'jerk-ass', 5684: \"writin'\", 5685: 'worth', 5686: 'mouths', 5687: 'elocution', 5688: 'rings', 5689: 'blamed', 5690: 'delete', 5691: 'airport', 5692: 'cooking', 5693: 'defiantly', 5694: 'l', 5695: 'wishes', 5696: 'artie_ziff:', 5697: 'showered', 5698: 'combination', 5699: 'record', 5700: 'caught', 5701: 'chorus:', 5702: 'gossipy', 5703: 'sub-monkeys', 5704: 'superior', 5705: 'ech', 5706: 'treats', 5707: 'multi-national', 5708: 'jeff_gordon:', 5709: 'kent_brockman:', 5710: 'shred', 5711: 'donut', 5712: 'danny', 5713: \"comin'\", 5714: 'slurred', 5715: 'cruiser', 5716: 'choose', 5717: \"can't\", 5718: 'brewed', 5719: 'sinkhole', 5720: 'annus', 5721: 'hide', 5722: 'jaegermeister', 5723: 'understood', 5724: 'jackson', 5725: 'accelerating', 5726: 'brick', 5727: \"idea's\", 5728: 'press', 5729: 'sharing', 5730: 'tab', 5731: 'bring', 5732: 'careful', 5733: 'sounded', 5734: 'lecture', 5735: 'understanding', 5736: 'brother', 5737: \"'round\", 5738: 'rationalizing', 5739: 'enemy', 5740: '|semicolon|', 5741: 'dirty', 5742: 'already', 5743: 'quality', 5744: 'monkey', 5745: 'always', 5746: 'briefly', 5747: 'spy', 5748: 'ears', 5749: 'theatrical', 5750: 'shriners', 5751: 'sloe', 5752: 'pays', 5753: 'stan', 5754: 'soul-crushing', 5755: 'tapestry', 5756: 'cheerier', 5757: \"somebody's\", 5758: 'mona_simpson:', 5759: 'jumps', 5760: 'fantastic', 5761: 'handle', 5762: 'bobo', 5763: 'musta', 5764: 'customers', 5765: 'binoculars', 5766: 'sucked', 5767: \"'bout\", 5768: 'snake-handler', 5769: 'frog', 5770: 'shyly', 5771: 'improv', 5772: 'germans', 5773: 'george', 5774: 'mushy', 5775: 'spiritual', 5776: 'neither', 5777: 'fulla', 5778: 'column', 5779: 'evergreen', 5780: 'ninety-six', 5781: 'hell', 5782: 'simpsons', 5783: 'raccoons', 5784: 'prefer', 5785: 'true', 5786: 'lotsa', 5787: 'was', 5788: 'beautiful', 5789: 'better', 5790: 'raise', 5791: 'say', 5792: 'straight', 5793: \"he'd\", 5794: 'workers', 5795: 'lookalikes', 5796: 'monorails', 5797: \"watchin'\", 5798: 'excellent', 5799: 'drank', 5800: 'business', 5801: 'lovelorn', 5802: 'hmf', 5803: \"o'clock\", 5804: 'point', 5805: 'perfunctory', 5806: 'casual', 5807: 'saint', 5808: 'junior', 5809: 'utensils', 5810: 'yawns', 5811: 'burger', 5812: 'exclusive:', 5813: 'heliotrope', 5814: 'older', 5815: '50-60', 5816: 'burp', 5817: 'squirrels', 5818: 'earth', 5819: 'swill', 5820: 'coy', 5821: 'legend', 5822: 'aged', 5823: 'rafter', 5824: 'draw', 5825: 'outlive', 5826: 'forehead', 5827: 'ale', 5828: 'stingy', 5829: 'spine', 5830: 'occupied', 5831: 'court', 5832: 'ya', 5833: 'remorseful', 5834: 'carb', 5835: 'gulliver_dark:', 5836: 'options', 5837: 'distract', 5838: 'maude', 5839: 'reopen', 5840: 'magazine', 5841: 'life', 5842: 'ziffcorp', 5843: 'four', 5844: 'eight-year-old', 5845: 'sign', 5846: 'donuts', 5847: 'owned', 5848: 'here', 5849: 'startup', 5850: 'ollie', 5851: 'beating', 5852: 'wobbly', 5853: 'universe', 5854: 'coast', 5855: 'avenue', 5856: 'pep', 5857: 'fletcherism', 5858: 'insulin', 5859: 'after', 5860: 'maggie', 5861: 'fighter', 5862: 'mall', 5863: 'spellbinding', 5864: 'growing', 5865: 'brainiac', 5866: 'yourself', 5867: \"secret's\", 5868: 'bitterly', 5869: 'invite', 5870: 'shopping', 5871: 'standards', 5872: 'homesick', 5873: \"marge's\", 5874: \"betsy'll\", 5875: 'culkin', 5876: \"tap-pullin'\", 5877: 'noises', 5878: 'sky', 5879: 'gamble', 5880: 'minister', 5881: 'sound', 5882: 'somebody', 5883: 'space-time', 5884: 'woo-hoo', 5885: 'their', 5886: 'completely', 5887: 'fold', 5888: 'lowest', 5889: 'oak', 5890: 'dictating', 5891: 'sickens', 5892: 'finished', 5893: 'count', 5894: 'agent_johnson:', 5895: 'hates', 5896: 'swigmore', 5897: 'generally', 5898: 'gotcha', 5899: 'bums', 5900: \"poundin'\", 5901: 'cauliflower', 5902: \"grandmother's\", 5903: 'ye', 5904: 'heart-broken', 5905: 'dateline', 5906: 'wa', 5907: 'owns', 5908: 'charlie', 5909: 'closer', 5910: 'roller', 5911: 'relieved', 5912: 'chuck', 5913: 'flashing', 5914: 'relationship', 5915: 'loud', 5916: 'deeply', 5917: 'stagey', 5918: 'bridges', 5919: '-ry', 5920: 'steampunk', 5921: 'sincere', 5922: 'package', 5923: 'avec', 5924: 'kids', 5925: 'email', 5926: 'backgammon', 5927: 'blood', 5928: 'crapmore', 5929: 'selma_bouvier:', 5930: 'scully', 5931: 'wordloaf', 5932: 'sensitivity', 5933: 'years', 5934: 'oh', 5935: 'nothing', 5936: 'ninety-seven', 5937: 'tow', 5938: \"when's\", 5939: 'developed', 5940: 'knees', 5941: 'luckily', 5942: 'cuddling', 5943: 'woman_bystander:', 5944: 'kirk_van_houten:', 5945: 'begins', 5946: 'plain', 5947: 'scientific', 5948: 'winces', 5949: \"others'\", 5950: 'aid', 5951: 'passed', 5952: 'slip', 5953: 'monroe', 5954: 'witty', 5955: 'shorter', 5956: 'sugar', 5957: 'glyco-load', 5958: 'anthony_kiedis:', 5959: 'unkempt', 5960: 'cracked', 5961: 'everyone', 5962: 'distraught', 5963: 'arguing', 5964: 'stengel', 5965: 'stretch', 5966: 'colorado', 5967: 'jay', 5968: 'yelling', 5969: 'today', 5970: 'rage', 5971: 'bolting', 5972: 'evasive', 5973: 'wore', 5974: \"robbin'\", 5975: 'disco_stu:', 5976: 'blaze', 5977: 'wolveriskey', 5978: 'declared', 5979: 'large', 5980: 'dearest', 5981: 'fired', 5982: 'design', 5983: 'coat', 5984: 'closet', 5985: 'dna', 5986: 'polite', 5987: 'anyhoo', 5988: \"father's\", 5989: 'kisser', 5990: 'angel', 5991: \"beer's\", 5992: 'late', 5993: 'flag', 5994: 'attack', 5995: 'greystash', 5996: 'x', 5997: 'researching', 5998: 'apartment', 5999: 'friction', 6000: 'neanderthal', 6001: 'kills', 6002: 'partially', 6003: 'whee', 6004: 'deeper', 6005: 'warren', 6006: 'peter', 6007: 'racially-diverse', 6008: 'cowboys', 6009: \"mcstagger's\", 6010: 'mostly', 6011: 'mill', 6012: 'champ', 6013: 'running', 6014: 'which', 6015: 'crowbar', 6016: 'right', 6017: 'dough', 6018: 'train', 6019: 'completing', 6020: 'jer', 6021: 'lib', 6022: 'tire', 6023: 'alcoholism', 6024: 'prize', 6025: 'ing', 6026: \"edna's\", 6027: 'feminine', 6028: 'minimum', 6029: \"o'problem\", 6030: 'bret:', 6031: 'natured', 6032: 'person', 6033: 'complete', 6034: 'sink', 6035: \"gettin'\", 6036: 'horses', 6037: 'extended', 6038: 'die', 6039: 'pugilist', 6040: 'pretzel', 6041: 'tsk', 6042: 'aidens', 6043: 'jerky', 6044: 'letters', 6045: 'cupid', 6046: 'não', 6047: 'feelings', 6048: 'favor', 6049: 'churchill', 6050: 'professor_jonathan_frink:', 6051: 'signal', 6052: 'heaven', 6053: 'privacy', 6054: 'touches', 6055: 'dreamy', 6056: 'genius', 6057: 'warned', 6058: 'lenny:', 6059: 'habit', 6060: \"ladies'\", 6061: 'shill', 6062: 'handed', 6063: 'self', 6064: 'mither', 6065: 'juke', 6066: 'bon', 6067: 'forty-five', 6068: 'beached', 6069: 'supermodel', 6070: 'trustworthy', 6071: 'wait', 6072: 'poplar', 6073: 'longest', 6074: \"pickin'\", 6075: 'hostages', 6076: 'low-life', 6077: 'selling', 6078: 'product', 6079: 'edgy', 6080: 'thrilled', 6081: 'nards', 6082: 'pointing', 6083: 'unforgettable', 6084: \"family's\", 6085: 'eaten', 6086: 'traitor', 6087: 'chumbawamba', 6088: 'eighty-six', 6089: 'grave', 6090: 'very', 6091: 'kemi', 6092: 'stupidest', 6093: 'cartoons', 6094: 'haws', 6095: 'simplest', 6096: 'singers:', 6097: 'scientists', 6098: 'felt', 6099: 'private', 6100: 'presents', 6101: 'blade', 6102: 'andrew', 6103: 'designer', 6104: 'cares', 6105: 'laws', 6106: 'class', 6107: 'disaster', 6108: 'ends', 6109: 'leave', 6110: 'jasper_beardly:', 6111: 'doll', 6112: 'tv-station_announcer:', 6113: 'elaborate', 6114: 'prejudice', 6115: 'lowering', 6116: 'whatcha', 6117: 'guns', 6118: 'pernt', 6119: 'iddilies', 6120: 'reliable', 6121: 'nucular', 6122: 'philosophical', 6123: 'trust', 6124: 'alarm', 6125: 'emotion', 6126: 'lofty', 6127: 'gary:', 6128: 'bar-boy', 6129: \"man's\", 6130: 'boy', 6131: 'firing', 6132: 'bragging', 6133: 'lose', 6134: 'whoever', 6135: 'wuss', 6136: 'ziff', 6137: 'coherent', 6138: 'ons', 6139: 'further', 6140: 'hours', 6141: 'stir', 6142: 'chubby', 6143: 'haikus', 6144: 'glove', 6145: 'pants', 6146: \"g'night\", 6147: 'beyond', 6148: 'half', 6149: 'bart', 6150: 'mis-statement', 6151: 'fat', 6152: 'sobriety', 6153: 'nevada', 6154: 'lorre', 6155: 'england', 6156: 'jacks', 6157: 'apart', 6158: 'roz:', 6159: 'oddest', 6160: 'lookalike:', 6161: 'funds', 6162: 'actor', 6163: 'crank', 6164: \"moe's\", 6165: 'score', 6166: 'keep', 6167: 'offensive', 6168: \"seein'\", 6169: 'wild', 6170: 'renovations', 6171: 'brag', 6172: 'shoot', 6173: 'carey', 6174: \"you've\", 6175: 'sick', 6176: 'united', 6177: 'badmouth', 6178: 'truck_driver:', 6179: \"tryin'\", 6180: 'goodnight', 6181: 'rainier_wolfcastle:', 6182: 'twenty-four', 6183: 'nudge', 6184: 'dials', 6185: 'plenty', 6186: 'gotta', 6187: 'odd', 6188: 'regulars', 6189: 'stab', 6190: 'pocket', 6191: 'grudgingly', 6192: 'totalitarians', 6193: 'wash', 6194: '_zander:', 6195: 'sixty', 6196: 'same', 6197: 'espn', 6198: 'sticking-place', 6199: 'nasa', 6200: 'jeff', 6201: 'clearly', 6202: 'not', 6203: 'quotes', 6204: 'drollery', 6205: 'cab_driver:', 6206: 'fixed', 6207: 'pointed', 6208: 'quit', 6209: 'mugs', 6210: 'neighboreeno', 6211: 'agnes_skinner:', 6212: 'elect', 6213: 'measurements', 6214: 'saget', 6215: 'lifetime', 6216: 'tornado', 6217: 'poin-dexterous', 6218: 'employment', 6219: 'suspect', 6220: 'newest', 6221: 'friendship', 6222: 'inside', 6223: 'floated', 6224: 'decided', 6225: 'putting', 6226: 'shuts', 6227: 'inquiries', 6228: 'attractive_woman_#1:', 6229: 'playing', 6230: 'uglier', 6231: 'synthesize', 6232: 'room', 6233: 'bathed', 6234: 'steamed', 6235: 'contemplates', 6236: 'sneaky', 6237: 'town', 6238: 'unlike', 6239: 'sorry', 6240: 'notch', 6241: 'wrestle', 6242: 'dennis_conroy:', 6243: 'voodoo', 6244: 'wazoo', 6245: 'neon', 6246: 'shesh', 6247: 'frazier', 6248: 'rascals', 6249: 'belts', 6250: 'confused', 6251: 'simp-sonnnn', 6252: 'smiles', 6253: 'choked', 6254: 'cadillac', 6255: 'savings', 6256: 'grateful', 6257: 'eyeing', 6258: 'presumir', 6259: 'approval', 6260: 'market', 6261: 'shall', 6262: 'working', 6263: 'inning', 6264: 'one-hour', 6265: 'furiously', 6266: 'crunch', 6267: 'enlightened', 6268: 'forced', 6269: 'manipulation', 6270: 'beer:', 6271: 'catty', 6272: 'eat', 6273: 'island', 6274: 'blubberino', 6275: 'pfft', 6276: 'oh-so-sophisticated', 6277: 'about', 6278: 'gardens', 6279: 'sidekick', 6280: \"kids'\", 6281: 'adrift', 6282: 'unless', 6283: 'certain', 6284: 'mexican', 6285: 'mount', 6286: 'milhouse', 6287: 'quitcher', 6288: 'tv_wife:', 6289: 'dimly', 6290: 'gal', 6291: 'dress', 6292: 'support', 6293: 'foibles', 6294: 'eliminate', 6295: 'crime', 6296: 'thumb', 6297: 'remaining', 6298: 'proud', 6299: 'life:', 6300: 'threatening', 6301: 'multi-purpose', 6302: 'ball', 6303: 'sponge', 6304: 'furious', 6305: 'expensive', 6306: 'mccarthy', 6307: 'milhouses', 6308: 'wally:', 6309: 'tinkle', 6310: 'slot', 6311: 'strategy', 6312: 'familiar', 6313: 'right-handed', 6314: 'cute', 6315: 'tha', 6316: \"tony's\", 6317: 'fund', 6318: 'lance', 6319: 'chipped', 6320: 'irish', 6321: 'temper', 6322: 'reed', 6323: 'mafia', 6324: 'publish', 6325: 'trees', 6326: 'cletus_spuckler:', 6327: 'louder', 6328: 'both', 6329: 'unsanitary', 6330: \"monroe's\", 6331: 'theme', 6332: 'premise', 6333: 'appreciate', 6334: 'jerks', 6335: 'bliss', 6336: 'onion', 6337: 'spotting', 6338: 'ungrateful', 6339: 'now', 6340: 'stadium', 6341: 'barely', 6342: 'fortensky', 6343: 'vampires', 6344: 'long', 6345: 'seat', 6346: 'used', 6347: 'tries', 6348: 'conclusions', 6349: 'stored', 6350: 'lovejoy', 6351: '_timothy_lovejoy:', 6352: 'conference', 6353: 'wood', 6354: 'beady', 6355: \"sippin'\", 6356: 'meaningfully', 6357: 'oof', 6358: 'opportunity', 6359: 'lousy', 6360: 'judge_snyder:', 6361: 'adult_bart:', 6362: 'text', 6363: 'considering:', 6364: \"i'm-so-stupid\", 6365: 'heartless', 6366: 'considers', 6367: 'mom', 6368: 'spied', 6369: 'red', 6370: 'ideas', 6371: 'beats', 6372: 'unavailable', 6373: 'kool', 6374: 'recently', 6375: 'internet', 6376: 'dispenser', 6377: 'pudgy', 6378: 'wrapped', 6379: 'sass', 6380: 'enemies', 6381: 'rent', 6382: 'glen:', 6383: 'veteran', 6384: 'sec', 6385: 'trunk', 6386: 'english', 6387: 'food', 6388: 'crinkly', 6389: 'jewish', 6390: 'shaking', 6391: 'clearing', 6392: 'shaggy', 6393: 'punk', 6394: 'divine', 6395: 'commanding', 6396: 'difficult', 6397: 'springfield', 6398: 'david_byrne:', 6399: 'caricature', 6400: 'forever', 6401: 'dad', 6402: 'hoax', 6403: \"football's\", 6404: 'land', 6405: 'encore', 6406: 'involving', 6407: 'domed', 6408: 'dive', 6409: 'twins', 6410: 'ho-la', 6411: 'finish', 6412: 'lifestyle', 6413: 'ron_howard:', 6414: 'vodka', 6415: 'w-a-3-q-i-zed', 6416: \"messin'\", 6417: 'spit-backs', 6418: 'nigeria', 6419: 'principles', 6420: 'whiny', 6421: 'crayola', 6422: 'prettiest', 6423: 'laughing', 6424: 'every', 6425: 'ohh', 6426: 'expert', 6427: 'moe-ron', 6428: 'geyser', 6429: 'results', 6430: 'radio', 6431: 'compliments', 6432: 'frankie', 6433: 'result', 6434: 'vomit', 6435: \"liftin'\", 6436: 'window', 6437: 'oughtta', 6438: 'knock', 6439: \"'em\", 6440: 'stalin', 6441: 'rife', 6442: 'figure', 6443: 'africa', 6444: 'or', 6445: 'nigel_bakerbutcher:', 6446: \"tootin'\", 6447: 'afford', 6448: 'atlanta', 6449: 'closes', 6450: 'discuss', 6451: 'bedbugs', 6452: 'fonda', 6453: 'elephants', 6454: 'fustigation', 6455: 'washer', 6456: 'fast', 6457: 'even', 6458: 'amazing', 6459: 'walked', 6460: 'caholic', 6461: 'cecil', 6462: 'proposition', 6463: 'stagy', 6464: 'makes', 6465: 'ceremony', 6466: 'grampa', 6467: 'shreda', 6468: 'put', 6469: 'dammit', 6470: 'look', 6471: 'man_at_bar:', 6472: 'group', 6473: 'evil', 6474: 'arimasen', 6475: 'flophouse', 6476: 'cost', 6477: ':', 6478: 'that', 6479: 'insightful', 6480: 'training', 6481: 'studied', 6482: 'twice', 6483: 'gentleman:', 6484: 'giggle', 6485: 'creature', 6486: 'vote', 6487: 'peanut', 6488: 'online', 6489: 'politicians', 6490: \"wouldn't-a\", 6491: 'courts', 6492: 'vance', 6493: 'brainheaded', 6494: 'tease', 6495: 'poem', 6496: 'peabody', 6497: 'disguised', 6498: 'clown', 6499: 'incredulous', 6500: 'sweetest', 6501: 'jacques:', 6502: 'splash', 6503: 'startled', 6504: 'slugger', 6505: \"kiddin'\", 6506: 'sympathy', 6507: 'jimmy', 6508: 're-al', 6509: 'successful', 6510: 'aging', 6511: 'jerry', 6512: \"'evening\", 6513: 'discriminate', 6514: 'pain', 6515: 'oils', 6516: 'rafters', 6517: 'bowling', 6518: 'lurleen', 6519: \"drawin'\", 6520: 'ivory', 6521: 'sue', 6522: 'italian', 6523: 'kodos:', 6524: 'sinister', 6525: 'stern', 6526: 'rumor', 6527: 'competitive', 6528: 'tomahto', 6529: 'teriyaki', 6530: 'save', 6531: 'ho', 6532: 'coma', 6533: 'crowd', 6534: 'run', 6535: 'glitterati', 6536: 'send', 6537: \"murphy's\", 6538: 'eyesore', 6539: 'compared', 6540: 'flush-town', 6541: 'yoo', 6542: 'magic', 6543: 'businessman_#2:', 6544: 'super-tough', 6545: 'wade_boggs:', 6546: 'paying', 6547: 'terrorizing', 6548: 'tall', 6549: 'young_moe:', 6550: 'cheers', 6551: 'jewelry', 6552: 'using', 6553: 'cocks', 6554: \"someone's\", 6555: 'allegiance', 6556: 'reviews', 6557: 'football', 6558: 'whaddaya', 6559: 'call', 6560: 'available', 6561: 'souvenir', 6562: \"d'\", 6563: 's-a-u-r-c-e', 6564: 'karaoke_machine:', 6565: 'transylvania', 6566: \"g'ahead\", 6567: 'grey', 6568: 'sweater', 6569: 'reason', 6570: 'wrestling', 6571: 'round', 6572: 'stage', 6573: 'social', 6574: 'immiggants', 6575: 'lone', 6576: 'dizzy', 6577: \"now's\", 6578: 'hit', 6579: 'pad', 6580: 'helen', 6581: 'calendars', 6582: 'charged', 6583: 'bleacher', 6584: 'sugar-free', 6585: 'politics', 6586: 'on', 6587: 'owner', 6588: 'reality', 6589: 'jeter', 6590: 'bold', 6591: 'exchange', 6592: 'jeers', 6593: 'impressed', 6594: 'compare', 6595: 'may', 6596: 'clammy', 6597: 'enveloped', 6598: 'listened', 6599: 'yards', 6600: 'brightening', 6601: \"'your\", 6602: 'dutch', 6603: 'memories', 6604: 'french', 6605: 'outside', 6606: 'christopher', 6607: 'forget-me-drinks', 6608: 'permanent', 6609: 'nachos', 6610: 'blackjack', 6611: 'flaking', 6612: 'leftover', 6613: 'ruined', 6614: 'rich', 6615: 'excuses', 6616: 'made', 6617: 'illegal', 6618: 'tree_hoper:', 6619: 'anyway', 6620: 'badges', 6621: 'behind', 6622: 'so-called', 6623: 'started', 6624: 'thousands', 6625: 'hello', 6626: 'buddy', 6627: 'howya', 6628: 'ivanna', 6629: 'bugging', 6630: \"one's\", 6631: 'martini', 6632: 'upset', 6633: 'the_rich_texan:', 6634: 'uneasy', 6635: 'sets', 6636: 'model', 6637: \"eatin'\", 6638: 'iranian', 6639: 'koi', 6640: 'beach', 6641: 'hemoglobin', 6642: 'wagering', 6643: 'jacques', 6644: 'colonel:', 6645: 'deer', 6646: 'irishman', 6647: 'wells', 6648: 'shot', 6649: \"what'sa\", 6650: 'eve', 6651: 'mad', 6652: 'sale', 6653: 'somehow', 6654: 'helping', 6655: 'squishee', 6656: 'carney', 6657: 'reactions', 6658: 'generous', 6659: 'in-in-in', 6660: 'scout', 6661: 'average', 6662: 'morlocks', 6663: 'ginger', 6664: 'loboto-moth', 6665: 'notices', 6666: 'mistake', 6667: 'cell', 6668: 'divorced', 6669: 'i', 6670: 'west', 6671: 'squabbled', 6672: 'lobster', 6673: 'borrow', 6674: 'malibu', 6675: 'microwave', 6676: 'muslim', 6677: 'santa', 6678: 'takeaway', 6679: 'anyone', 6680: 'informant', 6681: 'polenta', 6682: 'saucy', 6683: 'wienerschnitzel', 6684: 'doreen', 6685: 'nailed', 6686: 'boxer:', 6687: 'profiling', 6688: 'throat', 6689: 'terrified', 6690: 'drop', 6691: 'spread', 6692: 'beans', 6693: 'jack_larson:', 6694: 'leaving', 6695: 'and', 6696: 'world-class', 6697: 'patient', 6698: 'teenage_barney:', 6699: 'represent', 6700: 'cleaner', 6701: 'bag', 6702: 'flashbacks', 6703: 'higher', 6704: 'frink', 6705: \"askin'\", 6706: 'loneliness', 6707: 'statistician', 6708: 'lady', 6709: 'sigh', 6710: 'citizens', 6711: \"barney's\", 6712: 'gibson', 6713: 'juan', 6714: 'assassination', 6715: 'devils:', 6716: 'guilt', 6717: 'peter_buck:', 6718: 'served', 6719: 'curse', 6720: 'mmmm', 6721: 'cleaning', 6722: 'pardon', 6723: \"children's\", 6724: 'wants', 6725: 'flash', 6726: 'wh', 6727: 'legally', 6728: 'band', 6729: 'napkins', 6730: 'dealie', 6731: 'boneheaded', 6732: 'betty:', 6733: 'hoo', 6734: 'fans', 6735: 'uses', 6736: 'partner', 6737: '|question_mark|', 6738: 'devastated', 6739: 'characteristic', 6740: 'humiliation', 6741: 'al_gore:', 6742: 'doof', 6743: 'launch', 6744: 'solid', 6745: 'dramatic', 6746: 'genuinely', 6747: 'syrup', 6748: 'nerd', 6749: 'best', 6750: 'sedaris', 6751: 'choked-up', 6752: 'endorse', 6753: 'guinea', 6754: 'homer', 6755: 'signed', 6756: 'college', 6757: 'dealt', 6758: 'tragedy', 6759: 'bluff', 6760: 'grammy', 6761: 'cop', 6762: 'henry', 6763: 'add', 6764: 'break-up', 6765: 'guard', 6766: 'b-day', 6767: 'products', 6768: 'lindsay', 6769: 'cavern', 6770: 'nose', 6771: \"brockman's\", 6772: 'choking', 6773: 'patterns', 6774: 'disco', 6775: 'soot', 6776: 'democrats', 6777: 'oopsie', 6778: 'novelty'}\n"
     ]
    }
   ],
   "source": [
    "\"\"\"\n",
    "DON'T MODIFY ANYTHING IN THIS CELL\n",
    "\"\"\"\n",
    "# Preprocess Training, Validation, and Testing Data\n",
    "helper.preprocess_and_save_data(data_dir, token_lookup, create_lookup_tables)"
   ]
  },
  {
   "cell_type": "markdown",
   "metadata": {
    "colab_type": "text",
    "id": "2AiUQydAyG2m"
   },
   "source": [
    "# Check Point\n",
    "This is your first checkpoint. If you ever decide to come back to this notebook or have to restart the notebook, you can start from here. The preprocessed data has been saved to disk."
   ]
  },
  {
   "cell_type": "code",
   "execution_count": 18,
   "metadata": {
    "colab": {
     "autoexec": {
      "startup": false,
      "wait_interval": 0
     }
    },
    "colab_type": "code",
    "id": "kFi-lRrgyG2r"
   },
   "outputs": [],
   "source": [
    "\"\"\"\n",
    "DON'T MODIFY ANYTHING IN THIS CELL\n",
    "\"\"\"\n",
    "import helper\n",
    "import numpy as np\n",
    "import problem_unittests as tests\n",
    "\n",
    "int_text, vocab_to_int, int_to_vocab, token_dict = helper.load_preprocess()"
   ]
  },
  {
   "cell_type": "markdown",
   "metadata": {
    "colab_type": "text",
    "id": "dZ4H2IPUyG22"
   },
   "source": [
    "## Build the Neural Network\n",
    "You'll build the components necessary to build a RNN by implementing the following functions below:\n",
    "- get_inputs\n",
    "- get_init_cell\n",
    "- get_embed\n",
    "- build_rnn\n",
    "- build_nn\n",
    "- get_batches\n",
    "\n",
    "### Check the Version of TensorFlow and Access to GPU"
   ]
  },
  {
   "cell_type": "code",
   "execution_count": 19,
   "metadata": {
    "colab": {
     "autoexec": {
      "startup": false,
      "wait_interval": 0
     },
     "base_uri": "https://localhost:8080/",
     "height": 51
    },
    "colab_type": "code",
    "executionInfo": {
     "elapsed": 1044,
     "status": "ok",
     "timestamp": 1533831074629,
     "user": {
      "displayName": "Survesh Chauhan",
      "photoUrl": "//lh6.googleusercontent.com/-F6W-jg0U-Gs/AAAAAAAAAAI/AAAAAAAAAas/KgPXbC169F0/s50-c-k-no/photo.jpg",
      "userId": "117080553420494811795"
     },
     "user_tz": -330
    },
    "id": "jw-XAYX0yG26",
    "outputId": "e4633dae-6b16-4f9b-a78f-c2e8720e1655"
   },
   "outputs": [
    {
     "name": "stdout",
     "output_type": "stream",
     "text": [
      "TensorFlow Version: 1.3.0\n",
      "Default GPU Device: /gpu:0\n"
     ]
    }
   ],
   "source": [
    "\"\"\"\n",
    "DON'T MODIFY ANYTHING IN THIS CELL\n",
    "\"\"\"\n",
    "from distutils.version import LooseVersion\n",
    "import warnings\n",
    "import tensorflow as tf\n",
    "\n",
    "# Check TensorFlow Version\n",
    "assert LooseVersion(tf.__version__) >= LooseVersion('1.3'), 'Please use TensorFlow version 1.3 or newer'\n",
    "print('TensorFlow Version: {}'.format(tf.__version__))\n",
    "\n",
    "# Check for a GPU\n",
    "if not tf.test.gpu_device_name():\n",
    "    warnings.warn('No GPU found. Please use a GPU to train your neural network.')\n",
    "else:\n",
    "    print('Default GPU Device: {}'.format(tf.test.gpu_device_name()))"
   ]
  },
  {
   "cell_type": "markdown",
   "metadata": {
    "colab_type": "text",
    "id": "2Ryl5_U7yG3J"
   },
   "source": [
    "### Input\n",
    "Implement the `get_inputs()` function to create TF Placeholders for the Neural Network.  It should create the following placeholders:\n",
    "- Input text placeholder named \"input\" using the [TF Placeholder](https://www.tensorflow.org/api_docs/python/tf/placeholder) `name` parameter.\n",
    "- Targets placeholder\n",
    "- Learning Rate placeholder\n",
    "\n",
    "Return the placeholders in the following tuple `(Input, Targets, LearningRate)`"
   ]
  },
  {
   "cell_type": "code",
   "execution_count": 20,
   "metadata": {
    "colab": {
     "autoexec": {
      "startup": false,
      "wait_interval": 0
     },
     "base_uri": "https://localhost:8080/",
     "height": 34
    },
    "colab_type": "code",
    "executionInfo": {
     "elapsed": 952,
     "status": "ok",
     "timestamp": 1533831075843,
     "user": {
      "displayName": "Survesh Chauhan",
      "photoUrl": "//lh6.googleusercontent.com/-F6W-jg0U-Gs/AAAAAAAAAAI/AAAAAAAAAas/KgPXbC169F0/s50-c-k-no/photo.jpg",
      "userId": "117080553420494811795"
     },
     "user_tz": -330
    },
    "id": "2HOo1w69yG3N",
    "outputId": "d0fce7ac-e133-4968-f289-189bd4284a06"
   },
   "outputs": [
    {
     "name": "stdout",
     "output_type": "stream",
     "text": [
      "Tests Passed\n"
     ]
    }
   ],
   "source": [
    "def get_inputs():\n",
    "    \"\"\"\n",
    "    Create TF Placeholders for input, targets, and learning rate.\n",
    "    :return: Tuple (input, targets, learning rate)\n",
    "    \"\"\"\n",
    "    # TODO: Implement Function\n",
    "    inputs   = tf.placeholder(tf.int32, shape=[None,None], name='input')\n",
    "    targets = tf.placeholder(tf.int32, shape=[None,None], name='targets')\n",
    "    learning_rate = tf.placeholder(tf.float32,name='learning_rate')\n",
    "    return inputs, targets, learning_rate\n",
    "\n",
    "\n",
    "\"\"\"\n",
    "DON'T MODIFY ANYTHING IN THIS CELL THAT IS BELOW THIS LINE\n",
    "\"\"\"\n",
    "tests.test_get_inputs(get_inputs)"
   ]
  },
  {
   "cell_type": "markdown",
   "metadata": {
    "colab_type": "text",
    "id": "Bd13Mu5_yG3j"
   },
   "source": [
    "### Build RNN Cell and Initialize\n",
    "Stack one or more [`BasicLSTMCells`](https://www.tensorflow.org/api_docs/python/tf/contrib/rnn/BasicLSTMCell) in a [`MultiRNNCell`](https://www.tensorflow.org/api_docs/python/tf/contrib/rnn/MultiRNNCell).\n",
    "- The Rnn size should be set using `rnn_size`\n",
    "- Initalize Cell State using the MultiRNNCell's [`zero_state()`](https://www.tensorflow.org/api_docs/python/tf/contrib/rnn/MultiRNNCell#zero_state) function\n",
    "    - Apply the name \"initial_state\" to the initial state using [`tf.identity()`](https://www.tensorflow.org/api_docs/python/tf/identity)\n",
    "\n",
    "Return the cell and initial state in the following tuple `(Cell, InitialState)`"
   ]
  },
  {
   "cell_type": "code",
   "execution_count": 21,
   "metadata": {
    "colab": {
     "autoexec": {
      "startup": false,
      "wait_interval": 0
     },
     "base_uri": "https://localhost:8080/",
     "height": 34
    },
    "colab_type": "code",
    "executionInfo": {
     "elapsed": 1069,
     "status": "ok",
     "timestamp": 1533831077263,
     "user": {
      "displayName": "Survesh Chauhan",
      "photoUrl": "//lh6.googleusercontent.com/-F6W-jg0U-Gs/AAAAAAAAAAI/AAAAAAAAAas/KgPXbC169F0/s50-c-k-no/photo.jpg",
      "userId": "117080553420494811795"
     },
     "user_tz": -330
    },
    "id": "Kblb4xMryG3o",
    "outputId": "1441fc07-d9fd-41d6-f5fe-59dfa0c52439"
   },
   "outputs": [
    {
     "name": "stdout",
     "output_type": "stream",
     "text": [
      "Tests Passed\n"
     ]
    }
   ],
   "source": [
    "def get_init_cell(batch_size, rnn_size):\n",
    "    \"\"\"\n",
    "    Create an RNN Cell and initialize it.\n",
    "    :param batch_size: Size of batches\n",
    "    :param rnn_size: Size of RNNs\n",
    "    :return: Tuple (cell, initialize state)\n",
    "    \"\"\"\n",
    "    # TODO: Implement Function\n",
    "    lstm = tf.contrib.rnn.BasicLSTMCell(rnn_size)\n",
    "    cell = tf.contrib.rnn.MultiRNNCell([lstm]) # changed ([lstm]*lstm_layers) to ([lstm])\n",
    "    initial_state = cell.zero_state(batch_size, tf.float32)\n",
    "    initial_state=tf.identity(initial_state,\"initial_state\")\n",
    "    '''\n",
    "    def build_cell(rnn_size):\n",
    "        return tf.contrib.rnn.BasicLSTMCell(rnn_size)\n",
    "    cell = tf.contrib.rnn.MultiRNNCell([build_cell(rnn_size) for _ in range(2)])\n",
    "    \n",
    "    zero_state = cell.zero_state(batch_size, tf.float32)\n",
    "    initial_state = tf.identity(zero_state, name='initial_state')\n",
    "    '''\n",
    "    return cell, initial_state\n",
    "\n",
    "\n",
    "\"\"\"\n",
    "DON'T MODIFY ANYTHING IN THIS CELL THAT IS BELOW THIS LINE\n",
    "\"\"\"\n",
    "tests.test_get_init_cell(get_init_cell)"
   ]
  },
  {
   "cell_type": "markdown",
   "metadata": {
    "colab_type": "text",
    "id": "_SRsoT7ZyG34"
   },
   "source": [
    "### Word Embedding\n",
    "Apply embedding to `input_data` using TensorFlow.  Return the embedded sequence."
   ]
  },
  {
   "cell_type": "code",
   "execution_count": 22,
   "metadata": {
    "colab": {
     "autoexec": {
      "startup": false,
      "wait_interval": 0
     },
     "base_uri": "https://localhost:8080/",
     "height": 34
    },
    "colab_type": "code",
    "executionInfo": {
     "elapsed": 987,
     "status": "ok",
     "timestamp": 1533831079129,
     "user": {
      "displayName": "Survesh Chauhan",
      "photoUrl": "//lh6.googleusercontent.com/-F6W-jg0U-Gs/AAAAAAAAAAI/AAAAAAAAAas/KgPXbC169F0/s50-c-k-no/photo.jpg",
      "userId": "117080553420494811795"
     },
     "user_tz": -330
    },
    "id": "-KvgWM3MyG37",
    "outputId": "15dbc5f8-b492-4589-8e0b-a92f2db91fb6"
   },
   "outputs": [
    {
     "name": "stdout",
     "output_type": "stream",
     "text": [
      "Tests Passed\n"
     ]
    }
   ],
   "source": [
    "def get_embed(input_data, vocab_size, embed_dim):\n",
    "    \"\"\"\n",
    "    Create embedding for <input_data>.\n",
    "    :param input_data: TF placeholder for text input.\n",
    "    :param vocab_size: Number of words in vocabulary.\n",
    "    :param embed_dim: Number of embedding dimensions\n",
    "    :return: Embedded input.\n",
    "    \"\"\"\n",
    "    # TODO: Implement Function\n",
    "    embedding = tf.Variable(tf.random_uniform((vocab_size, embed_dim), -1, 1))\n",
    "    embed = tf.nn.embedding_lookup(embedding, input_data)\n",
    "    return embed\n",
    "\n",
    "\n",
    "\"\"\"\n",
    "DON'T MODIFY ANYTHING IN THIS CELL THAT IS BELOW THIS LINE\n",
    "\"\"\"\n",
    "tests.test_get_embed(get_embed)"
   ]
  },
  {
   "cell_type": "markdown",
   "metadata": {
    "colab_type": "text",
    "id": "spBRRLu7yG4N"
   },
   "source": [
    "### Build RNN\n",
    "You created a RNN Cell in the `get_init_cell()` function.  Time to use the cell to create a RNN.\n",
    "- Build the RNN using the [`tf.nn.dynamic_rnn()`](https://www.tensorflow.org/api_docs/python/tf/nn/dynamic_rnn)\n",
    " - Apply the name \"final_state\" to the final state using [`tf.identity()`](https://www.tensorflow.org/api_docs/python/tf/identity)\n",
    "\n",
    "Return the outputs and final_state state in the following tuple `(Outputs, FinalState)` "
   ]
  },
  {
   "cell_type": "code",
   "execution_count": 23,
   "metadata": {
    "colab": {
     "autoexec": {
      "startup": false,
      "wait_interval": 0
     },
     "base_uri": "https://localhost:8080/",
     "height": 34
    },
    "colab_type": "code",
    "executionInfo": {
     "elapsed": 1388,
     "status": "ok",
     "timestamp": 1533831080768,
     "user": {
      "displayName": "Survesh Chauhan",
      "photoUrl": "//lh6.googleusercontent.com/-F6W-jg0U-Gs/AAAAAAAAAAI/AAAAAAAAAas/KgPXbC169F0/s50-c-k-no/photo.jpg",
      "userId": "117080553420494811795"
     },
     "user_tz": -330
    },
    "id": "iDe8nLDByG4R",
    "outputId": "e96466ce-9ac7-4038-b142-cdd97af31793"
   },
   "outputs": [
    {
     "name": "stdout",
     "output_type": "stream",
     "text": [
      "Tests Passed\n"
     ]
    }
   ],
   "source": [
    "def build_rnn(cell, inputs):\n",
    "    \"\"\"\n",
    "    Create a RNN using a RNN Cell\n",
    "    :param cell: RNN Cell\n",
    "    :param inputs: Input text data\n",
    "    :return: Tuple (Outputs, Final State)\n",
    "    \"\"\"\n",
    "    # TODO: Implement Function\n",
    "    outputs, final_state = tf.nn.dynamic_rnn(cell, inputs,dtype=tf.float32) \n",
    "    final_state = tf.identity(final_state,'final_state')\n",
    "    return outputs, final_state\n",
    "\n",
    "\n",
    "\"\"\"\n",
    "DON'T MODIFY ANYTHING IN THIS CELL THAT IS BELOW THIS LINE\n",
    "\"\"\"\n",
    "tests.test_build_rnn(build_rnn)"
   ]
  },
  {
   "cell_type": "markdown",
   "metadata": {
    "colab_type": "text",
    "id": "XXMbT-6ZyG4i"
   },
   "source": [
    "### Build the Neural Network\n",
    "Apply the functions you implemented above to:\n",
    "- Apply embedding to `input_data` using your `get_embed(input_data, vocab_size, embed_dim)` function.\n",
    "- Build RNN using `cell` and your `build_rnn(cell, inputs)` function.\n",
    "- Apply a fully connected layer with a linear activation and `vocab_size` as the number of outputs.\n",
    "\n",
    "Return the logits and final state in the following tuple (Logits, FinalState) "
   ]
  },
  {
   "cell_type": "code",
   "execution_count": 25,
   "metadata": {
    "colab": {
     "autoexec": {
      "startup": false,
      "wait_interval": 0
     },
     "base_uri": "https://localhost:8080/",
     "height": 34
    },
    "colab_type": "code",
    "executionInfo": {
     "elapsed": 1392,
     "status": "ok",
     "timestamp": 1533831082530,
     "user": {
      "displayName": "Survesh Chauhan",
      "photoUrl": "//lh6.googleusercontent.com/-F6W-jg0U-Gs/AAAAAAAAAAI/AAAAAAAAAas/KgPXbC169F0/s50-c-k-no/photo.jpg",
      "userId": "117080553420494811795"
     },
     "user_tz": -330
    },
    "id": "nhozMfWMyG4l",
    "outputId": "db877fb3-2074-4e4a-edb5-3a64d74641f1"
   },
   "outputs": [
    {
     "name": "stdout",
     "output_type": "stream",
     "text": [
      "Tests Passed\n"
     ]
    }
   ],
   "source": [
    "def build_nn(cell, rnn_size, input_data, vocab_size, embed_dim):\n",
    "    \"\"\"\n",
    "    Build part of the neural network\n",
    "    :param cell: RNN cell\n",
    "    :param rnn_size: Size of rnns\n",
    "    :param input_data: Input data\n",
    "    :param vocab_size: Vocabulary size\n",
    "    :param embed_dim: Number of embedding dimensions\n",
    "    :return: Tuple (Logits, FinalState)\n",
    "    \"\"\"\n",
    "    # TODO: Implement Function\n",
    "    embed = get_embed(input_data, vocab_size, embed_dim)\n",
    "    outputs, final_state = build_rnn(cell, embed)\n",
    "    logits = tf.contrib.layers.fully_connected(outputs, vocab_size,activation_fn=None) # Now not using default Relu activation function\n",
    "    \n",
    "    return logits, final_state\n",
    "\n",
    "\"\"\"\n",
    "DON'T MODIFY ANYTHING IN THIS CELL THAT IS BELOW THIS LINE\n",
    "\"\"\"\n",
    "tests.test_build_nn(build_nn)"
   ]
  },
  {
   "cell_type": "markdown",
   "metadata": {
    "colab_type": "text",
    "id": "Cw3MsH2WyG46"
   },
   "source": [
    "### Batches\n",
    "Implement `get_batches` to create batches of input and targets using `int_text`.  The batches should be a Numpy array with the shape `(number of batches, 2, batch size, sequence length)`. Each batch contains two elements:\n",
    "- The first element is a single batch of **input** with the shape `[batch size, sequence length]`\n",
    "- The second element is a single batch of **targets** with the shape `[batch size, sequence length]`\n",
    "\n",
    "If you can't fill the last batch with enough data, drop the last batch.\n",
    "\n",
    "For example, `get_batches([1, 2, 3, 4, 5, 6, 7, 8, 9, 10, 11, 12, 13, 14, 15, 16, 17, 18, 19, 20], 3, 2)` would return a Numpy array of the following:\n",
    "```\n",
    "[\n",
    "  # First Batch\n",
    "  [\n",
    "    # Batch of Input\n",
    "    [[ 1  2], [ 7  8], [13 14]]\n",
    "    # Batch of targets\n",
    "    [[ 2  3], [ 8  9], [14 15]]\n",
    "  ]\n",
    "\n",
    "  # Second Batch\n",
    "  [\n",
    "    # Batch of Input\n",
    "    [[ 3  4], [ 9 10], [15 16]]\n",
    "    # Batch of targets\n",
    "    [[ 4  5], [10 11], [16 17]]\n",
    "  ]\n",
    "\n",
    "  # Third Batch\n",
    "  [\n",
    "    # Batch of Input\n",
    "    [[ 5  6], [11 12], [17 18]]\n",
    "    # Batch of targets\n",
    "    [[ 6  7], [12 13], [18  1]]\n",
    "  ]\n",
    "]\n",
    "```\n",
    "\n",
    "Notice that the last target value in the last batch is the first input value of the first batch. In this case, `1`. This is a common technique used when creating sequence batches, although it is rather unintuitive."
   ]
  },
  {
   "cell_type": "code",
   "execution_count": 27,
   "metadata": {
    "colab": {
     "autoexec": {
      "startup": false,
      "wait_interval": 0
     },
     "base_uri": "https://localhost:8080/",
     "height": 527
    },
    "colab_type": "code",
    "executionInfo": {
     "elapsed": 979,
     "status": "ok",
     "timestamp": 1533831083787,
     "user": {
      "displayName": "Survesh Chauhan",
      "photoUrl": "//lh6.googleusercontent.com/-F6W-jg0U-Gs/AAAAAAAAAAI/AAAAAAAAAas/KgPXbC169F0/s50-c-k-no/photo.jpg",
      "userId": "117080553420494811795"
     },
     "user_tz": -330
    },
    "id": "jeZZswOTyG5A",
    "outputId": "e108c6cb-e0eb-43df-f7be-cf775ad9d77e"
   },
   "outputs": [
    {
     "name": "stdout",
     "output_type": "stream",
     "text": [
      "# Batches:  7\n",
      "len int_text:  4480\n",
      "Tests Passed\n"
     ]
    }
   ],
   "source": [
    "def get_batches(int_text, batch_size, seq_length):\n",
    "    \"\"\"\n",
    "    Return batches of input and target\n",
    "    :param int_text: Text with the words replaced by their ids\n",
    "    :param batch_size: The size of batch\n",
    "    :param seq_length: The length of sequence\n",
    "    :return: Batches as a Numpy array\n",
    "    \"\"\"\n",
    "    # TODO: Implement Function\n",
    "    number_of_batches = len(int_text) // (batch_size*seq_length)\n",
    "    int_text = list(int_text[:batch_size * seq_length * number_of_batches])\n",
    "    batches = np.zeros([number_of_batches,2,batch_size,seq_length])\n",
    "    \n",
    "    for feature_count, idx1 in enumerate(range(0, len(int_text),len(int_text)//batch_size )):\n",
    "        for batch_count, idx2 in enumerate(range(0, len(int_text) // batch_size, seq_length)):\n",
    "            batches[batch_count][0][feature_count] = int_text[idx1+idx2 : idx1+idx2+seq_length]\n",
    "            \n",
    "            if idx1+idx2+seq_length <= len(int_text)-1:\n",
    "                batches[batch_count][1][feature_count] = int_text[idx1+idx2+1 : idx1+idx2+seq_length+1]\n",
    "            else:\n",
    "                batches[batch_count][1][feature_count] = np.append(int_text[-seq_length+1:],int_text[0])\n",
    "    print('# Batches: ',number_of_batches)\n",
    "    print('len int_text: ',len(int_text))\n",
    "    return batches.astype(int)\n",
    "\n",
    "\n",
    "\"\"\" \n",
    "DON'T MODIFY ANYTHING IN THIS CELL THAT IS BELOW THIS LINE\n",
    "\"\"\"\n",
    "tests.test_get_batches(get_batches)"
   ]
  },
  {
   "cell_type": "markdown",
   "metadata": {
    "colab_type": "text",
    "id": "nn1fml73yG5Y"
   },
   "source": [
    "## Neural Network Training\n",
    "### Hyperparameters\n",
    "Tune the following parameters:\n",
    "\n",
    "- Set `num_epochs` to the number of epochs.\n",
    "- Set `batch_size` to the batch size.\n",
    "- Set `rnn_size` to the size of the RNNs.\n",
    "- Set `embed_dim` to the size of the embedding.\n",
    "- Set `seq_length` to the length of sequence.\n",
    "- Set `learning_rate` to the learning rate.\n",
    "- Set `show_every_n_batches` to the number of batches the neural network should print progress."
   ]
  },
  {
   "cell_type": "code",
   "execution_count": 49,
   "metadata": {
    "colab": {
     "autoexec": {
      "startup": false,
      "wait_interval": 0
     }
    },
    "colab_type": "code",
    "id": "jXGVrqQCyG5d"
   },
   "outputs": [],
   "source": [
    "# Number of Epochs\n",
    "num_epochs = 60\n",
    "\n",
    "# Batch Size\n",
    "batch_size = 256 #use 128 or 256\n",
    "\n",
    "# RNN Size\n",
    "rnn_size = 512 #use 512\n",
    "\n",
    "# Embedding Dimension Size\n",
    "embed_dim = 300 #use 200 to 300\n",
    "\n",
    "# Sequence Length\n",
    "seq_length = 10\n",
    "\n",
    "# Learning Rate\n",
    "learning_rate = 0.01 #0.5 is too fast, ideal is 0.1\n",
    "\n",
    "# Show stats for every n number of batches\n",
    "show_every_n_batches = 156\n",
    "\n",
    "\"\"\"\n",
    "DON'T MODIFY ANYTHING IN THIS CELL THAT IS BELOW THIS LINE\n",
    "\"\"\"\n",
    "save_dir = './save'"
   ]
  },
  {
   "cell_type": "markdown",
   "metadata": {
    "colab_type": "text",
    "id": "6JgcEKQAyG5p"
   },
   "source": [
    "### Build the Graph\n",
    "Build the graph using the neural network you implemented."
   ]
  },
  {
   "cell_type": "code",
   "execution_count": 50,
   "metadata": {
    "colab": {
     "autoexec": {
      "startup": false,
      "wait_interval": 0
     }
    },
    "colab_type": "code",
    "id": "yMhL2iXRyG5u"
   },
   "outputs": [],
   "source": [
    "\"\"\"\n",
    "DON'T MODIFY ANYTHING IN THIS CELL\n",
    "\"\"\"\n",
    "from tensorflow.contrib import seq2seq\n",
    "\n",
    "train_graph = tf.Graph()\n",
    "with train_graph.as_default():\n",
    "    vocab_size = len(int_to_vocab)\n",
    "    input_text, targets, lr = get_inputs()\n",
    "    input_data_shape = tf.shape(input_text)\n",
    "    cell, initial_state = get_init_cell(input_data_shape[0], rnn_size)\n",
    "    logits, final_state = build_nn(cell, rnn_size, input_text, vocab_size, embed_dim)\n",
    "\n",
    "    # Probabilities for generating words\n",
    "    probs = tf.nn.softmax(logits, name='probs')\n",
    "\n",
    "    # Loss function\n",
    "    cost = seq2seq.sequence_loss(\n",
    "        logits,\n",
    "        targets,\n",
    "        tf.ones([input_data_shape[0], input_data_shape[1]]))\n",
    "\n",
    "    # Optimizer\n",
    "    optimizer = tf.train.AdamOptimizer(lr)\n",
    "\n",
    "    # Gradient Clipping\n",
    "    gradients = optimizer.compute_gradients(cost)\n",
    "    capped_gradients = [(tf.clip_by_value(grad, -1., 1.), var) for grad, var in gradients if grad is not None]\n",
    "    train_op = optimizer.apply_gradients(capped_gradients)"
   ]
  },
  {
   "cell_type": "markdown",
   "metadata": {
    "colab_type": "text",
    "id": "QAQTawMvyG57"
   },
   "source": [
    "## Train\n",
    "Train the neural network on the preprocessed data.  If you have a hard time getting a good loss, check the [forums](https://discussions.udacity.com/) to see if anyone is having the same problem."
   ]
  },
  {
   "cell_type": "code",
   "execution_count": 51,
   "metadata": {
    "colab": {
     "autoexec": {
      "startup": false,
      "wait_interval": 0
     },
     "base_uri": "https://localhost:8080/",
     "height": 170
    },
    "colab_type": "code",
    "executionInfo": {
     "elapsed": 105426,
     "status": "ok",
     "timestamp": 1533831193304,
     "user": {
      "displayName": "Survesh Chauhan",
      "photoUrl": "//lh6.googleusercontent.com/-F6W-jg0U-Gs/AAAAAAAAAAI/AAAAAAAAAas/KgPXbC169F0/s50-c-k-no/photo.jpg",
      "userId": "117080553420494811795"
     },
     "user_tz": -330
    },
    "id": "ujZlc1shyG5-",
    "outputId": "660c3295-e726-4342-ca4c-f53bb5882de4"
   },
   "outputs": [
    {
     "name": "stdout",
     "output_type": "stream",
     "text": [
      "# Batches:  26\n",
      "len int_text:  66560\n",
      "Epoch   0 Batch    0/26   train_loss = 8.822\n",
      "Epoch   6 Batch    0/26   train_loss = 2.586\n",
      "Epoch  12 Batch    0/26   train_loss = 1.036\n",
      "Epoch  18 Batch    0/26   train_loss = 0.512\n",
      "Epoch  24 Batch    0/26   train_loss = 0.383\n",
      "Epoch  30 Batch    0/26   train_loss = 0.364\n",
      "Epoch  36 Batch    0/26   train_loss = 0.358\n",
      "Epoch  42 Batch    0/26   train_loss = 0.354\n",
      "Epoch  48 Batch    0/26   train_loss = 0.352\n",
      "Epoch  54 Batch    0/26   train_loss = 0.350\n",
      "Model Trained and Saved\n"
     ]
    }
   ],
   "source": [
    "\"\"\"\n",
    "DON'T MODIFY ANYTHING IN THIS CELL\n",
    "\"\"\"\n",
    "batches = get_batches(int_text, batch_size, seq_length)\n",
    "\n",
    "with tf.Session(graph=train_graph) as sess:\n",
    "    sess.run(tf.global_variables_initializer())\n",
    "\n",
    "    for epoch_i in range(num_epochs):\n",
    "        state = sess.run(initial_state, {input_text: batches[0][0]})\n",
    "\n",
    "        for batch_i, (x, y) in enumerate(batches):\n",
    "            feed = {\n",
    "                input_text: x,\n",
    "                targets: y,\n",
    "                initial_state: state,\n",
    "                lr: learning_rate}\n",
    "            train_loss, state, _ = sess.run([cost, final_state, train_op], feed)\n",
    "\n",
    "            # Show every <show_every_n_batches> batches\n",
    "            if (epoch_i * len(batches) + batch_i) % show_every_n_batches == 0:\n",
    "                print('Epoch {:>3} Batch {:>4}/{}   train_loss = {:.3f}'.format(\n",
    "                    epoch_i,\n",
    "                    batch_i,\n",
    "                    len(batches),\n",
    "                    train_loss))\n",
    "\n",
    "    # Save Model\n",
    "    saver = tf.train.Saver()\n",
    "    saver.save(sess, save_dir)\n",
    "    print('Model Trained and Saved')"
   ]
  },
  {
   "cell_type": "markdown",
   "metadata": {
    "colab_type": "text",
    "id": "dRgP6ctvyG6I"
   },
   "source": [
    "## Save Parameters\n",
    "Save `seq_length` and `save_dir` for generating a new TV script."
   ]
  },
  {
   "cell_type": "code",
   "execution_count": 52,
   "metadata": {
    "colab": {
     "autoexec": {
      "startup": false,
      "wait_interval": 0
     }
    },
    "colab_type": "code",
    "id": "_0C8p2ltyG6K"
   },
   "outputs": [],
   "source": [
    "\"\"\"\n",
    "DON'T MODIFY ANYTHING IN THIS CELL\n",
    "\"\"\"\n",
    "# Save parameters for checkpoint\n",
    "helper.save_params((seq_length, save_dir))"
   ]
  },
  {
   "cell_type": "markdown",
   "metadata": {
    "colab_type": "text",
    "id": "dnfUbe50yG6R"
   },
   "source": [
    "# Checkpoint"
   ]
  },
  {
   "cell_type": "code",
   "execution_count": 53,
   "metadata": {
    "colab": {
     "autoexec": {
      "startup": false,
      "wait_interval": 0
     }
    },
    "colab_type": "code",
    "id": "NnwXIbIqyG6T"
   },
   "outputs": [],
   "source": [
    "\"\"\"\n",
    "DON'T MODIFY ANYTHING IN THIS CELL\n",
    "\"\"\"\n",
    "import tensorflow as tf\n",
    "import numpy as np\n",
    "import helper\n",
    "import problem_unittests as tests\n",
    "\n",
    "_, vocab_to_int, int_to_vocab, token_dict = helper.load_preprocess()\n",
    "seq_length, load_dir = helper.load_params()"
   ]
  },
  {
   "cell_type": "markdown",
   "metadata": {
    "colab_type": "text",
    "id": "i9KKIcrryG6f"
   },
   "source": [
    "## Implement Generate Functions\n",
    "### Get Tensors\n",
    "Get tensors from `loaded_graph` using the function [`get_tensor_by_name()`](https://www.tensorflow.org/api_docs/python/tf/Graph#get_tensor_by_name).  Get the tensors using the following names:\n",
    "- \"input:0\"\n",
    "- \"initial_state:0\"\n",
    "- \"final_state:0\"\n",
    "- \"probs:0\"\n",
    "\n",
    "Return the tensors in the following tuple `(InputTensor, InitialStateTensor, FinalStateTensor, ProbsTensor)` "
   ]
  },
  {
   "cell_type": "code",
   "execution_count": 54,
   "metadata": {
    "colab": {
     "autoexec": {
      "startup": false,
      "wait_interval": 0
     },
     "base_uri": "https://localhost:8080/",
     "height": 34
    },
    "colab_type": "code",
    "executionInfo": {
     "elapsed": 1339,
     "status": "ok",
     "timestamp": 1533831255780,
     "user": {
      "displayName": "Survesh Chauhan",
      "photoUrl": "//lh6.googleusercontent.com/-F6W-jg0U-Gs/AAAAAAAAAAI/AAAAAAAAAas/KgPXbC169F0/s50-c-k-no/photo.jpg",
      "userId": "117080553420494811795"
     },
     "user_tz": -330
    },
    "id": "IOQKNtkuyG6h",
    "outputId": "d0dcb8b8-cab1-49dc-d250-bc7cfb61308f"
   },
   "outputs": [
    {
     "name": "stdout",
     "output_type": "stream",
     "text": [
      "Tests Passed\n"
     ]
    }
   ],
   "source": [
    "def get_tensors(loaded_graph):\n",
    "    \"\"\"\n",
    "    Get input, initial state, final state, and probabilities tensor from <loaded_graph>\n",
    "    :param loaded_graph: TensorFlow graph loaded from file\n",
    "    :return: Tuple (InputTensor, InitialStateTensor, FinalStateTensor, ProbsTensor)\n",
    "    \"\"\"\n",
    "    \n",
    "    # TODO: Implement Function\n",
    "    InputTensor =loaded_graph.get_tensor_by_name(\"input:0\")\n",
    "    InitialStateTensor =loaded_graph.get_tensor_by_name(\"initial_state:0\")\n",
    "    FinalStateTensor =loaded_graph.get_tensor_by_name(\"final_state:0\")\n",
    "    ProbsTensor =loaded_graph.get_tensor_by_name(\"probs:0\")\n",
    "    \n",
    "    return(InputTensor, InitialStateTensor, FinalStateTensor, ProbsTensor)\n",
    "\n",
    "\n",
    "\"\"\"\n",
    "DON'T MODIFY ANYTHING IN THIS CELL THAT IS BELOW THIS LINE\n",
    "\"\"\"\n",
    "tests.test_get_tensors(get_tensors)"
   ]
  },
  {
   "cell_type": "markdown",
   "metadata": {
    "colab_type": "text",
    "id": "PJZHgnwxyG6w"
   },
   "source": [
    "### Choose Word\n",
    "Implement the `pick_word()` function to select the next word using `probabilities`."
   ]
  },
  {
   "cell_type": "code",
   "execution_count": 55,
   "metadata": {
    "colab": {
     "autoexec": {
      "startup": false,
      "wait_interval": 0
     },
     "base_uri": "https://localhost:8080/",
     "height": 34
    },
    "colab_type": "code",
    "executionInfo": {
     "elapsed": 956,
     "status": "ok",
     "timestamp": 1533831258467,
     "user": {
      "displayName": "Survesh Chauhan",
      "photoUrl": "//lh6.googleusercontent.com/-F6W-jg0U-Gs/AAAAAAAAAAI/AAAAAAAAAas/KgPXbC169F0/s50-c-k-no/photo.jpg",
      "userId": "117080553420494811795"
     },
     "user_tz": -330
    },
    "id": "T-3Mi37HyG60",
    "outputId": "2535d93f-a07e-4c52-9a36-6d7c5c59c723"
   },
   "outputs": [
    {
     "name": "stdout",
     "output_type": "stream",
     "text": [
      "Tests Passed\n"
     ]
    }
   ],
   "source": [
    "def pick_word(probabilities, int_to_vocab):\n",
    "    \"\"\"\n",
    "    Pick the next word in the generated text\n",
    "    :param probabilities: Probabilites of the next word\n",
    "    :param int_to_vocab: Dictionary of word ids as the keys and words as the values\n",
    "    :return: String of the predicted word\n",
    "    \"\"\"\n",
    "    # TODO: Implement Function\n",
    "    idx = np.random.choice(len(probabilities), p=probabilities) #I suggest adding a bit of randomness using np.random.choice so that a unique word is generated every time\n",
    "    return int_to_vocab[idx]\n",
    "    #return int_to_vocab[np.argmax(probabilities)]\n",
    "\n",
    "\n",
    "\"\"\"\n",
    "DON'T MODIFY ANYTHING IN THIS CELL THAT IS BELOW THIS LINE\n",
    "\"\"\"\n",
    "tests.test_pick_word(pick_word)"
   ]
  },
  {
   "cell_type": "markdown",
   "metadata": {
    "colab_type": "text",
    "id": "vRc-wePXyG7F"
   },
   "source": [
    "## Generate TV Script\n",
    "This will generate the TV script for you.  Set `gen_length` to the length of TV script you want to generate."
   ]
  },
  {
   "cell_type": "code",
   "execution_count": 56,
   "metadata": {
    "colab": {
     "autoexec": {
      "startup": false,
      "wait_interval": 0
     },
     "base_uri": "https://localhost:8080/",
     "height": 323
    },
    "colab_type": "code",
    "executionInfo": {
     "elapsed": 3677,
     "status": "ok",
     "timestamp": 1533831264108,
     "user": {
      "displayName": "Survesh Chauhan",
      "photoUrl": "//lh6.googleusercontent.com/-F6W-jg0U-Gs/AAAAAAAAAAI/AAAAAAAAAas/KgPXbC169F0/s50-c-k-no/photo.jpg",
      "userId": "117080553420494811795"
     },
     "user_tz": -330
    },
    "id": "g6TZkdY7yG7K",
    "outputId": "8bcf13bd-70c7-467d-887b-79f805e72286"
   },
   "outputs": [
    {
     "name": "stdout",
     "output_type": "stream",
     "text": [
      "INFO:tensorflow:Restoring parameters from ./save\n",
      "moe_szyslak: aw, geez, he's got everything but the shriners was up, i'm so stupid.(turns) are you thinking what i'm thinking?\n",
      "glen:(nods) moe, the health inspector?\n",
      "man_at_bar: no, i think i belong to the game in this world of woe: a new town, i don't know nothin'.\n",
      "moe_szyslak: yeah, i don't blame her.\n",
      "carl_carlson: well, you can't take this awful feeling that uh, and no big that'll change your help. you've got a lotta restaurant ya that can leave.\n",
      "lenny_leonard:(quietly) omigod, omigod, omigod! remember you, i'm gonna have to bet you under the.....\n",
      "apu_nahasapeemapetilon:(sad) you're already on your buddy?\n",
      "moe_szyslak: well, i look like this is homer simpson.\n",
      "barney_gumble: if you want i got to hate the old-- moe_szyslak:(laughing) moe_szyslak: how did you think i should be?\n",
      "chief_wiggum: oh, homer, he's a little busy, this is serious. so, it was able to park\n"
     ]
    }
   ],
   "source": [
    "gen_length = 200\n",
    "# homer_simpson, moe_szyslak, or Barney_Gumble\n",
    "prime_word = 'moe_szyslak'\n",
    "\n",
    "\"\"\"\n",
    "DON'T MODIFY ANYTHING IN THIS CELL THAT IS BELOW THIS LINE\n",
    "\"\"\"\n",
    "loaded_graph = tf.Graph()\n",
    "with tf.Session(graph=loaded_graph) as sess:\n",
    "    # Load saved model\n",
    "    loader = tf.train.import_meta_graph(load_dir + '.meta')\n",
    "    loader.restore(sess, load_dir)\n",
    "\n",
    "    # Get Tensors from loaded model\n",
    "    input_text, initial_state, final_state, probs = get_tensors(loaded_graph)\n",
    "\n",
    "    # Sentences generation setup\n",
    "    gen_sentences = [prime_word + ':']\n",
    "    prev_state = sess.run(initial_state, {input_text: np.array([[1]])})\n",
    "\n",
    "    # Generate sentences\n",
    "    for n in range(gen_length):\n",
    "        # Dynamic Input\n",
    "        dyn_input = [[vocab_to_int[word] for word in gen_sentences[-seq_length:]]]\n",
    "        dyn_seq_length = len(dyn_input[0])\n",
    "\n",
    "        # Get Prediction\n",
    "        probabilities, prev_state = sess.run(\n",
    "            [probs, final_state],\n",
    "            {input_text: dyn_input, initial_state: prev_state})\n",
    "        \n",
    "        pred_word = pick_word(probabilities[0][dyn_seq_length-1], int_to_vocab)\n",
    "\n",
    "        gen_sentences.append(pred_word)\n",
    "    \n",
    "    # Remove tokens\n",
    "    tv_script = ' '.join(gen_sentences)\n",
    "    for key, token in token_dict.items():\n",
    "        ending = ' ' if key in ['\\n', '(', '\"'] else ''\n",
    "        tv_script = tv_script.replace(' ' + token.lower(), key)\n",
    "    tv_script = tv_script.replace('\\n ', '\\n')\n",
    "    tv_script = tv_script.replace('( ', '(')\n",
    "        \n",
    "    print(tv_script)"
   ]
  },
  {
   "cell_type": "markdown",
   "metadata": {
    "colab_type": "text",
    "id": "H4Yk-xXByG7Y"
   },
   "source": [
    "# The TV Script is Nonsensical\n",
    "It's ok if the TV script doesn't make any sense.  We trained on less than a megabyte of text.  In order to get good results, you'll have to use a smaller vocabulary or get more data.  Luckily there's more data!  As we mentioned in the beggining of this project, this is a subset of [another dataset](https://www.kaggle.com/wcukierski/the-simpsons-by-the-data).  We didn't have you train on all the data, because that would take too long.  However, you are free to train your neural network on all the data.  After you complete the project, of course.\n",
    "# Submitting This Project\n",
    "When submitting this project, make sure to run all the cells before saving the notebook. Save the notebook file as \"dlnd_tv_script_generation.ipynb\" and save it as a HTML file under \"File\" -> \"Download as\". Include the \"helper.py\" and \"problem_unittests.py\" files in your submission."
   ]
  }
 ],
 "metadata": {
  "accelerator": "GPU",
  "colab": {
   "collapsed_sections": [],
   "default_view": {},
   "name": "dlnd_tv_script_generation_reiher.ipynb",
   "provenance": [],
   "version": "0.3.2",
   "views": {}
  },
  "kernelspec": {
   "display_name": "Python 3",
   "language": "python",
   "name": "python3"
  },
  "language_info": {
   "codemirror_mode": {
    "name": "ipython",
    "version": 3
   },
   "file_extension": ".py",
   "mimetype": "text/x-python",
   "name": "python",
   "nbconvert_exporter": "python",
   "pygments_lexer": "ipython3",
   "version": "3.6.5"
  }
 },
 "nbformat": 4,
 "nbformat_minor": 1
}
